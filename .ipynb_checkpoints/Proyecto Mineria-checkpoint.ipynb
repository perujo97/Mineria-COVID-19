{
 "cells": [
  {
   "cell_type": "markdown",
   "metadata": {},
   "source": [
    "# PROYECTO COVID-19"
   ]
  },
  {
   "cell_type": "markdown",
   "metadata": {},
   "source": [
    "Imports necesarios para el correcto funcionamiento del notebook"
   ]
  },
  {
   "cell_type": "code",
   "execution_count": 51,
   "metadata": {},
   "outputs": [],
   "source": [
    "import cv2\n",
    "import imgaug as ia\n",
    "import imgaug.augmenters as iaa\n",
    "import numpy as np\n",
    "import pandas as pd\n",
    "import matplotlib.pyplot as plt\n",
    "import matplotlib.patches as patches\n",
    "import matplotlib\n",
    "import os\n",
    "import shutil\n",
    "from sklearn.feature_selection import SelectKBest, f_classif\n",
    "from sklearn.linear_model import LogisticRegression\n",
    "from sklearn import metrics\n",
    "from sklearn.model_selection import GridSearchCV\n",
    "%matplotlib inline\n",
    "import time\n",
    "from skimage.feature import hog\n",
    "import re"
   ]
  },
  {
   "cell_type": "markdown",
   "metadata": {},
   "source": [
    "# Primera aproximación del problema"
   ]
  },
  {
   "cell_type": "markdown",
   "metadata": {},
   "source": [
    "Función que permite la lectura de imágenes a partir del directorio en el que estan alamacenadas:"
   ]
  },
  {
   "cell_type": "code",
   "execution_count": 48,
   "metadata": {},
   "outputs": [],
   "source": [
    "def sorted_alphanumeric(data):\n",
    "    convert = lambda text: int(text) if text.isdigit() else text.lower()\n",
    "    alphanum_key = lambda key: [ convert(c) for c in re.split('([0-9]+)', key) ] \n",
    "    return sorted(data, key=alphanum_key)"
   ]
  },
  {
   "cell_type": "code",
   "execution_count": 49,
   "metadata": {},
   "outputs": [],
   "source": [
    "def lectura(subdirectorio,fichero,path=\"Dataset/\"):\n",
    "    if(os.path.exists(path+subdirectorio)):\n",
    "        listaImagenes = os.listdir(path+subdirectorio)\n",
    "        print(sorted_alphanumeric(listaImagenes))\n",
    "        datos = []\n",
    "\n",
    "        for imagen in listaImagenes:\n",
    "            datos.append(cv2.imread(path+subdirectorio+imagen,0))\n",
    "        if(os.path.isfile(path+fichero)):\n",
    "            with open(path+fichero) as fp: \n",
    "                salidas = fp.read().splitlines()\n",
    "            return np.array(datos), np.array(salidas)\n",
    "        else:\n",
    "            print(\"¡Error! El fichero de salidas no existe\")\n",
    "    else:\n",
    "        print(\"¡Error! El directorio no existe\")"
   ]
  },
  {
   "cell_type": "markdown",
   "metadata": {},
   "source": [
    "Definimos la funcion para leer imagenes y aumentar el tamaño de nuestro conjunto de datos, utilizando:\n",
    "- Ruido Gaussiano\n",
    "- Volteando verticalmente"
   ]
  },
  {
   "cell_type": "code",
   "execution_count": 35,
   "metadata": {},
   "outputs": [],
   "source": [
    "def tratamiento(pathImagenes=\"Data/\", dx=256, dy=256, noiseX=5, noiseY=10):\n",
    "    if(os.path.exists(pathImagenes)):\n",
    "        resultado = []\n",
    "        listaImagenes = os.listdir(pathImagenes)\n",
    "        \n",
    "        print(listaImagenes)\n",
    "        #Realizar un data augmentation para aumentar los datos del dataset:\n",
    "        gaussian_noise = iaa.AdditiveGaussianNoise(noiseX, noiseY)\n",
    "        flip_vr=iaa.Fliplr(p=1.0)\n",
    "\n",
    "        for imagen in listaImagenes:\n",
    "            Xray = cv2.resize(cv2.imread(pathImagenes+imagen,0),(dx, dy))\n",
    "            resultado.append(Xray)\n",
    "            resultado.append(gaussian_noise.augment_image(Xray))\n",
    "            resultado.append(flip_vr.augment_image(Xray))\n",
    "\n",
    "        return resultado\n",
    "    else:\n",
    "        print(\"¡Error! El path especificado no ha sido encontrado\")\n",
    "        return None"
   ]
  },
  {
   "cell_type": "markdown",
   "metadata": {},
   "source": [
    "Definimos una funcion para hacer el particionamiento de los datos en train, test y val"
   ]
  },
  {
   "cell_type": "code",
   "execution_count": 21,
   "metadata": {},
   "outputs": [],
   "source": [
    "def particionamiento(listaDatos, train_percent=.6, validate_percent=.2, seed=0):\n",
    "    np.random.seed(seed)\n",
    "    listaTrain=[]\n",
    "    listaTest=[]\n",
    "    listaVal=[]\n",
    "    y_train = []\n",
    "    y_test = []\n",
    "    y_val = []\n",
    "    for i,lista in enumerate(listaDatos):\n",
    "        lista = np.array(lista)\n",
    "        perm = np.random.permutation(len(lista))\n",
    "        m = len(lista)\n",
    "        train_end = int(train_percent * m)\n",
    "        val_end = int(validate_percent * m) + train_end\n",
    "        train = lista[perm[:train_end]]\n",
    "        val = lista[perm[train_end:val_end]]\n",
    "        test = lista[perm[val_end:]]\n",
    "        listaTrain.extend(train)\n",
    "        listaTest.extend(test)\n",
    "        listaVal.extend(val)\n",
    "        y_train.extend(list([i]*len(train)))\n",
    "        y_test.extend(list([i]*len(test)))\n",
    "        y_val.extend(list([i]*len(val)))\n",
    "    \n",
    "    return listaTrain, listaTest, listaVal, y_train, y_test, y_val"
   ]
  },
  {
   "cell_type": "markdown",
   "metadata": {},
   "source": [
    "Esta función permite almacenar las imágenes leidas y tratasdas durante la fase de train:"
   ]
  },
  {
   "cell_type": "code",
   "execution_count": 22,
   "metadata": {},
   "outputs": [],
   "source": [
    "def almacenaImagenes(train,test,val,y_train,y_test,y_val,path=\"Dataset/\"):\n",
    "    if(os.path.exists(path)):\n",
    "        try:\n",
    "            shutil.rmtree(path,ignore_errors=True)\n",
    "            \n",
    "        except OSError as e:\n",
    "            print(\"¡Error! No se ha podido eliminar el directorio\")\n",
    "    \n",
    "    os.mkdir(path, 0o7777)\n",
    "    os.mkdir(path+\"train/\",0o7777)\n",
    "    os.mkdir(path+\"val/\",0o7777)\n",
    "    os.mkdir(path+\"test/\",0o7777)\n",
    "    \n",
    "    f = open(path+\"train.txt\", \"w\")\n",
    "    for i,imagen in enumerate(train):\n",
    "        cv2.imwrite(path+\"train/Train-\"+str(i)+\".png\",imagen)\n",
    "        f.write(str(y_train[i])+\"\\n\")\n",
    "    f.close()\n",
    "    \n",
    "    f = open(path+\"test.txt\", \"w\")\n",
    "    for i,imagen in enumerate(test):\n",
    "        cv2.imwrite(path+\"test/Test-\"+str(i)+\".png\",imagen)\n",
    "        f.write(str(y_test[i])+\"\\n\")\n",
    "    f.close()\n",
    "    \n",
    "    f = open(path+\"val.txt\", \"w\")\n",
    "    for i,imagen in enumerate(val):\n",
    "        cv2.imwrite(path+\"val/Val-\"+str(i)+\".png\",imagen)\n",
    "        f.write(str(y_val[i])+\"\\n\")\n",
    "    f.close()"
   ]
  },
  {
   "cell_type": "code",
   "execution_count": 23,
   "metadata": {},
   "outputs": [],
   "source": [
    "def clasifica(clasificador, df, Xtrain, Xtest, Xval, y_train, y_test, y_val, score=[0], norm=False):\n",
    "\n",
    "    if(norm == True):\n",
    "        Xtrain = Xtrain/255\n",
    "        Xtest = Xtest/255\n",
    "        Xval = Xval/255\n",
    "\n",
    "    accTrain=[]\n",
    "    accTest=[]\n",
    "    accVal=[]\n",
    "    start_time = time.time()\n",
    "\n",
    "    for i,k in enumerate(score):\n",
    "        #Seleccionar aquellos pixeles que tengan un Score mayor o igual al establecido\n",
    "        pixelesSelec = df[df.Score >= k]['Pixeles'].values.tolist()\n",
    "\n",
    "        #Entrenar el modelo con los ejemplos con el nuevo numero de caracteristicas:\n",
    "        #Generar el nuevo conjunto de Train:\n",
    "        X_train_tratada = Xtrain[:,pixelesSelec]\n",
    "\n",
    "        #Entrenar el modelo:\n",
    "        clasificador.fit(X_train_tratada,y_train)\n",
    "\n",
    "        #Obtener la predcción en train y el accuracy:\n",
    "        predictTrain = clasificador.predict(X_train_tratada)\n",
    "        accTrain.append(metrics.accuracy_score(predictTrain,y_train)*100)\n",
    "\n",
    "        #Generar el nuevo conjunto de Val:\n",
    "        X_val_tratada = Xval[:,pixelesSelec]\n",
    "\n",
    "        #Obtener la predcción en val y el accuracy:\n",
    "        predictVal = clasificador.predict(X_val_tratada)\n",
    "        accVal.append(metrics.accuracy_score(predictVal,y_val)*100)\n",
    "\n",
    "        #Generar el nuevo conjunto de Test:\n",
    "        X_test_tratada = Xtest[:,pixelesSelec]\n",
    "\n",
    "        #Obtener la predcción en test y el accuracy:\n",
    "        predictTest = clasificador.predict(X_test_tratada)\n",
    "        accTest.append(metrics.accuracy_score(predictTest,y_test)*100)\n",
    "\n",
    "        print('El rendimiento en entrenamiento con {} variables para un score de {} es de {}%'.format(len(pixelesSelec),k,accTrain[i]))\n",
    "        print('El rendimiento en validacion con {} variables para un score de {}  es de {}%'.format(len(pixelesSelec),k,accVal[i]))\n",
    "        print('El rendimiento en test con {} variables para un score de {}  es de {}%'.format(len(pixelesSelec),k,accTest[i]))\n",
    "\n",
    "    tiempo_ejecucion = time.time() - start_time\n",
    "    print(\"--- %s seconds ---\" % (tiempo_ejecucion))"
   ]
  },
  {
   "cell_type": "markdown",
   "metadata": {},
   "source": [
    "Esta función genera la matriz de confusión para un conjunto de datos de entrada y muestra los valores de precisión, recall y f-score"
   ]
  },
  {
   "cell_type": "code",
   "execution_count": 24,
   "metadata": {},
   "outputs": [],
   "source": [
    "def genera_confusion(X,y):\n",
    "    if(X == None or y == None):\n",
    "        print(\"¡Error en los parámetros introducidos!\")\n",
    "        return\n",
    "    \n",
    "    print(\"********************************* Plot de matriz de confusión *********************************\")\n",
    "    class_names = ['COVID-19','Normal','Viral']\n",
    "    titles_options = [(\"Matriz de confusion sin normalizar\", None),\n",
    "                      (\"Matriz de confusion normalizada\", 'true')]\n",
    "    for title, normalize in titles_options:\n",
    "        disp = metrics.plot_confusion_matrix(regresion, X_test_tratada, y_test,\n",
    "                                     display_labels=class_names,\n",
    "                                     cmap=plt.cm.Blues,\n",
    "                                     normalize=normalize)\n",
    "        disp.ax_.set_title(title)\n",
    "        print(title)\n",
    "        print(disp.confusion_matrix)\n",
    "    plt.show()\n",
    "    print(\"********************************* Valores de precisión, recall y f-score *********************************\")\n",
    "    print(metrics.classification_report(y_test, regresion.predict(X_test_tratada)))"
   ]
  },
  {
   "cell_type": "markdown",
   "metadata": {},
   "source": [
    "Función que permite copiar ficheros entre directorios"
   ]
  },
  {
   "cell_type": "code",
   "execution_count": 25,
   "metadata": {},
   "outputs": [],
   "source": [
    "def copiaImagenes(src='ImagenesCovidExtra/', dst='Data/COVID-19/'):\n",
    "    if(not os.path.exists(src)):\n",
    "        print(\"¡Error! El directorio de origen no existe\")\n",
    "        return\n",
    "    elif(not os.path.exists(src)):\n",
    "        print(\"¡Error! El directorio de destino no existe\")\n",
    "        return\n",
    "    print(\"Copiando ficheros de \"+src+\" a \"+dst)\n",
    "    src_files = os.listdir(src)\n",
    "    for file_name in src_files:\n",
    "        full_file_name = os.path.join(src, file_name)\n",
    "        if os.path.isfile(full_file_name):\n",
    "            shutil.copy(full_file_name, dst)"
   ]
  },
  {
   "cell_type": "markdown",
   "metadata": {},
   "source": [
    "Celda principal para la ejecución de las pruebas de la primera aproximación"
   ]
  },
  {
   "cell_type": "code",
   "execution_count": 26,
   "metadata": {
    "scrolled": true
   },
   "outputs": [
    {
     "ename": "KeyboardInterrupt",
     "evalue": "",
     "output_type": "error",
     "traceback": [
      "\u001b[1;31m---------------------------------------------------------------------------\u001b[0m",
      "\u001b[1;31mKeyboardInterrupt\u001b[0m                         Traceback (most recent call last)",
      "\u001b[1;32m<ipython-input-26-a4924c888e2c>\u001b[0m in \u001b[0;36m<module>\u001b[1;34m\u001b[0m\n\u001b[0;32m     16\u001b[0m \u001b[0mlistaCOVID\u001b[0m \u001b[1;33m=\u001b[0m \u001b[0mtratamiento\u001b[0m\u001b[1;33m(\u001b[0m\u001b[0mpathCovid\u001b[0m\u001b[1;33m,\u001b[0m\u001b[0mdx\u001b[0m\u001b[1;33m,\u001b[0m\u001b[0mdy\u001b[0m\u001b[1;33m)\u001b[0m\u001b[1;33m\u001b[0m\u001b[1;33m\u001b[0m\u001b[0m\n\u001b[0;32m     17\u001b[0m \u001b[0mlistaNORMAL\u001b[0m \u001b[1;33m=\u001b[0m \u001b[0mtratamiento\u001b[0m\u001b[1;33m(\u001b[0m\u001b[0mpathNormal\u001b[0m\u001b[1;33m,\u001b[0m\u001b[0mdx\u001b[0m\u001b[1;33m,\u001b[0m\u001b[0mdy\u001b[0m\u001b[1;33m)\u001b[0m\u001b[1;33m\u001b[0m\u001b[1;33m\u001b[0m\u001b[0m\n\u001b[1;32m---> 18\u001b[1;33m \u001b[0mlistaVIRAL\u001b[0m \u001b[1;33m=\u001b[0m \u001b[0mtratamiento\u001b[0m\u001b[1;33m(\u001b[0m\u001b[0mpathViral\u001b[0m\u001b[1;33m,\u001b[0m\u001b[0mdx\u001b[0m\u001b[1;33m,\u001b[0m\u001b[0mdy\u001b[0m\u001b[1;33m)\u001b[0m\u001b[1;33m\u001b[0m\u001b[1;33m\u001b[0m\u001b[0m\n\u001b[0m\u001b[0;32m     19\u001b[0m \u001b[1;33m\u001b[0m\u001b[0m\n\u001b[0;32m     20\u001b[0m \u001b[1;31m#Generamos el particionamiento\u001b[0m\u001b[1;33m\u001b[0m\u001b[1;33m\u001b[0m\u001b[1;33m\u001b[0m\u001b[0m\n",
      "\u001b[1;32m<ipython-input-20-32ed85bc1e8d>\u001b[0m in \u001b[0;36mtratamiento\u001b[1;34m(pathImagenes, dx, dy, noiseX, noiseY)\u001b[0m\n\u001b[0;32m      9\u001b[0m \u001b[1;33m\u001b[0m\u001b[0m\n\u001b[0;32m     10\u001b[0m         \u001b[1;32mfor\u001b[0m \u001b[0mimagen\u001b[0m \u001b[1;32min\u001b[0m \u001b[0mlistaImagenes\u001b[0m\u001b[1;33m:\u001b[0m\u001b[1;33m\u001b[0m\u001b[1;33m\u001b[0m\u001b[0m\n\u001b[1;32m---> 11\u001b[1;33m             \u001b[0mXray\u001b[0m \u001b[1;33m=\u001b[0m \u001b[0mcv2\u001b[0m\u001b[1;33m.\u001b[0m\u001b[0mresize\u001b[0m\u001b[1;33m(\u001b[0m\u001b[0mcv2\u001b[0m\u001b[1;33m.\u001b[0m\u001b[0mimread\u001b[0m\u001b[1;33m(\u001b[0m\u001b[0mpathImagenes\u001b[0m\u001b[1;33m+\u001b[0m\u001b[0mimagen\u001b[0m\u001b[1;33m,\u001b[0m\u001b[1;36m0\u001b[0m\u001b[1;33m)\u001b[0m\u001b[1;33m,\u001b[0m\u001b[1;33m(\u001b[0m\u001b[0mdx\u001b[0m\u001b[1;33m,\u001b[0m \u001b[0mdy\u001b[0m\u001b[1;33m)\u001b[0m\u001b[1;33m)\u001b[0m\u001b[1;33m\u001b[0m\u001b[1;33m\u001b[0m\u001b[0m\n\u001b[0m\u001b[0;32m     12\u001b[0m             \u001b[0mresultado\u001b[0m\u001b[1;33m.\u001b[0m\u001b[0mappend\u001b[0m\u001b[1;33m(\u001b[0m\u001b[0mXray\u001b[0m\u001b[1;33m)\u001b[0m\u001b[1;33m\u001b[0m\u001b[1;33m\u001b[0m\u001b[0m\n\u001b[0;32m     13\u001b[0m             \u001b[0mresultado\u001b[0m\u001b[1;33m.\u001b[0m\u001b[0mappend\u001b[0m\u001b[1;33m(\u001b[0m\u001b[0mgaussian_noise\u001b[0m\u001b[1;33m.\u001b[0m\u001b[0maugment_image\u001b[0m\u001b[1;33m(\u001b[0m\u001b[0mXray\u001b[0m\u001b[1;33m)\u001b[0m\u001b[1;33m)\u001b[0m\u001b[1;33m\u001b[0m\u001b[1;33m\u001b[0m\u001b[0m\n",
      "\u001b[1;31mKeyboardInterrupt\u001b[0m: "
     ]
    }
   ],
   "source": [
    "#Constantes del problema:\n",
    "pathCovid = \"Data/COVID-19/\"\n",
    "pathNormal = \"Data/NORMAL/\"\n",
    "pathViral = \"Data/Viral Pneumonia/\" \n",
    "pathImagenesExtra = \"ImagenesCovidExtra/\"\n",
    "pathImagenes= \"Dataset/\"\n",
    "fichero_train = \"train.txt\"\n",
    "fichero_val = \"val.txt\"\n",
    "fichero_test = \"test.txt\"\n",
    "dx=256 #Tamaño de las imágenes en eje x\n",
    "dy=256 #Tamaño de las imágenes en eje y\n",
    "###############################################################################################################################\n",
    "\n",
    "#Pretratamiento de imagenes y almacenamiento de las mismas:\n",
    "#Realizamos el tratamiento de las imágenes:\n",
    "listaCOVID = tratamiento(pathCovid,dx,dy)\n",
    "listaNORMAL = tratamiento(pathNormal,dx,dy)\n",
    "listaVIRAL = tratamiento(pathViral,dx,dy)\n",
    "\n",
    "#Generamos el particionamiento\n",
    "listaDatos = [listaCOVID, listaNORMAL, listaVIRAL] \n",
    "train, test, val, y_train, y_test, y_val = particionamiento(listaDatos)\n",
    "\n",
    "#Almacenamos las imágenes en disco\n",
    "almacenaImagenes(train,test,val,y_train,y_test,y_val,pathImagenes)\n",
    "###############################################################################################################################\n",
    "\n",
    "#Lectura de las imágenes desde disco:\n",
    "train, y_train = lectura(\"train/\",fichero_train,pathImagenes)\n",
    "val, y_val = lectura(\"val/\",fichero_val,pathImagenes)\n",
    "test, y_test = lectura(\"test/\",fichero_test,pathImagenes)\n",
    "\n",
    "###############################################################################################################################\n",
    "\n",
    "#Dejamos las imágenes en 2D para la selección de características:\n",
    "Xtrain = np.reshape(train, (train.shape[0], dx*dy))\n",
    "Xtest = np.reshape(test, (test.shape[0], dx*dy))\n",
    "Xval = np.reshape(val, (val.shape[0], dx*dy))\n",
    "\n",
    "#Comprobación de las características y selección:\n",
    "Kbest = SelectKBest(f_classif) #Generamos el objeto SelectKBest\n",
    "Kbest.fit(Xtrain, y_train) #Entrenar el modelo\n",
    "numPixel = list(range(dx*dy)) #Generar el listado de número de píxeles\n",
    "\n",
    "#Generar un dataframe donde la primera columna sean el número de pixeles o características y la segundo el score:\n",
    "df = pd.DataFrame({'Pixeles': numPixel,'Score': Kbest.scores_.tolist()})\n",
    "#Generar un plot de barras para mostrar la información:\n",
    "plot = df.Score.plot(kind = 'hist', bins=40, title='Selección de Kbest')\n",
    "plot.set_xlabel(\"Score\")\n",
    "plot.set_ylabel(\"Frecuencia\")\n",
    "\n",
    "###############################################################################################################################\n",
    "\n",
    "##Pruebas##\n",
    "\n",
    "#Probamos a clasificar con todas las características y con lo parámetros por defecto del clasificador:\n",
    "print(\"********************************* Prueba clasificador con todas las características ********************************* \")\n",
    "clasificador = LogisticRegression(solver='liblinear')\n",
    "clasifica(clasificador, df, Xtrain, Xtest, Xval, y_train, y_test, y_val, score=[0], norm=False)\n",
    "\n",
    "#Probamos a clasificar normalizando los datos de entrada:\n",
    "print(\"********************************* Prueba clasificador con todas las características normalizando ********************************* \")\n",
    "clasificador = LogisticRegression(solver='liblinear')\n",
    "clasifica(clasificador, df, Xtrain, Xtest, Xval, y_train, y_test, y_val, score=[0], norm=True)\n",
    "\n",
    "#Probamos con diferentes valores de score:\n",
    "print(\"********************************* Prueba clasificador con varios valores de score ********************************* \")\n",
    "clasificador = LogisticRegression(solver='liblinear')\n",
    "clasifica(clasificador, df, Xtrain, Xtest, Xval, y_train, y_test, y_val, score=[20,30,45,60], norm=False)\n",
    "\n",
    "#Probamos con diferentes valores de score y normalizando los datos:\n",
    "print(\"********************************* Prueba clasificador con varios valores de score normalizando ********************************* \")\n",
    "clasificador = LogisticRegression(solver='liblinear')\n",
    "clasifica(clasificador, df, Xtrain, Xtest, Xval, y_train, y_test, y_val, score=[20,30,45,60], norm=True)\n",
    "\n",
    "#Probamos para un valor de score de 60 y generamos las matrices de confusión:\n",
    "print(\"********************************* Prueba clasificador con score 60 y normalizando ********************************* \")\n",
    "clasificador = LogisticRegression(solver='liblinear')\n",
    "clasifica(clasificador, df, Xtrain, Xtest, Xval, y_train, y_test, y_val, score=[60], norm=True)\n",
    "genera_confusion(Xtrain,y_train)\n",
    "genera_confusion(Xval,y_val)\n",
    "genera_confusion(Xtest,y_test)\n",
    "\n",
    "#Hacemos un gridSearch para encontrar los mejores valores de los parámetros para la regresión logística:\n",
    "print(\"********************************* GridSearch para score 60 y diferentes algoritmos de optimización y normalización ********************************* \")\n",
    "pixelesSelec = df[df.Score >= 60]['Pixeles'].values.tolist()\n",
    "X_train_tratada = Xtrain[:,pixelesSelec]\n",
    "params={'solver':['newton-cg','sag', 'saga', 'lbfgs'], 'penalty':['l1', 'l2', 'elasticnet'], 'C':[1,10,100,1000]}\n",
    "cv=5\n",
    "clf = GridSearchCV(LogisticRegression(), params, cv=cv, scoring='accuracy', n_jobs=-1)\n",
    "clf.fit(X_train_tratada,y_train)\n",
    "print(\"EL mejor resultado obtenido ha sido: \"+clf.best_score_+\", los mejores parámetros obtenidos son: \"+clf.best_params_)\n",
    "clasificador = LogisticRegression(solver='saga',penalty=\"l1\",C=1)\n",
    "clasifica(clasificador, df, Xtrain, Xtest, Xval, y_train, y_test, y_val, score=[60], norm=True)\n",
    "\n",
    "#Hacemos otros gridSearch de nuevo pero para liblinear ya que hemos comprobado que es la mejor función de optimización para este problema:\n",
    "print(\"********************************* GridSearch para score 60 y diferentes algoritmos de normalización  ********************************* \")\n",
    "params={'solver':['liblinear'], 'penalty':['l1', 'l2', 'elasticnet'], 'C':[10,100,1000]}\n",
    "clf = GridSearchCV(LogisticRegression(), params, cv=cv, scoring='accuracy', n_jobs=-1)\n",
    "clf.fit(X_train_tratada,y_train)\n",
    "print(\"EL mejor resultado obtenido ha sido: \"+clf.best_score_+\", los mejores parámetros obtenidos son: \"+clf.best_params_)\n",
    "clasificador = LogisticRegression(solver='liblinear',penalty=\"l1\",C=100)\n",
    "clasifica(clasificador, df, Xtrain, Xtest, Xval, y_train, y_test, y_val, score=[60], norm=True)\n",
    "\n",
    "#Añadimos nuevos ejemplos para COVID-19 y probamos con la mejor configuración obtenida:\n",
    "print(\"********************************* Prueba clasificador con más ejemplos en COVID-19 ********************************* \")\n",
    "copiaImagenes(pathImagenesExtra,pathCovid)\n",
    "clasificador = LogisticRegression(solver='liblinear',penalty=\"l1\",C=100)\n",
    "clasifica(clasificador, df, Xtrain, Xtest, Xval, y_train, y_test, y_val, score=[60], norm=True)\n",
    "genera_confusion(Xtrain,y_train)\n",
    "genera_confusion(Xval,y_val)\n",
    "genera_confusion(Xtest,y_test)"
   ]
  },
  {
   "cell_type": "markdown",
   "metadata": {},
   "source": [
    "# Segunda aproximación del problema"
   ]
  },
  {
   "cell_type": "code",
   "execution_count": 27,
   "metadata": {},
   "outputs": [],
   "source": [
    "def obtener_caracteristicas_hog(X):\n",
    "    n = X.shape[0]\n",
    "    \n",
    "    hog_descriptor = np.empty((n,2048))\n",
    "    for i in range(0,n):\n",
    "        fd = hog(X[i], orientations=8, pixels_per_cell=(16, 16),cells_per_block=(1, 1), visualize=False, multichannel=False)\n",
    "        hog_descriptor[i] = fd.reshape(1,-1)\n",
    "    return hog_descriptor"
   ]
  },
  {
   "cell_type": "code",
   "execution_count": 33,
   "metadata": {},
   "outputs": [],
   "source": [
    "def clasifica_segunda(clasificador, Xtrain, Xtest, Xval, y_train, y_test, y_val):\n",
    "    \n",
    "    accTrain=[]\n",
    "    accTest=[]\n",
    "    accVal=[]\n",
    "    start_time = time.time()\n",
    "\n",
    "    #Entrenar el modelo:\n",
    "    clasificador.fit(Xtrain,y_train)\n",
    "\n",
    "    #Obtener la predcción en train y el accuracy:\n",
    "    predictTrain = clasificador.predict(Xtrain)\n",
    "    accTrain.append(metrics.accuracy_score(predictTrain,y_train)*100)\n",
    "\n",
    "    #Obtener la predcción en val y el accuracy:\n",
    "    predictVal = clasificador.predict(Xval)\n",
    "    accVal.append(metrics.accuracy_score(predictVal,y_val)*100)\n",
    "\n",
    "    #Obtener la predcción en test y el accuracy:\n",
    "    predictTest = clasificador.predict(Xtest)\n",
    "    accTest.append(metrics.accuracy_score(predictTest,y_test)*100)\n",
    "\n",
    "    print('El rendimiento en entrenamiento es de {}%'.format(accTrain[0]))\n",
    "    print('El rendimiento en validacion es de {}%'.format(accVal[0]))\n",
    "    print('El rendimiento en test es de {}%'.format(accTest[0]))\n",
    "\n",
    "    tiempo_ejecucion = time.time() - start_time\n",
    "    print(\"--- %s seconds ---\" % (tiempo_ejecucion))"
   ]
  },
  {
   "cell_type": "code",
   "execution_count": 34,
   "metadata": {},
   "outputs": [
    {
     "name": "stdout",
     "output_type": "stream",
     "text": [
      "********************************* Prueba clasificador con todas las características de HOG ********************************* \n",
      "El rendimiento en entrenamiento es de 74.56006120887528%\n",
      "El rendimiento en validacion es de 33.46727898966705%\n",
      "El rendimiento en test es de 31.51862464183381%\n",
      "--- 13.802978754043579 seconds ---\n"
     ]
    }
   ],
   "source": [
    "#Primera prueba de clasificación utilizando todas las características disponibles:\n",
    "# pathCovid = \"Data/COVID-19/\"\n",
    "# pathNormal = \"Data/NORMAL/\"\n",
    "# pathViral = \"Data/Viral Pneumonia/\" \n",
    "# pathImagenes= \"Dataset/\"\n",
    "# fichero_train= \"train.txt\"\n",
    "# fichero_test= \"test.txt\"\n",
    "# fichero_val= \"val.txt\"\n",
    "# dx=256 \n",
    "# dy=256\n",
    "\n",
    "# train, y_train = lectura(\"train/\",fichero_train,pathImagenes)\n",
    "# val, y_val = lectura(\"val/\",fichero_val,pathImagenes)\n",
    "# test, y_test = lectura(\"test/\",fichero_test,pathImagenes)\n",
    "\n",
    "# X_train = obtener_caracteristicas_hog(train)\n",
    "# X_val = obtener_caracteristicas_hog(val)\n",
    "# X_test = obtener_caracteristicas_hog(test)\n",
    "\n",
    "##Pruebas##\n",
    "\n",
    "#Probamos a clasificar con todas las características y con lo parámetros por defecto del clasificador:\n",
    "print(\"********************************* Prueba clasificador con todas las características de HOG ********************************* \")\n",
    "clasificador = LogisticRegression(solver='liblinear')\n",
    "clasifica_segunda(clasificador, X_train, X_test, X_val, y_train, y_test, y_val)"
   ]
  },
  {
   "cell_type": "code",
   "execution_count": 36,
   "metadata": {},
   "outputs": [
    {
     "name": "stdout",
     "output_type": "stream",
     "text": [
      "['COVID-19 (1).png', 'COVID-19 (10).png', 'COVID-19 (100).png', 'COVID-19 (101).png', 'COVID-19 (102).png', 'COVID-19 (103).png', 'COVID-19 (104).png', 'COVID-19 (105).png', 'COVID-19 (106).png', 'COVID-19 (107).png', 'COVID-19 (108).png', 'COVID-19 (109).png', 'COVID-19 (11).png', 'COVID-19 (110).png', 'COVID-19 (111).png', 'COVID-19 (112).png', 'COVID-19 (113).png', 'COVID-19 (114).png', 'COVID-19 (115).png', 'COVID-19 (116).png', 'COVID-19 (117).png', 'COVID-19 (118).png', 'COVID-19 (119).png', 'COVID-19 (12).png', 'COVID-19 (120).png', 'COVID-19 (121).png', 'COVID-19 (122).png', 'COVID-19 (123).png', 'COVID-19 (124).png', 'COVID-19 (125).png', 'COVID-19 (126).png', 'COVID-19 (127).png', 'COVID-19 (128).png', 'COVID-19 (129).png', 'COVID-19 (13).png', 'COVID-19 (130).png', 'COVID-19 (131).png', 'COVID-19 (132).png', 'COVID-19 (133).png', 'COVID-19 (14).png', 'COVID-19 (15).png', 'COVID-19 (16).png', 'COVID-19 (17).png', 'COVID-19 (18).png', 'COVID-19 (19).png', 'COVID-19 (2).png', 'COVID-19 (20).png', 'COVID-19 (21).png', 'COVID-19 (22).png', 'COVID-19 (23).png', 'COVID-19 (24).png', 'COVID-19 (25).png', 'COVID-19 (26).png', 'COVID-19 (27).png', 'COVID-19 (28).png', 'COVID-19 (29).png', 'COVID-19 (3).png', 'COVID-19 (30).png', 'COVID-19 (31).png', 'COVID-19 (32).png', 'COVID-19 (33).png', 'COVID-19 (34).png', 'COVID-19 (35).png', 'COVID-19 (36).png', 'COVID-19 (37).png', 'COVID-19 (38).png', 'COVID-19 (39).png', 'COVID-19 (4).png', 'COVID-19 (40).png', 'COVID-19 (41).png', 'COVID-19 (42).png', 'COVID-19 (43).png', 'COVID-19 (44).png', 'COVID-19 (45).png', 'COVID-19 (46).png', 'COVID-19 (47).png', 'COVID-19 (48).png', 'COVID-19 (49).png', 'COVID-19 (5).png', 'COVID-19 (50).png', 'COVID-19 (51).png', 'COVID-19 (52).png', 'COVID-19 (53).png', 'COVID-19 (54).png', 'COVID-19 (55).png', 'COVID-19 (56).png', 'COVID-19 (57).png', 'COVID-19 (58).png', 'COVID-19 (59).png', 'COVID-19 (6).png', 'COVID-19 (60).png', 'COVID-19 (61).png', 'COVID-19 (62).png', 'COVID-19 (63).png', 'COVID-19 (64).png', 'COVID-19 (65).png', 'COVID-19 (66).png', 'COVID-19 (67).png', 'COVID-19 (68).png', 'COVID-19 (69).png', 'COVID-19 (7).png', 'COVID-19 (70).png', 'COVID-19 (71).png', 'COVID-19 (72).png', 'COVID-19 (73).png', 'COVID-19 (74).png', 'COVID-19 (75).png', 'COVID-19 (76).png', 'COVID-19 (77).png', 'COVID-19 (78).png', 'COVID-19 (79).png', 'COVID-19 (8).png', 'COVID-19 (80).png', 'COVID-19 (81).png', 'COVID-19 (82).png', 'COVID-19 (83).png', 'COVID-19 (84).png', 'COVID-19 (85).png', 'COVID-19 (86).png', 'COVID-19 (87).png', 'COVID-19 (88).png', 'COVID-19 (89).png', 'COVID-19 (9).png', 'COVID-19 (90).png', 'COVID-19 (91).png', 'COVID-19 (92).png', 'COVID-19 (93).png', 'COVID-19 (94).png', 'COVID-19 (95).png', 'COVID-19 (96).png', 'COVID-19 (97).png', 'COVID-19 (98).png', 'COVID-19 (99).png', 'COVID-19(134).png', 'COVID-19(135).png', 'COVID-19(136).png', 'COVID-19(137).png', 'COVID-19(138).png', 'COVID-19(139).png', 'COVID-19(140).png', 'COVID-19(141).png', 'COVID-19(142).png', 'COVID-19(143).png', 'COVID-19(144).png', 'COVID-19(145).png', 'COVID-19(146).png', 'COVID-19(147).png', 'COVID-19(148).png', 'COVID-19(149).png', 'COVID-19(150).png', 'COVID-19(151).png', 'COVID-19(152).png', 'COVID-19(153).png', 'COVID-19(154).png', 'COVID-19(155).png', 'COVID-19(156).png', 'COVID-19(157).png', 'COVID-19(158).png', 'COVID-19(159).png', 'COVID-19(160).png', 'COVID-19(161).png', 'COVID-19(162).png', 'COVID-19(163).png', 'COVID-19(164).png', 'COVID-19(165).png', 'COVID-19(166).png', 'COVID-19(167).png', 'COVID-19(168).png', 'COVID-19(169).png', 'COVID-19(170).png', 'COVID-19(171).png', 'COVID-19(172).png', 'COVID-19(173).png', 'COVID-19(174).png', 'COVID-19(175).png', 'COVID-19(176).png', 'COVID-19(177).png', 'COVID-19(178).png', 'COVID-19(179).png', 'COVID-19(180).png', 'COVID-19(181).png', 'COVID-19(182).png', 'COVID-19(183).png', 'COVID-19(184).png', 'COVID-19(185).png', 'COVID-19(186).png', 'COVID-19(187).png', 'COVID-19(188).png', 'COVID-19(189).png', 'COVID-19(190).png', 'COVID-19(191).png', 'COVID-19(192).png', 'COVID-19(193).png', 'COVID-19(194).png', 'COVID-19(195).png', 'COVID-19(196).png', 'COVID-19(197).png', 'COVID-19(198).png', 'COVID-19(199).png', 'COVID-19(200).png', 'COVID-19(201).png', 'COVID-19(202).png', 'COVID-19(203).png', 'COVID-19(204).png', 'COVID-19(205).png', 'COVID-19(206).png', 'COVID-19(207).png', 'COVID-19(208).png', 'COVID-19(209).png', 'COVID-19(210).png', 'COVID-19(211).png', 'COVID-19(212).png', 'COVID-19(213).png', 'COVID-19(214).png', 'COVID-19(215).png', 'COVID-19(216).png', 'COVID-19(217).png', 'COVID-19(218).png', 'COVID-19(219).png']\n"
     ]
    }
   ],
   "source": [
    "listaCOVID = tratamiento(pathCovid,dx,dy)"
   ]
  },
  {
   "cell_type": "code",
   "execution_count": 52,
   "metadata": {},
   "outputs": [
    {
     "name": "stdout",
     "output_type": "stream",
     "text": [
      "['Train-0.png', 'Train-1.png', 'Train-2.png', 'Train-3.png', 'Train-4.png', 'Train-5.png', 'Train-6.png', 'Train-7.png', 'Train-8.png', 'Train-9.png', 'Train-10.png', 'Train-11.png', 'Train-12.png', 'Train-13.png', 'Train-14.png', 'Train-15.png', 'Train-16.png', 'Train-17.png', 'Train-18.png', 'Train-19.png', 'Train-20.png', 'Train-21.png', 'Train-22.png', 'Train-23.png', 'Train-24.png', 'Train-25.png', 'Train-26.png', 'Train-27.png', 'Train-28.png', 'Train-29.png', 'Train-30.png', 'Train-31.png', 'Train-32.png', 'Train-33.png', 'Train-34.png', 'Train-35.png', 'Train-36.png', 'Train-37.png', 'Train-38.png', 'Train-39.png', 'Train-40.png', 'Train-41.png', 'Train-42.png', 'Train-43.png', 'Train-44.png', 'Train-45.png', 'Train-46.png', 'Train-47.png', 'Train-48.png', 'Train-49.png', 'Train-50.png', 'Train-51.png', 'Train-52.png', 'Train-53.png', 'Train-54.png', 'Train-55.png', 'Train-56.png', 'Train-57.png', 'Train-58.png', 'Train-59.png', 'Train-60.png', 'Train-61.png', 'Train-62.png', 'Train-63.png', 'Train-64.png', 'Train-65.png', 'Train-66.png', 'Train-67.png', 'Train-68.png', 'Train-69.png', 'Train-70.png', 'Train-71.png', 'Train-72.png', 'Train-73.png', 'Train-74.png', 'Train-75.png', 'Train-76.png', 'Train-77.png', 'Train-78.png', 'Train-79.png', 'Train-80.png', 'Train-81.png', 'Train-82.png', 'Train-83.png', 'Train-84.png', 'Train-85.png', 'Train-86.png', 'Train-87.png', 'Train-88.png', 'Train-89.png', 'Train-90.png', 'Train-91.png', 'Train-92.png', 'Train-93.png', 'Train-94.png', 'Train-95.png', 'Train-96.png', 'Train-97.png', 'Train-98.png', 'Train-99.png', 'Train-100.png', 'Train-101.png', 'Train-102.png', 'Train-103.png', 'Train-104.png', 'Train-105.png', 'Train-106.png', 'Train-107.png', 'Train-108.png', 'Train-109.png', 'Train-110.png', 'Train-111.png', 'Train-112.png', 'Train-113.png', 'Train-114.png', 'Train-115.png', 'Train-116.png', 'Train-117.png', 'Train-118.png', 'Train-119.png', 'Train-120.png', 'Train-121.png', 'Train-122.png', 'Train-123.png', 'Train-124.png', 'Train-125.png', 'Train-126.png', 'Train-127.png', 'Train-128.png', 'Train-129.png', 'Train-130.png', 'Train-131.png', 'Train-132.png', 'Train-133.png', 'Train-134.png', 'Train-135.png', 'Train-136.png', 'Train-137.png', 'Train-138.png', 'Train-139.png', 'Train-140.png', 'Train-141.png', 'Train-142.png', 'Train-143.png', 'Train-144.png', 'Train-145.png', 'Train-146.png', 'Train-147.png', 'Train-148.png', 'Train-149.png', 'Train-150.png', 'Train-151.png', 'Train-152.png', 'Train-153.png', 'Train-154.png', 'Train-155.png', 'Train-156.png', 'Train-157.png', 'Train-158.png', 'Train-159.png', 'Train-160.png', 'Train-161.png', 'Train-162.png', 'Train-163.png', 'Train-164.png', 'Train-165.png', 'Train-166.png', 'Train-167.png', 'Train-168.png', 'Train-169.png', 'Train-170.png', 'Train-171.png', 'Train-172.png', 'Train-173.png', 'Train-174.png', 'Train-175.png', 'Train-176.png', 'Train-177.png', 'Train-178.png', 'Train-179.png', 'Train-180.png', 'Train-181.png', 'Train-182.png', 'Train-183.png', 'Train-184.png', 'Train-185.png', 'Train-186.png', 'Train-187.png', 'Train-188.png', 'Train-189.png', 'Train-190.png', 'Train-191.png', 'Train-192.png', 'Train-193.png', 'Train-194.png', 'Train-195.png', 'Train-196.png', 'Train-197.png', 'Train-198.png', 'Train-199.png', 'Train-200.png', 'Train-201.png', 'Train-202.png', 'Train-203.png', 'Train-204.png', 'Train-205.png', 'Train-206.png', 'Train-207.png', 'Train-208.png', 'Train-209.png', 'Train-210.png', 'Train-211.png', 'Train-212.png', 'Train-213.png', 'Train-214.png', 'Train-215.png', 'Train-216.png', 'Train-217.png', 'Train-218.png', 'Train-219.png', 'Train-220.png', 'Train-221.png', 'Train-222.png', 'Train-223.png', 'Train-224.png', 'Train-225.png', 'Train-226.png', 'Train-227.png', 'Train-228.png', 'Train-229.png', 'Train-230.png', 'Train-231.png', 'Train-232.png', 'Train-233.png', 'Train-234.png', 'Train-235.png', 'Train-236.png', 'Train-237.png', 'Train-238.png', 'Train-239.png', 'Train-240.png', 'Train-241.png', 'Train-242.png', 'Train-243.png', 'Train-244.png', 'Train-245.png', 'Train-246.png', 'Train-247.png', 'Train-248.png', 'Train-249.png', 'Train-250.png', 'Train-251.png', 'Train-252.png', 'Train-253.png', 'Train-254.png', 'Train-255.png', 'Train-256.png', 'Train-257.png', 'Train-258.png', 'Train-259.png', 'Train-260.png', 'Train-261.png', 'Train-262.png', 'Train-263.png', 'Train-264.png', 'Train-265.png', 'Train-266.png', 'Train-267.png', 'Train-268.png', 'Train-269.png', 'Train-270.png', 'Train-271.png', 'Train-272.png', 'Train-273.png', 'Train-274.png', 'Train-275.png', 'Train-276.png', 'Train-277.png', 'Train-278.png', 'Train-279.png', 'Train-280.png', 'Train-281.png', 'Train-282.png', 'Train-283.png', 'Train-284.png', 'Train-285.png', 'Train-286.png', 'Train-287.png', 'Train-288.png', 'Train-289.png', 'Train-290.png', 'Train-291.png', 'Train-292.png', 'Train-293.png', 'Train-294.png', 'Train-295.png', 'Train-296.png', 'Train-297.png', 'Train-298.png', 'Train-299.png', 'Train-300.png', 'Train-301.png', 'Train-302.png', 'Train-303.png', 'Train-304.png', 'Train-305.png', 'Train-306.png', 'Train-307.png', 'Train-308.png', 'Train-309.png', 'Train-310.png', 'Train-311.png', 'Train-312.png', 'Train-313.png', 'Train-314.png', 'Train-315.png', 'Train-316.png', 'Train-317.png', 'Train-318.png', 'Train-319.png', 'Train-320.png', 'Train-321.png', 'Train-322.png', 'Train-323.png', 'Train-324.png', 'Train-325.png', 'Train-326.png', 'Train-327.png', 'Train-328.png', 'Train-329.png', 'Train-330.png', 'Train-331.png', 'Train-332.png', 'Train-333.png', 'Train-334.png', 'Train-335.png', 'Train-336.png', 'Train-337.png', 'Train-338.png', 'Train-339.png', 'Train-340.png', 'Train-341.png', 'Train-342.png', 'Train-343.png', 'Train-344.png', 'Train-345.png', 'Train-346.png', 'Train-347.png', 'Train-348.png', 'Train-349.png', 'Train-350.png', 'Train-351.png', 'Train-352.png', 'Train-353.png', 'Train-354.png', 'Train-355.png', 'Train-356.png', 'Train-357.png', 'Train-358.png', 'Train-359.png', 'Train-360.png', 'Train-361.png', 'Train-362.png', 'Train-363.png', 'Train-364.png', 'Train-365.png', 'Train-366.png', 'Train-367.png', 'Train-368.png', 'Train-369.png', 'Train-370.png', 'Train-371.png', 'Train-372.png', 'Train-373.png', 'Train-374.png', 'Train-375.png', 'Train-376.png', 'Train-377.png', 'Train-378.png', 'Train-379.png', 'Train-380.png', 'Train-381.png', 'Train-382.png', 'Train-383.png', 'Train-384.png', 'Train-385.png', 'Train-386.png', 'Train-387.png', 'Train-388.png', 'Train-389.png', 'Train-390.png', 'Train-391.png', 'Train-392.png', 'Train-393.png', 'Train-394.png', 'Train-395.png', 'Train-396.png', 'Train-397.png', 'Train-398.png', 'Train-399.png', 'Train-400.png', 'Train-401.png', 'Train-402.png', 'Train-403.png', 'Train-404.png', 'Train-405.png', 'Train-406.png', 'Train-407.png', 'Train-408.png', 'Train-409.png', 'Train-410.png', 'Train-411.png', 'Train-412.png', 'Train-413.png', 'Train-414.png', 'Train-415.png', 'Train-416.png', 'Train-417.png', 'Train-418.png', 'Train-419.png', 'Train-420.png', 'Train-421.png', 'Train-422.png', 'Train-423.png', 'Train-424.png', 'Train-425.png', 'Train-426.png', 'Train-427.png', 'Train-428.png', 'Train-429.png', 'Train-430.png', 'Train-431.png', 'Train-432.png', 'Train-433.png', 'Train-434.png', 'Train-435.png', 'Train-436.png', 'Train-437.png', 'Train-438.png', 'Train-439.png', 'Train-440.png', 'Train-441.png', 'Train-442.png', 'Train-443.png', 'Train-444.png', 'Train-445.png', 'Train-446.png', 'Train-447.png', 'Train-448.png', 'Train-449.png', 'Train-450.png', 'Train-451.png', 'Train-452.png', 'Train-453.png', 'Train-454.png', 'Train-455.png', 'Train-456.png', 'Train-457.png', 'Train-458.png', 'Train-459.png', 'Train-460.png', 'Train-461.png', 'Train-462.png', 'Train-463.png', 'Train-464.png', 'Train-465.png', 'Train-466.png', 'Train-467.png', 'Train-468.png', 'Train-469.png', 'Train-470.png', 'Train-471.png', 'Train-472.png', 'Train-473.png', 'Train-474.png', 'Train-475.png', 'Train-476.png', 'Train-477.png', 'Train-478.png', 'Train-479.png', 'Train-480.png', 'Train-481.png', 'Train-482.png', 'Train-483.png', 'Train-484.png', 'Train-485.png', 'Train-486.png', 'Train-487.png', 'Train-488.png', 'Train-489.png', 'Train-490.png', 'Train-491.png', 'Train-492.png', 'Train-493.png', 'Train-494.png', 'Train-495.png', 'Train-496.png', 'Train-497.png', 'Train-498.png', 'Train-499.png', 'Train-500.png', 'Train-501.png', 'Train-502.png', 'Train-503.png', 'Train-504.png', 'Train-505.png', 'Train-506.png', 'Train-507.png', 'Train-508.png', 'Train-509.png', 'Train-510.png', 'Train-511.png', 'Train-512.png', 'Train-513.png', 'Train-514.png', 'Train-515.png', 'Train-516.png', 'Train-517.png', 'Train-518.png', 'Train-519.png', 'Train-520.png', 'Train-521.png', 'Train-522.png', 'Train-523.png', 'Train-524.png', 'Train-525.png', 'Train-526.png', 'Train-527.png', 'Train-528.png', 'Train-529.png', 'Train-530.png', 'Train-531.png', 'Train-532.png', 'Train-533.png', 'Train-534.png', 'Train-535.png', 'Train-536.png', 'Train-537.png', 'Train-538.png', 'Train-539.png', 'Train-540.png', 'Train-541.png', 'Train-542.png', 'Train-543.png', 'Train-544.png', 'Train-545.png', 'Train-546.png', 'Train-547.png', 'Train-548.png', 'Train-549.png', 'Train-550.png', 'Train-551.png', 'Train-552.png', 'Train-553.png', 'Train-554.png', 'Train-555.png', 'Train-556.png', 'Train-557.png', 'Train-558.png', 'Train-559.png', 'Train-560.png', 'Train-561.png', 'Train-562.png', 'Train-563.png', 'Train-564.png', 'Train-565.png', 'Train-566.png', 'Train-567.png', 'Train-568.png', 'Train-569.png', 'Train-570.png', 'Train-571.png', 'Train-572.png', 'Train-573.png', 'Train-574.png', 'Train-575.png', 'Train-576.png', 'Train-577.png', 'Train-578.png', 'Train-579.png', 'Train-580.png', 'Train-581.png', 'Train-582.png', 'Train-583.png', 'Train-584.png', 'Train-585.png', 'Train-586.png', 'Train-587.png', 'Train-588.png', 'Train-589.png', 'Train-590.png', 'Train-591.png', 'Train-592.png', 'Train-593.png', 'Train-594.png', 'Train-595.png', 'Train-596.png', 'Train-597.png', 'Train-598.png', 'Train-599.png', 'Train-600.png', 'Train-601.png', 'Train-602.png', 'Train-603.png', 'Train-604.png', 'Train-605.png', 'Train-606.png', 'Train-607.png', 'Train-608.png', 'Train-609.png', 'Train-610.png', 'Train-611.png', 'Train-612.png', 'Train-613.png', 'Train-614.png', 'Train-615.png', 'Train-616.png', 'Train-617.png', 'Train-618.png', 'Train-619.png', 'Train-620.png', 'Train-621.png', 'Train-622.png', 'Train-623.png', 'Train-624.png', 'Train-625.png', 'Train-626.png', 'Train-627.png', 'Train-628.png', 'Train-629.png', 'Train-630.png', 'Train-631.png', 'Train-632.png', 'Train-633.png', 'Train-634.png', 'Train-635.png', 'Train-636.png', 'Train-637.png', 'Train-638.png', 'Train-639.png', 'Train-640.png', 'Train-641.png', 'Train-642.png', 'Train-643.png', 'Train-644.png', 'Train-645.png', 'Train-646.png', 'Train-647.png', 'Train-648.png', 'Train-649.png', 'Train-650.png', 'Train-651.png', 'Train-652.png', 'Train-653.png', 'Train-654.png', 'Train-655.png', 'Train-656.png', 'Train-657.png', 'Train-658.png', 'Train-659.png', 'Train-660.png', 'Train-661.png', 'Train-662.png', 'Train-663.png', 'Train-664.png', 'Train-665.png', 'Train-666.png', 'Train-667.png', 'Train-668.png', 'Train-669.png', 'Train-670.png', 'Train-671.png', 'Train-672.png', 'Train-673.png', 'Train-674.png', 'Train-675.png', 'Train-676.png', 'Train-677.png', 'Train-678.png', 'Train-679.png', 'Train-680.png', 'Train-681.png', 'Train-682.png', 'Train-683.png', 'Train-684.png', 'Train-685.png', 'Train-686.png', 'Train-687.png', 'Train-688.png', 'Train-689.png', 'Train-690.png', 'Train-691.png', 'Train-692.png', 'Train-693.png', 'Train-694.png', 'Train-695.png', 'Train-696.png', 'Train-697.png', 'Train-698.png', 'Train-699.png', 'Train-700.png', 'Train-701.png', 'Train-702.png', 'Train-703.png', 'Train-704.png', 'Train-705.png', 'Train-706.png', 'Train-707.png', 'Train-708.png', 'Train-709.png', 'Train-710.png', 'Train-711.png', 'Train-712.png', 'Train-713.png', 'Train-714.png', 'Train-715.png', 'Train-716.png', 'Train-717.png', 'Train-718.png', 'Train-719.png', 'Train-720.png', 'Train-721.png', 'Train-722.png', 'Train-723.png', 'Train-724.png', 'Train-725.png', 'Train-726.png', 'Train-727.png', 'Train-728.png', 'Train-729.png', 'Train-730.png', 'Train-731.png', 'Train-732.png', 'Train-733.png', 'Train-734.png', 'Train-735.png', 'Train-736.png', 'Train-737.png', 'Train-738.png', 'Train-739.png', 'Train-740.png', 'Train-741.png', 'Train-742.png', 'Train-743.png', 'Train-744.png', 'Train-745.png', 'Train-746.png', 'Train-747.png', 'Train-748.png', 'Train-749.png', 'Train-750.png', 'Train-751.png', 'Train-752.png', 'Train-753.png', 'Train-754.png', 'Train-755.png', 'Train-756.png', 'Train-757.png', 'Train-758.png', 'Train-759.png', 'Train-760.png', 'Train-761.png', 'Train-762.png', 'Train-763.png', 'Train-764.png', 'Train-765.png', 'Train-766.png', 'Train-767.png', 'Train-768.png', 'Train-769.png', 'Train-770.png', 'Train-771.png', 'Train-772.png', 'Train-773.png', 'Train-774.png', 'Train-775.png', 'Train-776.png', 'Train-777.png', 'Train-778.png', 'Train-779.png', 'Train-780.png', 'Train-781.png', 'Train-782.png', 'Train-783.png', 'Train-784.png', 'Train-785.png', 'Train-786.png', 'Train-787.png', 'Train-788.png', 'Train-789.png', 'Train-790.png', 'Train-791.png', 'Train-792.png', 'Train-793.png', 'Train-794.png', 'Train-795.png', 'Train-796.png', 'Train-797.png', 'Train-798.png', 'Train-799.png', 'Train-800.png', 'Train-801.png', 'Train-802.png', 'Train-803.png', 'Train-804.png', 'Train-805.png', 'Train-806.png', 'Train-807.png', 'Train-808.png', 'Train-809.png', 'Train-810.png', 'Train-811.png', 'Train-812.png', 'Train-813.png', 'Train-814.png', 'Train-815.png', 'Train-816.png', 'Train-817.png', 'Train-818.png', 'Train-819.png', 'Train-820.png', 'Train-821.png', 'Train-822.png', 'Train-823.png', 'Train-824.png', 'Train-825.png', 'Train-826.png', 'Train-827.png', 'Train-828.png', 'Train-829.png', 'Train-830.png', 'Train-831.png', 'Train-832.png', 'Train-833.png', 'Train-834.png', 'Train-835.png', 'Train-836.png', 'Train-837.png', 'Train-838.png', 'Train-839.png', 'Train-840.png', 'Train-841.png', 'Train-842.png', 'Train-843.png', 'Train-844.png', 'Train-845.png', 'Train-846.png', 'Train-847.png', 'Train-848.png', 'Train-849.png', 'Train-850.png', 'Train-851.png', 'Train-852.png', 'Train-853.png', 'Train-854.png', 'Train-855.png', 'Train-856.png', 'Train-857.png', 'Train-858.png', 'Train-859.png', 'Train-860.png', 'Train-861.png', 'Train-862.png', 'Train-863.png', 'Train-864.png', 'Train-865.png', 'Train-866.png', 'Train-867.png', 'Train-868.png', 'Train-869.png', 'Train-870.png', 'Train-871.png', 'Train-872.png', 'Train-873.png', 'Train-874.png', 'Train-875.png', 'Train-876.png', 'Train-877.png', 'Train-878.png', 'Train-879.png', 'Train-880.png', 'Train-881.png', 'Train-882.png', 'Train-883.png', 'Train-884.png', 'Train-885.png', 'Train-886.png', 'Train-887.png', 'Train-888.png', 'Train-889.png', 'Train-890.png', 'Train-891.png', 'Train-892.png', 'Train-893.png', 'Train-894.png', 'Train-895.png', 'Train-896.png', 'Train-897.png', 'Train-898.png', 'Train-899.png', 'Train-900.png', 'Train-901.png', 'Train-902.png', 'Train-903.png', 'Train-904.png', 'Train-905.png', 'Train-906.png', 'Train-907.png', 'Train-908.png', 'Train-909.png', 'Train-910.png', 'Train-911.png', 'Train-912.png', 'Train-913.png', 'Train-914.png', 'Train-915.png', 'Train-916.png', 'Train-917.png', 'Train-918.png', 'Train-919.png', 'Train-920.png', 'Train-921.png', 'Train-922.png', 'Train-923.png', 'Train-924.png', 'Train-925.png', 'Train-926.png', 'Train-927.png', 'Train-928.png', 'Train-929.png', 'Train-930.png', 'Train-931.png', 'Train-932.png', 'Train-933.png', 'Train-934.png', 'Train-935.png', 'Train-936.png', 'Train-937.png', 'Train-938.png', 'Train-939.png', 'Train-940.png', 'Train-941.png', 'Train-942.png', 'Train-943.png', 'Train-944.png', 'Train-945.png', 'Train-946.png', 'Train-947.png', 'Train-948.png', 'Train-949.png', 'Train-950.png', 'Train-951.png', 'Train-952.png', 'Train-953.png', 'Train-954.png', 'Train-955.png', 'Train-956.png', 'Train-957.png', 'Train-958.png', 'Train-959.png', 'Train-960.png', 'Train-961.png', 'Train-962.png', 'Train-963.png', 'Train-964.png', 'Train-965.png', 'Train-966.png', 'Train-967.png', 'Train-968.png', 'Train-969.png', 'Train-970.png', 'Train-971.png', 'Train-972.png', 'Train-973.png', 'Train-974.png', 'Train-975.png', 'Train-976.png', 'Train-977.png', 'Train-978.png', 'Train-979.png', 'Train-980.png', 'Train-981.png', 'Train-982.png', 'Train-983.png', 'Train-984.png', 'Train-985.png', 'Train-986.png', 'Train-987.png', 'Train-988.png', 'Train-989.png', 'Train-990.png', 'Train-991.png', 'Train-992.png', 'Train-993.png', 'Train-994.png', 'Train-995.png', 'Train-996.png', 'Train-997.png', 'Train-998.png', 'Train-999.png', 'Train-1000.png', 'Train-1001.png', 'Train-1002.png', 'Train-1003.png', 'Train-1004.png', 'Train-1005.png', 'Train-1006.png', 'Train-1007.png', 'Train-1008.png', 'Train-1009.png', 'Train-1010.png', 'Train-1011.png', 'Train-1012.png', 'Train-1013.png', 'Train-1014.png', 'Train-1015.png', 'Train-1016.png', 'Train-1017.png', 'Train-1018.png', 'Train-1019.png', 'Train-1020.png', 'Train-1021.png', 'Train-1022.png', 'Train-1023.png', 'Train-1024.png', 'Train-1025.png', 'Train-1026.png', 'Train-1027.png', 'Train-1028.png', 'Train-1029.png', 'Train-1030.png', 'Train-1031.png', 'Train-1032.png', 'Train-1033.png', 'Train-1034.png', 'Train-1035.png', 'Train-1036.png', 'Train-1037.png', 'Train-1038.png', 'Train-1039.png', 'Train-1040.png', 'Train-1041.png', 'Train-1042.png', 'Train-1043.png', 'Train-1044.png', 'Train-1045.png', 'Train-1046.png', 'Train-1047.png', 'Train-1048.png', 'Train-1049.png', 'Train-1050.png', 'Train-1051.png', 'Train-1052.png', 'Train-1053.png', 'Train-1054.png', 'Train-1055.png', 'Train-1056.png', 'Train-1057.png', 'Train-1058.png', 'Train-1059.png', 'Train-1060.png', 'Train-1061.png', 'Train-1062.png', 'Train-1063.png', 'Train-1064.png', 'Train-1065.png', 'Train-1066.png', 'Train-1067.png', 'Train-1068.png', 'Train-1069.png', 'Train-1070.png', 'Train-1071.png', 'Train-1072.png', 'Train-1073.png', 'Train-1074.png', 'Train-1075.png', 'Train-1076.png', 'Train-1077.png', 'Train-1078.png', 'Train-1079.png', 'Train-1080.png', 'Train-1081.png', 'Train-1082.png', 'Train-1083.png', 'Train-1084.png', 'Train-1085.png', 'Train-1086.png', 'Train-1087.png', 'Train-1088.png', 'Train-1089.png', 'Train-1090.png', 'Train-1091.png', 'Train-1092.png', 'Train-1093.png', 'Train-1094.png', 'Train-1095.png', 'Train-1096.png', 'Train-1097.png', 'Train-1098.png', 'Train-1099.png', 'Train-1100.png', 'Train-1101.png', 'Train-1102.png', 'Train-1103.png', 'Train-1104.png', 'Train-1105.png', 'Train-1106.png', 'Train-1107.png', 'Train-1108.png', 'Train-1109.png', 'Train-1110.png', 'Train-1111.png', 'Train-1112.png', 'Train-1113.png', 'Train-1114.png', 'Train-1115.png', 'Train-1116.png', 'Train-1117.png', 'Train-1118.png', 'Train-1119.png', 'Train-1120.png', 'Train-1121.png', 'Train-1122.png', 'Train-1123.png', 'Train-1124.png', 'Train-1125.png', 'Train-1126.png', 'Train-1127.png', 'Train-1128.png', 'Train-1129.png', 'Train-1130.png', 'Train-1131.png', 'Train-1132.png', 'Train-1133.png', 'Train-1134.png', 'Train-1135.png', 'Train-1136.png', 'Train-1137.png', 'Train-1138.png', 'Train-1139.png', 'Train-1140.png', 'Train-1141.png', 'Train-1142.png', 'Train-1143.png', 'Train-1144.png', 'Train-1145.png', 'Train-1146.png', 'Train-1147.png', 'Train-1148.png', 'Train-1149.png', 'Train-1150.png', 'Train-1151.png', 'Train-1152.png', 'Train-1153.png', 'Train-1154.png', 'Train-1155.png', 'Train-1156.png', 'Train-1157.png', 'Train-1158.png', 'Train-1159.png', 'Train-1160.png', 'Train-1161.png', 'Train-1162.png', 'Train-1163.png', 'Train-1164.png', 'Train-1165.png', 'Train-1166.png', 'Train-1167.png', 'Train-1168.png', 'Train-1169.png', 'Train-1170.png', 'Train-1171.png', 'Train-1172.png', 'Train-1173.png', 'Train-1174.png', 'Train-1175.png', 'Train-1176.png', 'Train-1177.png', 'Train-1178.png', 'Train-1179.png', 'Train-1180.png', 'Train-1181.png', 'Train-1182.png', 'Train-1183.png', 'Train-1184.png', 'Train-1185.png', 'Train-1186.png', 'Train-1187.png', 'Train-1188.png', 'Train-1189.png', 'Train-1190.png', 'Train-1191.png', 'Train-1192.png', 'Train-1193.png', 'Train-1194.png', 'Train-1195.png', 'Train-1196.png', 'Train-1197.png', 'Train-1198.png', 'Train-1199.png', 'Train-1200.png', 'Train-1201.png', 'Train-1202.png', 'Train-1203.png', 'Train-1204.png', 'Train-1205.png', 'Train-1206.png', 'Train-1207.png', 'Train-1208.png', 'Train-1209.png', 'Train-1210.png', 'Train-1211.png', 'Train-1212.png', 'Train-1213.png', 'Train-1214.png', 'Train-1215.png', 'Train-1216.png', 'Train-1217.png', 'Train-1218.png', 'Train-1219.png', 'Train-1220.png', 'Train-1221.png', 'Train-1222.png', 'Train-1223.png', 'Train-1224.png', 'Train-1225.png', 'Train-1226.png', 'Train-1227.png', 'Train-1228.png', 'Train-1229.png', 'Train-1230.png', 'Train-1231.png', 'Train-1232.png', 'Train-1233.png', 'Train-1234.png', 'Train-1235.png', 'Train-1236.png', 'Train-1237.png', 'Train-1238.png', 'Train-1239.png', 'Train-1240.png', 'Train-1241.png', 'Train-1242.png', 'Train-1243.png', 'Train-1244.png', 'Train-1245.png', 'Train-1246.png', 'Train-1247.png', 'Train-1248.png', 'Train-1249.png', 'Train-1250.png', 'Train-1251.png', 'Train-1252.png', 'Train-1253.png', 'Train-1254.png', 'Train-1255.png', 'Train-1256.png', 'Train-1257.png', 'Train-1258.png', 'Train-1259.png', 'Train-1260.png', 'Train-1261.png', 'Train-1262.png', 'Train-1263.png', 'Train-1264.png', 'Train-1265.png', 'Train-1266.png', 'Train-1267.png', 'Train-1268.png', 'Train-1269.png', 'Train-1270.png', 'Train-1271.png', 'Train-1272.png', 'Train-1273.png', 'Train-1274.png', 'Train-1275.png', 'Train-1276.png', 'Train-1277.png', 'Train-1278.png', 'Train-1279.png', 'Train-1280.png', 'Train-1281.png', 'Train-1282.png', 'Train-1283.png', 'Train-1284.png', 'Train-1285.png', 'Train-1286.png', 'Train-1287.png', 'Train-1288.png', 'Train-1289.png', 'Train-1290.png', 'Train-1291.png', 'Train-1292.png', 'Train-1293.png', 'Train-1294.png', 'Train-1295.png', 'Train-1296.png', 'Train-1297.png', 'Train-1298.png', 'Train-1299.png', 'Train-1300.png', 'Train-1301.png', 'Train-1302.png', 'Train-1303.png', 'Train-1304.png', 'Train-1305.png', 'Train-1306.png', 'Train-1307.png', 'Train-1308.png', 'Train-1309.png', 'Train-1310.png', 'Train-1311.png', 'Train-1312.png', 'Train-1313.png', 'Train-1314.png', 'Train-1315.png', 'Train-1316.png', 'Train-1317.png', 'Train-1318.png', 'Train-1319.png', 'Train-1320.png', 'Train-1321.png', 'Train-1322.png', 'Train-1323.png', 'Train-1324.png', 'Train-1325.png', 'Train-1326.png', 'Train-1327.png', 'Train-1328.png', 'Train-1329.png', 'Train-1330.png', 'Train-1331.png', 'Train-1332.png', 'Train-1333.png', 'Train-1334.png', 'Train-1335.png', 'Train-1336.png', 'Train-1337.png', 'Train-1338.png', 'Train-1339.png', 'Train-1340.png', 'Train-1341.png', 'Train-1342.png', 'Train-1343.png', 'Train-1344.png', 'Train-1345.png', 'Train-1346.png', 'Train-1347.png', 'Train-1348.png', 'Train-1349.png', 'Train-1350.png', 'Train-1351.png', 'Train-1352.png', 'Train-1353.png', 'Train-1354.png', 'Train-1355.png', 'Train-1356.png', 'Train-1357.png', 'Train-1358.png', 'Train-1359.png', 'Train-1360.png', 'Train-1361.png', 'Train-1362.png', 'Train-1363.png', 'Train-1364.png', 'Train-1365.png', 'Train-1366.png', 'Train-1367.png', 'Train-1368.png', 'Train-1369.png', 'Train-1370.png', 'Train-1371.png', 'Train-1372.png', 'Train-1373.png', 'Train-1374.png', 'Train-1375.png', 'Train-1376.png', 'Train-1377.png', 'Train-1378.png', 'Train-1379.png', 'Train-1380.png', 'Train-1381.png', 'Train-1382.png', 'Train-1383.png', 'Train-1384.png', 'Train-1385.png', 'Train-1386.png', 'Train-1387.png', 'Train-1388.png', 'Train-1389.png', 'Train-1390.png', 'Train-1391.png', 'Train-1392.png', 'Train-1393.png', 'Train-1394.png', 'Train-1395.png', 'Train-1396.png', 'Train-1397.png', 'Train-1398.png', 'Train-1399.png', 'Train-1400.png', 'Train-1401.png', 'Train-1402.png', 'Train-1403.png', 'Train-1404.png', 'Train-1405.png', 'Train-1406.png', 'Train-1407.png', 'Train-1408.png', 'Train-1409.png', 'Train-1410.png', 'Train-1411.png', 'Train-1412.png', 'Train-1413.png', 'Train-1414.png', 'Train-1415.png', 'Train-1416.png', 'Train-1417.png', 'Train-1418.png', 'Train-1419.png', 'Train-1420.png', 'Train-1421.png', 'Train-1422.png', 'Train-1423.png', 'Train-1424.png', 'Train-1425.png', 'Train-1426.png', 'Train-1427.png', 'Train-1428.png', 'Train-1429.png', 'Train-1430.png', 'Train-1431.png', 'Train-1432.png', 'Train-1433.png', 'Train-1434.png', 'Train-1435.png', 'Train-1436.png', 'Train-1437.png', 'Train-1438.png', 'Train-1439.png', 'Train-1440.png', 'Train-1441.png', 'Train-1442.png', 'Train-1443.png', 'Train-1444.png', 'Train-1445.png', 'Train-1446.png', 'Train-1447.png', 'Train-1448.png', 'Train-1449.png', 'Train-1450.png', 'Train-1451.png', 'Train-1452.png', 'Train-1453.png', 'Train-1454.png', 'Train-1455.png', 'Train-1456.png', 'Train-1457.png', 'Train-1458.png', 'Train-1459.png', 'Train-1460.png', 'Train-1461.png', 'Train-1462.png', 'Train-1463.png', 'Train-1464.png', 'Train-1465.png', 'Train-1466.png', 'Train-1467.png', 'Train-1468.png', 'Train-1469.png', 'Train-1470.png', 'Train-1471.png', 'Train-1472.png', 'Train-1473.png', 'Train-1474.png', 'Train-1475.png', 'Train-1476.png', 'Train-1477.png', 'Train-1478.png', 'Train-1479.png', 'Train-1480.png', 'Train-1481.png', 'Train-1482.png', 'Train-1483.png', 'Train-1484.png', 'Train-1485.png', 'Train-1486.png', 'Train-1487.png', 'Train-1488.png', 'Train-1489.png', 'Train-1490.png', 'Train-1491.png', 'Train-1492.png', 'Train-1493.png', 'Train-1494.png', 'Train-1495.png', 'Train-1496.png', 'Train-1497.png', 'Train-1498.png', 'Train-1499.png', 'Train-1500.png', 'Train-1501.png', 'Train-1502.png', 'Train-1503.png', 'Train-1504.png', 'Train-1505.png', 'Train-1506.png', 'Train-1507.png', 'Train-1508.png', 'Train-1509.png', 'Train-1510.png', 'Train-1511.png', 'Train-1512.png', 'Train-1513.png', 'Train-1514.png', 'Train-1515.png', 'Train-1516.png', 'Train-1517.png', 'Train-1518.png', 'Train-1519.png', 'Train-1520.png', 'Train-1521.png', 'Train-1522.png', 'Train-1523.png', 'Train-1524.png', 'Train-1525.png', 'Train-1526.png', 'Train-1527.png', 'Train-1528.png', 'Train-1529.png', 'Train-1530.png', 'Train-1531.png', 'Train-1532.png', 'Train-1533.png', 'Train-1534.png', 'Train-1535.png', 'Train-1536.png', 'Train-1537.png', 'Train-1538.png', 'Train-1539.png', 'Train-1540.png', 'Train-1541.png', 'Train-1542.png', 'Train-1543.png', 'Train-1544.png', 'Train-1545.png', 'Train-1546.png', 'Train-1547.png', 'Train-1548.png', 'Train-1549.png', 'Train-1550.png', 'Train-1551.png', 'Train-1552.png', 'Train-1553.png', 'Train-1554.png', 'Train-1555.png', 'Train-1556.png', 'Train-1557.png', 'Train-1558.png', 'Train-1559.png', 'Train-1560.png', 'Train-1561.png', 'Train-1562.png', 'Train-1563.png', 'Train-1564.png', 'Train-1565.png', 'Train-1566.png', 'Train-1567.png', 'Train-1568.png', 'Train-1569.png', 'Train-1570.png', 'Train-1571.png', 'Train-1572.png', 'Train-1573.png', 'Train-1574.png', 'Train-1575.png', 'Train-1576.png', 'Train-1577.png', 'Train-1578.png', 'Train-1579.png', 'Train-1580.png', 'Train-1581.png', 'Train-1582.png', 'Train-1583.png', 'Train-1584.png', 'Train-1585.png', 'Train-1586.png', 'Train-1587.png', 'Train-1588.png', 'Train-1589.png', 'Train-1590.png', 'Train-1591.png', 'Train-1592.png', 'Train-1593.png', 'Train-1594.png', 'Train-1595.png', 'Train-1596.png', 'Train-1597.png', 'Train-1598.png', 'Train-1599.png', 'Train-1600.png', 'Train-1601.png', 'Train-1602.png', 'Train-1603.png', 'Train-1604.png', 'Train-1605.png', 'Train-1606.png', 'Train-1607.png', 'Train-1608.png', 'Train-1609.png', 'Train-1610.png', 'Train-1611.png', 'Train-1612.png', 'Train-1613.png', 'Train-1614.png', 'Train-1615.png', 'Train-1616.png', 'Train-1617.png', 'Train-1618.png', 'Train-1619.png', 'Train-1620.png', 'Train-1621.png', 'Train-1622.png', 'Train-1623.png', 'Train-1624.png', 'Train-1625.png', 'Train-1626.png', 'Train-1627.png', 'Train-1628.png', 'Train-1629.png', 'Train-1630.png', 'Train-1631.png', 'Train-1632.png', 'Train-1633.png', 'Train-1634.png', 'Train-1635.png', 'Train-1636.png', 'Train-1637.png', 'Train-1638.png', 'Train-1639.png', 'Train-1640.png', 'Train-1641.png', 'Train-1642.png', 'Train-1643.png', 'Train-1644.png', 'Train-1645.png', 'Train-1646.png', 'Train-1647.png', 'Train-1648.png', 'Train-1649.png', 'Train-1650.png', 'Train-1651.png', 'Train-1652.png', 'Train-1653.png', 'Train-1654.png', 'Train-1655.png', 'Train-1656.png', 'Train-1657.png', 'Train-1658.png', 'Train-1659.png', 'Train-1660.png', 'Train-1661.png', 'Train-1662.png', 'Train-1663.png', 'Train-1664.png', 'Train-1665.png', 'Train-1666.png', 'Train-1667.png', 'Train-1668.png', 'Train-1669.png', 'Train-1670.png', 'Train-1671.png', 'Train-1672.png', 'Train-1673.png', 'Train-1674.png', 'Train-1675.png', 'Train-1676.png', 'Train-1677.png', 'Train-1678.png', 'Train-1679.png', 'Train-1680.png', 'Train-1681.png', 'Train-1682.png', 'Train-1683.png', 'Train-1684.png', 'Train-1685.png', 'Train-1686.png', 'Train-1687.png', 'Train-1688.png', 'Train-1689.png', 'Train-1690.png', 'Train-1691.png', 'Train-1692.png', 'Train-1693.png', 'Train-1694.png', 'Train-1695.png', 'Train-1696.png', 'Train-1697.png', 'Train-1698.png', 'Train-1699.png', 'Train-1700.png', 'Train-1701.png', 'Train-1702.png', 'Train-1703.png', 'Train-1704.png', 'Train-1705.png', 'Train-1706.png', 'Train-1707.png', 'Train-1708.png', 'Train-1709.png', 'Train-1710.png', 'Train-1711.png', 'Train-1712.png', 'Train-1713.png', 'Train-1714.png', 'Train-1715.png', 'Train-1716.png', 'Train-1717.png', 'Train-1718.png', 'Train-1719.png', 'Train-1720.png', 'Train-1721.png', 'Train-1722.png', 'Train-1723.png', 'Train-1724.png', 'Train-1725.png', 'Train-1726.png', 'Train-1727.png', 'Train-1728.png', 'Train-1729.png', 'Train-1730.png', 'Train-1731.png', 'Train-1732.png', 'Train-1733.png', 'Train-1734.png', 'Train-1735.png', 'Train-1736.png', 'Train-1737.png', 'Train-1738.png', 'Train-1739.png', 'Train-1740.png', 'Train-1741.png', 'Train-1742.png', 'Train-1743.png', 'Train-1744.png', 'Train-1745.png', 'Train-1746.png', 'Train-1747.png', 'Train-1748.png', 'Train-1749.png', 'Train-1750.png', 'Train-1751.png', 'Train-1752.png', 'Train-1753.png', 'Train-1754.png', 'Train-1755.png', 'Train-1756.png', 'Train-1757.png', 'Train-1758.png', 'Train-1759.png', 'Train-1760.png', 'Train-1761.png', 'Train-1762.png', 'Train-1763.png', 'Train-1764.png', 'Train-1765.png', 'Train-1766.png', 'Train-1767.png', 'Train-1768.png', 'Train-1769.png', 'Train-1770.png', 'Train-1771.png', 'Train-1772.png', 'Train-1773.png', 'Train-1774.png', 'Train-1775.png', 'Train-1776.png', 'Train-1777.png', 'Train-1778.png', 'Train-1779.png', 'Train-1780.png', 'Train-1781.png', 'Train-1782.png', 'Train-1783.png', 'Train-1784.png', 'Train-1785.png', 'Train-1786.png', 'Train-1787.png', 'Train-1788.png', 'Train-1789.png', 'Train-1790.png', 'Train-1791.png', 'Train-1792.png', 'Train-1793.png', 'Train-1794.png', 'Train-1795.png', 'Train-1796.png', 'Train-1797.png', 'Train-1798.png', 'Train-1799.png', 'Train-1800.png', 'Train-1801.png', 'Train-1802.png', 'Train-1803.png', 'Train-1804.png', 'Train-1805.png', 'Train-1806.png', 'Train-1807.png', 'Train-1808.png', 'Train-1809.png', 'Train-1810.png', 'Train-1811.png', 'Train-1812.png', 'Train-1813.png', 'Train-1814.png', 'Train-1815.png', 'Train-1816.png', 'Train-1817.png', 'Train-1818.png', 'Train-1819.png', 'Train-1820.png', 'Train-1821.png', 'Train-1822.png', 'Train-1823.png', 'Train-1824.png', 'Train-1825.png', 'Train-1826.png', 'Train-1827.png', 'Train-1828.png', 'Train-1829.png', 'Train-1830.png', 'Train-1831.png', 'Train-1832.png', 'Train-1833.png', 'Train-1834.png', 'Train-1835.png', 'Train-1836.png', 'Train-1837.png', 'Train-1838.png', 'Train-1839.png', 'Train-1840.png', 'Train-1841.png', 'Train-1842.png', 'Train-1843.png', 'Train-1844.png', 'Train-1845.png', 'Train-1846.png', 'Train-1847.png', 'Train-1848.png', 'Train-1849.png', 'Train-1850.png', 'Train-1851.png', 'Train-1852.png', 'Train-1853.png', 'Train-1854.png', 'Train-1855.png', 'Train-1856.png', 'Train-1857.png', 'Train-1858.png', 'Train-1859.png', 'Train-1860.png', 'Train-1861.png', 'Train-1862.png', 'Train-1863.png', 'Train-1864.png', 'Train-1865.png', 'Train-1866.png', 'Train-1867.png', 'Train-1868.png', 'Train-1869.png', 'Train-1870.png', 'Train-1871.png', 'Train-1872.png', 'Train-1873.png', 'Train-1874.png', 'Train-1875.png', 'Train-1876.png', 'Train-1877.png', 'Train-1878.png', 'Train-1879.png', 'Train-1880.png', 'Train-1881.png', 'Train-1882.png', 'Train-1883.png', 'Train-1884.png', 'Train-1885.png', 'Train-1886.png', 'Train-1887.png', 'Train-1888.png', 'Train-1889.png', 'Train-1890.png', 'Train-1891.png', 'Train-1892.png', 'Train-1893.png', 'Train-1894.png', 'Train-1895.png', 'Train-1896.png', 'Train-1897.png', 'Train-1898.png', 'Train-1899.png', 'Train-1900.png', 'Train-1901.png', 'Train-1902.png', 'Train-1903.png', 'Train-1904.png', 'Train-1905.png', 'Train-1906.png', 'Train-1907.png', 'Train-1908.png', 'Train-1909.png', 'Train-1910.png', 'Train-1911.png', 'Train-1912.png', 'Train-1913.png', 'Train-1914.png', 'Train-1915.png', 'Train-1916.png', 'Train-1917.png', 'Train-1918.png', 'Train-1919.png', 'Train-1920.png', 'Train-1921.png', 'Train-1922.png', 'Train-1923.png', 'Train-1924.png', 'Train-1925.png', 'Train-1926.png', 'Train-1927.png', 'Train-1928.png', 'Train-1929.png', 'Train-1930.png', 'Train-1931.png', 'Train-1932.png', 'Train-1933.png', 'Train-1934.png', 'Train-1935.png', 'Train-1936.png', 'Train-1937.png', 'Train-1938.png', 'Train-1939.png', 'Train-1940.png', 'Train-1941.png', 'Train-1942.png', 'Train-1943.png', 'Train-1944.png', 'Train-1945.png', 'Train-1946.png', 'Train-1947.png', 'Train-1948.png', 'Train-1949.png', 'Train-1950.png', 'Train-1951.png', 'Train-1952.png', 'Train-1953.png', 'Train-1954.png', 'Train-1955.png', 'Train-1956.png', 'Train-1957.png', 'Train-1958.png', 'Train-1959.png', 'Train-1960.png', 'Train-1961.png', 'Train-1962.png', 'Train-1963.png', 'Train-1964.png', 'Train-1965.png', 'Train-1966.png', 'Train-1967.png', 'Train-1968.png', 'Train-1969.png', 'Train-1970.png', 'Train-1971.png', 'Train-1972.png', 'Train-1973.png', 'Train-1974.png', 'Train-1975.png', 'Train-1976.png', 'Train-1977.png', 'Train-1978.png', 'Train-1979.png', 'Train-1980.png', 'Train-1981.png', 'Train-1982.png', 'Train-1983.png', 'Train-1984.png', 'Train-1985.png', 'Train-1986.png', 'Train-1987.png', 'Train-1988.png', 'Train-1989.png', 'Train-1990.png', 'Train-1991.png', 'Train-1992.png', 'Train-1993.png', 'Train-1994.png', 'Train-1995.png', 'Train-1996.png', 'Train-1997.png', 'Train-1998.png', 'Train-1999.png', 'Train-2000.png', 'Train-2001.png', 'Train-2002.png', 'Train-2003.png', 'Train-2004.png', 'Train-2005.png', 'Train-2006.png', 'Train-2007.png', 'Train-2008.png', 'Train-2009.png', 'Train-2010.png', 'Train-2011.png', 'Train-2012.png', 'Train-2013.png', 'Train-2014.png', 'Train-2015.png', 'Train-2016.png', 'Train-2017.png', 'Train-2018.png', 'Train-2019.png', 'Train-2020.png', 'Train-2021.png', 'Train-2022.png', 'Train-2023.png', 'Train-2024.png', 'Train-2025.png', 'Train-2026.png', 'Train-2027.png', 'Train-2028.png', 'Train-2029.png', 'Train-2030.png', 'Train-2031.png', 'Train-2032.png', 'Train-2033.png', 'Train-2034.png', 'Train-2035.png', 'Train-2036.png', 'Train-2037.png', 'Train-2038.png', 'Train-2039.png', 'Train-2040.png', 'Train-2041.png', 'Train-2042.png', 'Train-2043.png', 'Train-2044.png', 'Train-2045.png', 'Train-2046.png', 'Train-2047.png', 'Train-2048.png', 'Train-2049.png', 'Train-2050.png', 'Train-2051.png', 'Train-2052.png', 'Train-2053.png', 'Train-2054.png', 'Train-2055.png', 'Train-2056.png', 'Train-2057.png', 'Train-2058.png', 'Train-2059.png', 'Train-2060.png', 'Train-2061.png', 'Train-2062.png', 'Train-2063.png', 'Train-2064.png', 'Train-2065.png', 'Train-2066.png', 'Train-2067.png', 'Train-2068.png', 'Train-2069.png', 'Train-2070.png', 'Train-2071.png', 'Train-2072.png', 'Train-2073.png', 'Train-2074.png', 'Train-2075.png', 'Train-2076.png', 'Train-2077.png', 'Train-2078.png', 'Train-2079.png', 'Train-2080.png', 'Train-2081.png', 'Train-2082.png', 'Train-2083.png', 'Train-2084.png', 'Train-2085.png', 'Train-2086.png', 'Train-2087.png', 'Train-2088.png', 'Train-2089.png', 'Train-2090.png', 'Train-2091.png', 'Train-2092.png', 'Train-2093.png', 'Train-2094.png', 'Train-2095.png', 'Train-2096.png', 'Train-2097.png', 'Train-2098.png', 'Train-2099.png', 'Train-2100.png', 'Train-2101.png', 'Train-2102.png', 'Train-2103.png', 'Train-2104.png', 'Train-2105.png', 'Train-2106.png', 'Train-2107.png', 'Train-2108.png', 'Train-2109.png', 'Train-2110.png', 'Train-2111.png', 'Train-2112.png', 'Train-2113.png', 'Train-2114.png', 'Train-2115.png', 'Train-2116.png', 'Train-2117.png', 'Train-2118.png', 'Train-2119.png', 'Train-2120.png', 'Train-2121.png', 'Train-2122.png', 'Train-2123.png', 'Train-2124.png', 'Train-2125.png', 'Train-2126.png', 'Train-2127.png', 'Train-2128.png', 'Train-2129.png', 'Train-2130.png', 'Train-2131.png', 'Train-2132.png', 'Train-2133.png', 'Train-2134.png', 'Train-2135.png', 'Train-2136.png', 'Train-2137.png', 'Train-2138.png', 'Train-2139.png', 'Train-2140.png', 'Train-2141.png', 'Train-2142.png', 'Train-2143.png', 'Train-2144.png', 'Train-2145.png', 'Train-2146.png', 'Train-2147.png', 'Train-2148.png', 'Train-2149.png', 'Train-2150.png', 'Train-2151.png', 'Train-2152.png', 'Train-2153.png', 'Train-2154.png', 'Train-2155.png', 'Train-2156.png', 'Train-2157.png', 'Train-2158.png', 'Train-2159.png', 'Train-2160.png', 'Train-2161.png', 'Train-2162.png', 'Train-2163.png', 'Train-2164.png', 'Train-2165.png', 'Train-2166.png', 'Train-2167.png', 'Train-2168.png', 'Train-2169.png', 'Train-2170.png', 'Train-2171.png', 'Train-2172.png', 'Train-2173.png', 'Train-2174.png', 'Train-2175.png', 'Train-2176.png', 'Train-2177.png', 'Train-2178.png', 'Train-2179.png', 'Train-2180.png', 'Train-2181.png', 'Train-2182.png', 'Train-2183.png', 'Train-2184.png', 'Train-2185.png', 'Train-2186.png', 'Train-2187.png', 'Train-2188.png', 'Train-2189.png', 'Train-2190.png', 'Train-2191.png', 'Train-2192.png', 'Train-2193.png', 'Train-2194.png', 'Train-2195.png', 'Train-2196.png', 'Train-2197.png', 'Train-2198.png', 'Train-2199.png', 'Train-2200.png', 'Train-2201.png', 'Train-2202.png', 'Train-2203.png', 'Train-2204.png', 'Train-2205.png', 'Train-2206.png', 'Train-2207.png', 'Train-2208.png', 'Train-2209.png', 'Train-2210.png', 'Train-2211.png', 'Train-2212.png', 'Train-2213.png', 'Train-2214.png', 'Train-2215.png', 'Train-2216.png', 'Train-2217.png', 'Train-2218.png', 'Train-2219.png', 'Train-2220.png', 'Train-2221.png', 'Train-2222.png', 'Train-2223.png', 'Train-2224.png', 'Train-2225.png', 'Train-2226.png', 'Train-2227.png', 'Train-2228.png', 'Train-2229.png', 'Train-2230.png', 'Train-2231.png', 'Train-2232.png', 'Train-2233.png', 'Train-2234.png', 'Train-2235.png', 'Train-2236.png', 'Train-2237.png', 'Train-2238.png', 'Train-2239.png', 'Train-2240.png', 'Train-2241.png', 'Train-2242.png', 'Train-2243.png', 'Train-2244.png', 'Train-2245.png', 'Train-2246.png', 'Train-2247.png', 'Train-2248.png', 'Train-2249.png', 'Train-2250.png', 'Train-2251.png', 'Train-2252.png', 'Train-2253.png', 'Train-2254.png', 'Train-2255.png', 'Train-2256.png', 'Train-2257.png', 'Train-2258.png', 'Train-2259.png', 'Train-2260.png', 'Train-2261.png', 'Train-2262.png', 'Train-2263.png', 'Train-2264.png', 'Train-2265.png', 'Train-2266.png', 'Train-2267.png', 'Train-2268.png', 'Train-2269.png', 'Train-2270.png', 'Train-2271.png', 'Train-2272.png', 'Train-2273.png', 'Train-2274.png', 'Train-2275.png', 'Train-2276.png', 'Train-2277.png', 'Train-2278.png', 'Train-2279.png', 'Train-2280.png', 'Train-2281.png', 'Train-2282.png', 'Train-2283.png', 'Train-2284.png', 'Train-2285.png', 'Train-2286.png', 'Train-2287.png', 'Train-2288.png', 'Train-2289.png', 'Train-2290.png', 'Train-2291.png', 'Train-2292.png', 'Train-2293.png', 'Train-2294.png', 'Train-2295.png', 'Train-2296.png', 'Train-2297.png', 'Train-2298.png', 'Train-2299.png', 'Train-2300.png', 'Train-2301.png', 'Train-2302.png', 'Train-2303.png', 'Train-2304.png', 'Train-2305.png', 'Train-2306.png', 'Train-2307.png', 'Train-2308.png', 'Train-2309.png', 'Train-2310.png', 'Train-2311.png', 'Train-2312.png', 'Train-2313.png', 'Train-2314.png', 'Train-2315.png', 'Train-2316.png', 'Train-2317.png', 'Train-2318.png', 'Train-2319.png', 'Train-2320.png', 'Train-2321.png', 'Train-2322.png', 'Train-2323.png', 'Train-2324.png', 'Train-2325.png', 'Train-2326.png', 'Train-2327.png', 'Train-2328.png', 'Train-2329.png', 'Train-2330.png', 'Train-2331.png', 'Train-2332.png', 'Train-2333.png', 'Train-2334.png', 'Train-2335.png', 'Train-2336.png', 'Train-2337.png', 'Train-2338.png', 'Train-2339.png', 'Train-2340.png', 'Train-2341.png', 'Train-2342.png', 'Train-2343.png', 'Train-2344.png', 'Train-2345.png', 'Train-2346.png', 'Train-2347.png', 'Train-2348.png', 'Train-2349.png', 'Train-2350.png', 'Train-2351.png', 'Train-2352.png', 'Train-2353.png', 'Train-2354.png', 'Train-2355.png', 'Train-2356.png', 'Train-2357.png', 'Train-2358.png', 'Train-2359.png', 'Train-2360.png', 'Train-2361.png', 'Train-2362.png', 'Train-2363.png', 'Train-2364.png', 'Train-2365.png', 'Train-2366.png', 'Train-2367.png', 'Train-2368.png', 'Train-2369.png', 'Train-2370.png', 'Train-2371.png', 'Train-2372.png', 'Train-2373.png', 'Train-2374.png', 'Train-2375.png', 'Train-2376.png', 'Train-2377.png', 'Train-2378.png', 'Train-2379.png', 'Train-2380.png', 'Train-2381.png', 'Train-2382.png', 'Train-2383.png', 'Train-2384.png', 'Train-2385.png', 'Train-2386.png', 'Train-2387.png', 'Train-2388.png', 'Train-2389.png', 'Train-2390.png', 'Train-2391.png', 'Train-2392.png', 'Train-2393.png', 'Train-2394.png', 'Train-2395.png', 'Train-2396.png', 'Train-2397.png', 'Train-2398.png', 'Train-2399.png', 'Train-2400.png', 'Train-2401.png', 'Train-2402.png', 'Train-2403.png', 'Train-2404.png', 'Train-2405.png', 'Train-2406.png', 'Train-2407.png', 'Train-2408.png', 'Train-2409.png', 'Train-2410.png', 'Train-2411.png', 'Train-2412.png', 'Train-2413.png', 'Train-2414.png', 'Train-2415.png', 'Train-2416.png', 'Train-2417.png', 'Train-2418.png', 'Train-2419.png', 'Train-2420.png', 'Train-2421.png', 'Train-2422.png', 'Train-2423.png', 'Train-2424.png', 'Train-2425.png', 'Train-2426.png', 'Train-2427.png', 'Train-2428.png', 'Train-2429.png', 'Train-2430.png', 'Train-2431.png', 'Train-2432.png', 'Train-2433.png', 'Train-2434.png', 'Train-2435.png', 'Train-2436.png', 'Train-2437.png', 'Train-2438.png', 'Train-2439.png', 'Train-2440.png', 'Train-2441.png', 'Train-2442.png', 'Train-2443.png', 'Train-2444.png', 'Train-2445.png', 'Train-2446.png', 'Train-2447.png', 'Train-2448.png', 'Train-2449.png', 'Train-2450.png', 'Train-2451.png', 'Train-2452.png', 'Train-2453.png', 'Train-2454.png', 'Train-2455.png', 'Train-2456.png', 'Train-2457.png', 'Train-2458.png', 'Train-2459.png', 'Train-2460.png', 'Train-2461.png', 'Train-2462.png', 'Train-2463.png', 'Train-2464.png', 'Train-2465.png', 'Train-2466.png', 'Train-2467.png', 'Train-2468.png', 'Train-2469.png', 'Train-2470.png', 'Train-2471.png', 'Train-2472.png', 'Train-2473.png', 'Train-2474.png', 'Train-2475.png', 'Train-2476.png', 'Train-2477.png', 'Train-2478.png', 'Train-2479.png', 'Train-2480.png', 'Train-2481.png', 'Train-2482.png', 'Train-2483.png', 'Train-2484.png', 'Train-2485.png', 'Train-2486.png', 'Train-2487.png', 'Train-2488.png', 'Train-2489.png', 'Train-2490.png', 'Train-2491.png', 'Train-2492.png', 'Train-2493.png', 'Train-2494.png', 'Train-2495.png', 'Train-2496.png', 'Train-2497.png', 'Train-2498.png', 'Train-2499.png', 'Train-2500.png', 'Train-2501.png', 'Train-2502.png', 'Train-2503.png', 'Train-2504.png', 'Train-2505.png', 'Train-2506.png', 'Train-2507.png', 'Train-2508.png', 'Train-2509.png', 'Train-2510.png', 'Train-2511.png', 'Train-2512.png', 'Train-2513.png', 'Train-2514.png', 'Train-2515.png', 'Train-2516.png', 'Train-2517.png', 'Train-2518.png', 'Train-2519.png', 'Train-2520.png', 'Train-2521.png', 'Train-2522.png', 'Train-2523.png', 'Train-2524.png', 'Train-2525.png', 'Train-2526.png', 'Train-2527.png', 'Train-2528.png', 'Train-2529.png', 'Train-2530.png', 'Train-2531.png', 'Train-2532.png', 'Train-2533.png', 'Train-2534.png', 'Train-2535.png', 'Train-2536.png', 'Train-2537.png', 'Train-2538.png', 'Train-2539.png', 'Train-2540.png', 'Train-2541.png', 'Train-2542.png', 'Train-2543.png', 'Train-2544.png', 'Train-2545.png', 'Train-2546.png', 'Train-2547.png', 'Train-2548.png', 'Train-2549.png', 'Train-2550.png', 'Train-2551.png', 'Train-2552.png', 'Train-2553.png', 'Train-2554.png', 'Train-2555.png', 'Train-2556.png', 'Train-2557.png', 'Train-2558.png', 'Train-2559.png', 'Train-2560.png', 'Train-2561.png', 'Train-2562.png', 'Train-2563.png', 'Train-2564.png', 'Train-2565.png', 'Train-2566.png', 'Train-2567.png', 'Train-2568.png', 'Train-2569.png', 'Train-2570.png', 'Train-2571.png', 'Train-2572.png', 'Train-2573.png', 'Train-2574.png', 'Train-2575.png', 'Train-2576.png', 'Train-2577.png', 'Train-2578.png', 'Train-2579.png', 'Train-2580.png', 'Train-2581.png', 'Train-2582.png', 'Train-2583.png', 'Train-2584.png', 'Train-2585.png', 'Train-2586.png', 'Train-2587.png', 'Train-2588.png', 'Train-2589.png', 'Train-2590.png', 'Train-2591.png', 'Train-2592.png', 'Train-2593.png', 'Train-2594.png', 'Train-2595.png', 'Train-2596.png', 'Train-2597.png', 'Train-2598.png', 'Train-2599.png', 'Train-2600.png', 'Train-2601.png', 'Train-2602.png', 'Train-2603.png', 'Train-2604.png', 'Train-2605.png', 'Train-2606.png', 'Train-2607.png', 'Train-2608.png', 'Train-2609.png', 'Train-2610.png', 'Train-2611.png', 'Train-2612.png', 'Train-2613.png', 'Train-2614.png', 'Train-2615.png', 'Train-2616.png', 'Train-2617.png', 'Train-2618.png', 'Train-2619.png', 'Train-2620.png', 'Train-2621.png', 'Train-2622.png', 'Train-2623.png', 'Train-2624.png', 'Train-2625.png', 'Train-2626.png', 'Train-2627.png', 'Train-2628.png', 'Train-2629.png', 'Train-2630.png', 'Train-2631.png', 'Train-2632.png', 'Train-2633.png', 'Train-2634.png', 'Train-2635.png', 'Train-2636.png', 'Train-2637.png', 'Train-2638.png', 'Train-2639.png', 'Train-2640.png', 'Train-2641.png', 'Train-2642.png', 'Train-2643.png', 'Train-2644.png', 'Train-2645.png', 'Train-2646.png', 'Train-2647.png', 'Train-2648.png', 'Train-2649.png', 'Train-2650.png', 'Train-2651.png', 'Train-2652.png', 'Train-2653.png', 'Train-2654.png', 'Train-2655.png', 'Train-2656.png', 'Train-2657.png', 'Train-2658.png', 'Train-2659.png', 'Train-2660.png', 'Train-2661.png', 'Train-2662.png', 'Train-2663.png', 'Train-2664.png', 'Train-2665.png', 'Train-2666.png', 'Train-2667.png', 'Train-2668.png', 'Train-2669.png', 'Train-2670.png', 'Train-2671.png', 'Train-2672.png', 'Train-2673.png', 'Train-2674.png', 'Train-2675.png', 'Train-2676.png', 'Train-2677.png', 'Train-2678.png', 'Train-2679.png', 'Train-2680.png', 'Train-2681.png', 'Train-2682.png', 'Train-2683.png', 'Train-2684.png', 'Train-2685.png', 'Train-2686.png', 'Train-2687.png', 'Train-2688.png', 'Train-2689.png', 'Train-2690.png', 'Train-2691.png', 'Train-2692.png', 'Train-2693.png', 'Train-2694.png', 'Train-2695.png', 'Train-2696.png', 'Train-2697.png', 'Train-2698.png', 'Train-2699.png', 'Train-2700.png', 'Train-2701.png', 'Train-2702.png', 'Train-2703.png', 'Train-2704.png', 'Train-2705.png', 'Train-2706.png', 'Train-2707.png', 'Train-2708.png', 'Train-2709.png', 'Train-2710.png', 'Train-2711.png', 'Train-2712.png', 'Train-2713.png', 'Train-2714.png', 'Train-2715.png', 'Train-2716.png', 'Train-2717.png', 'Train-2718.png', 'Train-2719.png', 'Train-2720.png', 'Train-2721.png', 'Train-2722.png', 'Train-2723.png', 'Train-2724.png', 'Train-2725.png', 'Train-2726.png', 'Train-2727.png', 'Train-2728.png', 'Train-2729.png', 'Train-2730.png', 'Train-2731.png', 'Train-2732.png', 'Train-2733.png', 'Train-2734.png', 'Train-2735.png', 'Train-2736.png', 'Train-2737.png', 'Train-2738.png', 'Train-2739.png', 'Train-2740.png', 'Train-2741.png', 'Train-2742.png', 'Train-2743.png', 'Train-2744.png', 'Train-2745.png', 'Train-2746.png', 'Train-2747.png', 'Train-2748.png', 'Train-2749.png', 'Train-2750.png', 'Train-2751.png', 'Train-2752.png', 'Train-2753.png', 'Train-2754.png', 'Train-2755.png', 'Train-2756.png', 'Train-2757.png', 'Train-2758.png', 'Train-2759.png', 'Train-2760.png', 'Train-2761.png', 'Train-2762.png', 'Train-2763.png', 'Train-2764.png', 'Train-2765.png', 'Train-2766.png', 'Train-2767.png', 'Train-2768.png', 'Train-2769.png', 'Train-2770.png', 'Train-2771.png', 'Train-2772.png', 'Train-2773.png', 'Train-2774.png', 'Train-2775.png', 'Train-2776.png', 'Train-2777.png', 'Train-2778.png', 'Train-2779.png', 'Train-2780.png', 'Train-2781.png', 'Train-2782.png', 'Train-2783.png', 'Train-2784.png', 'Train-2785.png', 'Train-2786.png', 'Train-2787.png', 'Train-2788.png', 'Train-2789.png', 'Train-2790.png', 'Train-2791.png', 'Train-2792.png', 'Train-2793.png', 'Train-2794.png', 'Train-2795.png', 'Train-2796.png', 'Train-2797.png', 'Train-2798.png', 'Train-2799.png', 'Train-2800.png', 'Train-2801.png', 'Train-2802.png', 'Train-2803.png', 'Train-2804.png', 'Train-2805.png', 'Train-2806.png', 'Train-2807.png', 'Train-2808.png', 'Train-2809.png', 'Train-2810.png', 'Train-2811.png', 'Train-2812.png', 'Train-2813.png', 'Train-2814.png', 'Train-2815.png', 'Train-2816.png', 'Train-2817.png', 'Train-2818.png', 'Train-2819.png', 'Train-2820.png', 'Train-2821.png', 'Train-2822.png', 'Train-2823.png', 'Train-2824.png', 'Train-2825.png', 'Train-2826.png', 'Train-2827.png', 'Train-2828.png', 'Train-2829.png', 'Train-2830.png', 'Train-2831.png', 'Train-2832.png', 'Train-2833.png', 'Train-2834.png', 'Train-2835.png', 'Train-2836.png', 'Train-2837.png', 'Train-2838.png', 'Train-2839.png', 'Train-2840.png', 'Train-2841.png', 'Train-2842.png', 'Train-2843.png', 'Train-2844.png', 'Train-2845.png', 'Train-2846.png', 'Train-2847.png', 'Train-2848.png', 'Train-2849.png', 'Train-2850.png', 'Train-2851.png', 'Train-2852.png', 'Train-2853.png', 'Train-2854.png', 'Train-2855.png', 'Train-2856.png', 'Train-2857.png', 'Train-2858.png', 'Train-2859.png', 'Train-2860.png', 'Train-2861.png', 'Train-2862.png', 'Train-2863.png', 'Train-2864.png', 'Train-2865.png', 'Train-2866.png', 'Train-2867.png', 'Train-2868.png', 'Train-2869.png', 'Train-2870.png', 'Train-2871.png', 'Train-2872.png', 'Train-2873.png', 'Train-2874.png', 'Train-2875.png', 'Train-2876.png', 'Train-2877.png', 'Train-2878.png', 'Train-2879.png', 'Train-2880.png', 'Train-2881.png', 'Train-2882.png', 'Train-2883.png', 'Train-2884.png', 'Train-2885.png', 'Train-2886.png', 'Train-2887.png', 'Train-2888.png', 'Train-2889.png', 'Train-2890.png', 'Train-2891.png', 'Train-2892.png', 'Train-2893.png', 'Train-2894.png', 'Train-2895.png', 'Train-2896.png', 'Train-2897.png', 'Train-2898.png', 'Train-2899.png', 'Train-2900.png', 'Train-2901.png', 'Train-2902.png', 'Train-2903.png', 'Train-2904.png', 'Train-2905.png', 'Train-2906.png', 'Train-2907.png', 'Train-2908.png', 'Train-2909.png', 'Train-2910.png', 'Train-2911.png', 'Train-2912.png', 'Train-2913.png', 'Train-2914.png', 'Train-2915.png', 'Train-2916.png', 'Train-2917.png', 'Train-2918.png', 'Train-2919.png', 'Train-2920.png', 'Train-2921.png', 'Train-2922.png', 'Train-2923.png', 'Train-2924.png', 'Train-2925.png', 'Train-2926.png', 'Train-2927.png', 'Train-2928.png', 'Train-2929.png', 'Train-2930.png', 'Train-2931.png', 'Train-2932.png', 'Train-2933.png', 'Train-2934.png', 'Train-2935.png', 'Train-2936.png', 'Train-2937.png', 'Train-2938.png', 'Train-2939.png', 'Train-2940.png', 'Train-2941.png', 'Train-2942.png', 'Train-2943.png', 'Train-2944.png', 'Train-2945.png', 'Train-2946.png', 'Train-2947.png', 'Train-2948.png', 'Train-2949.png', 'Train-2950.png', 'Train-2951.png', 'Train-2952.png', 'Train-2953.png', 'Train-2954.png', 'Train-2955.png', 'Train-2956.png', 'Train-2957.png', 'Train-2958.png', 'Train-2959.png', 'Train-2960.png', 'Train-2961.png', 'Train-2962.png', 'Train-2963.png', 'Train-2964.png', 'Train-2965.png', 'Train-2966.png', 'Train-2967.png', 'Train-2968.png', 'Train-2969.png', 'Train-2970.png', 'Train-2971.png', 'Train-2972.png', 'Train-2973.png', 'Train-2974.png', 'Train-2975.png', 'Train-2976.png', 'Train-2977.png', 'Train-2978.png', 'Train-2979.png', 'Train-2980.png', 'Train-2981.png', 'Train-2982.png', 'Train-2983.png', 'Train-2984.png', 'Train-2985.png', 'Train-2986.png', 'Train-2987.png', 'Train-2988.png', 'Train-2989.png', 'Train-2990.png', 'Train-2991.png', 'Train-2992.png', 'Train-2993.png', 'Train-2994.png', 'Train-2995.png', 'Train-2996.png', 'Train-2997.png', 'Train-2998.png', 'Train-2999.png', 'Train-3000.png', 'Train-3001.png', 'Train-3002.png', 'Train-3003.png', 'Train-3004.png', 'Train-3005.png', 'Train-3006.png', 'Train-3007.png', 'Train-3008.png', 'Train-3009.png', 'Train-3010.png', 'Train-3011.png', 'Train-3012.png', 'Train-3013.png', 'Train-3014.png', 'Train-3015.png', 'Train-3016.png', 'Train-3017.png', 'Train-3018.png', 'Train-3019.png', 'Train-3020.png', 'Train-3021.png', 'Train-3022.png', 'Train-3023.png', 'Train-3024.png', 'Train-3025.png', 'Train-3026.png', 'Train-3027.png', 'Train-3028.png', 'Train-3029.png', 'Train-3030.png', 'Train-3031.png', 'Train-3032.png', 'Train-3033.png', 'Train-3034.png', 'Train-3035.png', 'Train-3036.png', 'Train-3037.png', 'Train-3038.png', 'Train-3039.png', 'Train-3040.png', 'Train-3041.png', 'Train-3042.png', 'Train-3043.png', 'Train-3044.png', 'Train-3045.png', 'Train-3046.png', 'Train-3047.png', 'Train-3048.png', 'Train-3049.png', 'Train-3050.png', 'Train-3051.png', 'Train-3052.png', 'Train-3053.png', 'Train-3054.png', 'Train-3055.png', 'Train-3056.png', 'Train-3057.png', 'Train-3058.png', 'Train-3059.png', 'Train-3060.png', 'Train-3061.png', 'Train-3062.png', 'Train-3063.png', 'Train-3064.png', 'Train-3065.png', 'Train-3066.png', 'Train-3067.png', 'Train-3068.png', 'Train-3069.png', 'Train-3070.png', 'Train-3071.png', 'Train-3072.png', 'Train-3073.png', 'Train-3074.png', 'Train-3075.png', 'Train-3076.png', 'Train-3077.png', 'Train-3078.png', 'Train-3079.png', 'Train-3080.png', 'Train-3081.png', 'Train-3082.png', 'Train-3083.png', 'Train-3084.png', 'Train-3085.png', 'Train-3086.png', 'Train-3087.png', 'Train-3088.png', 'Train-3089.png', 'Train-3090.png', 'Train-3091.png', 'Train-3092.png', 'Train-3093.png', 'Train-3094.png', 'Train-3095.png', 'Train-3096.png', 'Train-3097.png', 'Train-3098.png', 'Train-3099.png', 'Train-3100.png', 'Train-3101.png', 'Train-3102.png', 'Train-3103.png', 'Train-3104.png', 'Train-3105.png', 'Train-3106.png', 'Train-3107.png', 'Train-3108.png', 'Train-3109.png', 'Train-3110.png', 'Train-3111.png', 'Train-3112.png', 'Train-3113.png', 'Train-3114.png', 'Train-3115.png', 'Train-3116.png', 'Train-3117.png', 'Train-3118.png', 'Train-3119.png', 'Train-3120.png', 'Train-3121.png', 'Train-3122.png', 'Train-3123.png', 'Train-3124.png', 'Train-3125.png', 'Train-3126.png', 'Train-3127.png', 'Train-3128.png', 'Train-3129.png', 'Train-3130.png', 'Train-3131.png', 'Train-3132.png', 'Train-3133.png', 'Train-3134.png', 'Train-3135.png', 'Train-3136.png', 'Train-3137.png', 'Train-3138.png', 'Train-3139.png', 'Train-3140.png', 'Train-3141.png', 'Train-3142.png', 'Train-3143.png', 'Train-3144.png', 'Train-3145.png', 'Train-3146.png', 'Train-3147.png', 'Train-3148.png', 'Train-3149.png', 'Train-3150.png', 'Train-3151.png', 'Train-3152.png', 'Train-3153.png', 'Train-3154.png', 'Train-3155.png', 'Train-3156.png', 'Train-3157.png', 'Train-3158.png', 'Train-3159.png', 'Train-3160.png', 'Train-3161.png', 'Train-3162.png', 'Train-3163.png', 'Train-3164.png', 'Train-3165.png', 'Train-3166.png', 'Train-3167.png', 'Train-3168.png', 'Train-3169.png', 'Train-3170.png', 'Train-3171.png', 'Train-3172.png', 'Train-3173.png', 'Train-3174.png', 'Train-3175.png', 'Train-3176.png', 'Train-3177.png', 'Train-3178.png', 'Train-3179.png', 'Train-3180.png', 'Train-3181.png', 'Train-3182.png', 'Train-3183.png', 'Train-3184.png', 'Train-3185.png', 'Train-3186.png', 'Train-3187.png', 'Train-3188.png', 'Train-3189.png', 'Train-3190.png', 'Train-3191.png', 'Train-3192.png', 'Train-3193.png', 'Train-3194.png', 'Train-3195.png', 'Train-3196.png', 'Train-3197.png', 'Train-3198.png', 'Train-3199.png', 'Train-3200.png', 'Train-3201.png', 'Train-3202.png', 'Train-3203.png', 'Train-3204.png', 'Train-3205.png', 'Train-3206.png', 'Train-3207.png', 'Train-3208.png', 'Train-3209.png', 'Train-3210.png', 'Train-3211.png', 'Train-3212.png', 'Train-3213.png', 'Train-3214.png', 'Train-3215.png', 'Train-3216.png', 'Train-3217.png', 'Train-3218.png', 'Train-3219.png', 'Train-3220.png', 'Train-3221.png', 'Train-3222.png', 'Train-3223.png', 'Train-3224.png', 'Train-3225.png', 'Train-3226.png', 'Train-3227.png', 'Train-3228.png', 'Train-3229.png', 'Train-3230.png', 'Train-3231.png', 'Train-3232.png', 'Train-3233.png', 'Train-3234.png', 'Train-3235.png', 'Train-3236.png', 'Train-3237.png', 'Train-3238.png', 'Train-3239.png', 'Train-3240.png', 'Train-3241.png', 'Train-3242.png', 'Train-3243.png', 'Train-3244.png', 'Train-3245.png', 'Train-3246.png', 'Train-3247.png', 'Train-3248.png', 'Train-3249.png', 'Train-3250.png', 'Train-3251.png', 'Train-3252.png', 'Train-3253.png', 'Train-3254.png', 'Train-3255.png', 'Train-3256.png', 'Train-3257.png', 'Train-3258.png', 'Train-3259.png', 'Train-3260.png', 'Train-3261.png', 'Train-3262.png', 'Train-3263.png', 'Train-3264.png', 'Train-3265.png', 'Train-3266.png', 'Train-3267.png', 'Train-3268.png', 'Train-3269.png', 'Train-3270.png', 'Train-3271.png', 'Train-3272.png', 'Train-3273.png', 'Train-3274.png', 'Train-3275.png', 'Train-3276.png', 'Train-3277.png', 'Train-3278.png', 'Train-3279.png', 'Train-3280.png', 'Train-3281.png', 'Train-3282.png', 'Train-3283.png', 'Train-3284.png', 'Train-3285.png', 'Train-3286.png', 'Train-3287.png', 'Train-3288.png', 'Train-3289.png', 'Train-3290.png', 'Train-3291.png', 'Train-3292.png', 'Train-3293.png', 'Train-3294.png', 'Train-3295.png', 'Train-3296.png', 'Train-3297.png', 'Train-3298.png', 'Train-3299.png', 'Train-3300.png', 'Train-3301.png', 'Train-3302.png', 'Train-3303.png', 'Train-3304.png', 'Train-3305.png', 'Train-3306.png', 'Train-3307.png', 'Train-3308.png', 'Train-3309.png', 'Train-3310.png', 'Train-3311.png', 'Train-3312.png', 'Train-3313.png', 'Train-3314.png', 'Train-3315.png', 'Train-3316.png', 'Train-3317.png', 'Train-3318.png', 'Train-3319.png', 'Train-3320.png', 'Train-3321.png', 'Train-3322.png', 'Train-3323.png', 'Train-3324.png', 'Train-3325.png', 'Train-3326.png', 'Train-3327.png', 'Train-3328.png', 'Train-3329.png', 'Train-3330.png', 'Train-3331.png', 'Train-3332.png', 'Train-3333.png', 'Train-3334.png', 'Train-3335.png', 'Train-3336.png', 'Train-3337.png', 'Train-3338.png', 'Train-3339.png', 'Train-3340.png', 'Train-3341.png', 'Train-3342.png', 'Train-3343.png', 'Train-3344.png', 'Train-3345.png', 'Train-3346.png', 'Train-3347.png', 'Train-3348.png', 'Train-3349.png', 'Train-3350.png', 'Train-3351.png', 'Train-3352.png', 'Train-3353.png', 'Train-3354.png', 'Train-3355.png', 'Train-3356.png', 'Train-3357.png', 'Train-3358.png', 'Train-3359.png', 'Train-3360.png', 'Train-3361.png', 'Train-3362.png', 'Train-3363.png', 'Train-3364.png', 'Train-3365.png', 'Train-3366.png', 'Train-3367.png', 'Train-3368.png', 'Train-3369.png', 'Train-3370.png', 'Train-3371.png', 'Train-3372.png', 'Train-3373.png', 'Train-3374.png', 'Train-3375.png', 'Train-3376.png', 'Train-3377.png', 'Train-3378.png', 'Train-3379.png', 'Train-3380.png', 'Train-3381.png', 'Train-3382.png', 'Train-3383.png', 'Train-3384.png', 'Train-3385.png', 'Train-3386.png', 'Train-3387.png', 'Train-3388.png', 'Train-3389.png', 'Train-3390.png', 'Train-3391.png', 'Train-3392.png', 'Train-3393.png', 'Train-3394.png', 'Train-3395.png', 'Train-3396.png', 'Train-3397.png', 'Train-3398.png', 'Train-3399.png', 'Train-3400.png', 'Train-3401.png', 'Train-3402.png', 'Train-3403.png', 'Train-3404.png', 'Train-3405.png', 'Train-3406.png', 'Train-3407.png', 'Train-3408.png', 'Train-3409.png', 'Train-3410.png', 'Train-3411.png', 'Train-3412.png', 'Train-3413.png', 'Train-3414.png', 'Train-3415.png', 'Train-3416.png', 'Train-3417.png', 'Train-3418.png', 'Train-3419.png', 'Train-3420.png', 'Train-3421.png', 'Train-3422.png', 'Train-3423.png', 'Train-3424.png', 'Train-3425.png', 'Train-3426.png', 'Train-3427.png', 'Train-3428.png', 'Train-3429.png', 'Train-3430.png', 'Train-3431.png', 'Train-3432.png', 'Train-3433.png', 'Train-3434.png', 'Train-3435.png', 'Train-3436.png', 'Train-3437.png', 'Train-3438.png', 'Train-3439.png', 'Train-3440.png', 'Train-3441.png', 'Train-3442.png', 'Train-3443.png', 'Train-3444.png', 'Train-3445.png', 'Train-3446.png', 'Train-3447.png', 'Train-3448.png', 'Train-3449.png', 'Train-3450.png', 'Train-3451.png', 'Train-3452.png', 'Train-3453.png', 'Train-3454.png', 'Train-3455.png', 'Train-3456.png', 'Train-3457.png', 'Train-3458.png', 'Train-3459.png', 'Train-3460.png', 'Train-3461.png', 'Train-3462.png', 'Train-3463.png', 'Train-3464.png', 'Train-3465.png', 'Train-3466.png', 'Train-3467.png', 'Train-3468.png', 'Train-3469.png', 'Train-3470.png', 'Train-3471.png', 'Train-3472.png', 'Train-3473.png', 'Train-3474.png', 'Train-3475.png', 'Train-3476.png', 'Train-3477.png', 'Train-3478.png', 'Train-3479.png', 'Train-3480.png', 'Train-3481.png', 'Train-3482.png', 'Train-3483.png', 'Train-3484.png', 'Train-3485.png', 'Train-3486.png', 'Train-3487.png', 'Train-3488.png', 'Train-3489.png', 'Train-3490.png', 'Train-3491.png', 'Train-3492.png', 'Train-3493.png', 'Train-3494.png', 'Train-3495.png', 'Train-3496.png', 'Train-3497.png', 'Train-3498.png', 'Train-3499.png', 'Train-3500.png', 'Train-3501.png', 'Train-3502.png', 'Train-3503.png', 'Train-3504.png', 'Train-3505.png', 'Train-3506.png', 'Train-3507.png', 'Train-3508.png', 'Train-3509.png', 'Train-3510.png', 'Train-3511.png', 'Train-3512.png', 'Train-3513.png', 'Train-3514.png', 'Train-3515.png', 'Train-3516.png', 'Train-3517.png', 'Train-3518.png', 'Train-3519.png', 'Train-3520.png', 'Train-3521.png', 'Train-3522.png', 'Train-3523.png', 'Train-3524.png', 'Train-3525.png', 'Train-3526.png', 'Train-3527.png', 'Train-3528.png', 'Train-3529.png', 'Train-3530.png', 'Train-3531.png', 'Train-3532.png', 'Train-3533.png', 'Train-3534.png', 'Train-3535.png', 'Train-3536.png', 'Train-3537.png', 'Train-3538.png', 'Train-3539.png', 'Train-3540.png', 'Train-3541.png', 'Train-3542.png', 'Train-3543.png', 'Train-3544.png', 'Train-3545.png', 'Train-3546.png', 'Train-3547.png', 'Train-3548.png', 'Train-3549.png', 'Train-3550.png', 'Train-3551.png', 'Train-3552.png', 'Train-3553.png', 'Train-3554.png', 'Train-3555.png', 'Train-3556.png', 'Train-3557.png', 'Train-3558.png', 'Train-3559.png', 'Train-3560.png', 'Train-3561.png', 'Train-3562.png', 'Train-3563.png', 'Train-3564.png', 'Train-3565.png', 'Train-3566.png', 'Train-3567.png', 'Train-3568.png', 'Train-3569.png', 'Train-3570.png', 'Train-3571.png', 'Train-3572.png', 'Train-3573.png', 'Train-3574.png', 'Train-3575.png', 'Train-3576.png', 'Train-3577.png', 'Train-3578.png', 'Train-3579.png', 'Train-3580.png', 'Train-3581.png', 'Train-3582.png', 'Train-3583.png', 'Train-3584.png', 'Train-3585.png', 'Train-3586.png', 'Train-3587.png', 'Train-3588.png', 'Train-3589.png', 'Train-3590.png', 'Train-3591.png', 'Train-3592.png', 'Train-3593.png', 'Train-3594.png', 'Train-3595.png', 'Train-3596.png', 'Train-3597.png', 'Train-3598.png', 'Train-3599.png', 'Train-3600.png', 'Train-3601.png', 'Train-3602.png', 'Train-3603.png', 'Train-3604.png', 'Train-3605.png', 'Train-3606.png', 'Train-3607.png', 'Train-3608.png', 'Train-3609.png', 'Train-3610.png', 'Train-3611.png', 'Train-3612.png', 'Train-3613.png', 'Train-3614.png', 'Train-3615.png', 'Train-3616.png', 'Train-3617.png', 'Train-3618.png', 'Train-3619.png', 'Train-3620.png', 'Train-3621.png', 'Train-3622.png', 'Train-3623.png', 'Train-3624.png', 'Train-3625.png', 'Train-3626.png', 'Train-3627.png', 'Train-3628.png', 'Train-3629.png', 'Train-3630.png', 'Train-3631.png', 'Train-3632.png', 'Train-3633.png', 'Train-3634.png', 'Train-3635.png', 'Train-3636.png', 'Train-3637.png', 'Train-3638.png', 'Train-3639.png', 'Train-3640.png', 'Train-3641.png', 'Train-3642.png', 'Train-3643.png', 'Train-3644.png', 'Train-3645.png', 'Train-3646.png', 'Train-3647.png', 'Train-3648.png', 'Train-3649.png', 'Train-3650.png', 'Train-3651.png', 'Train-3652.png', 'Train-3653.png', 'Train-3654.png', 'Train-3655.png', 'Train-3656.png', 'Train-3657.png', 'Train-3658.png', 'Train-3659.png', 'Train-3660.png', 'Train-3661.png', 'Train-3662.png', 'Train-3663.png', 'Train-3664.png', 'Train-3665.png', 'Train-3666.png', 'Train-3667.png', 'Train-3668.png', 'Train-3669.png', 'Train-3670.png', 'Train-3671.png', 'Train-3672.png', 'Train-3673.png', 'Train-3674.png', 'Train-3675.png', 'Train-3676.png', 'Train-3677.png', 'Train-3678.png', 'Train-3679.png', 'Train-3680.png', 'Train-3681.png', 'Train-3682.png', 'Train-3683.png', 'Train-3684.png', 'Train-3685.png', 'Train-3686.png', 'Train-3687.png', 'Train-3688.png', 'Train-3689.png', 'Train-3690.png', 'Train-3691.png', 'Train-3692.png', 'Train-3693.png', 'Train-3694.png', 'Train-3695.png', 'Train-3696.png', 'Train-3697.png', 'Train-3698.png', 'Train-3699.png', 'Train-3700.png', 'Train-3701.png', 'Train-3702.png', 'Train-3703.png', 'Train-3704.png', 'Train-3705.png', 'Train-3706.png', 'Train-3707.png', 'Train-3708.png', 'Train-3709.png', 'Train-3710.png', 'Train-3711.png', 'Train-3712.png', 'Train-3713.png', 'Train-3714.png', 'Train-3715.png', 'Train-3716.png', 'Train-3717.png', 'Train-3718.png', 'Train-3719.png', 'Train-3720.png', 'Train-3721.png', 'Train-3722.png', 'Train-3723.png', 'Train-3724.png', 'Train-3725.png', 'Train-3726.png', 'Train-3727.png', 'Train-3728.png', 'Train-3729.png', 'Train-3730.png', 'Train-3731.png', 'Train-3732.png', 'Train-3733.png', 'Train-3734.png', 'Train-3735.png', 'Train-3736.png', 'Train-3737.png', 'Train-3738.png', 'Train-3739.png', 'Train-3740.png', 'Train-3741.png', 'Train-3742.png', 'Train-3743.png', 'Train-3744.png', 'Train-3745.png', 'Train-3746.png', 'Train-3747.png', 'Train-3748.png', 'Train-3749.png', 'Train-3750.png', 'Train-3751.png', 'Train-3752.png', 'Train-3753.png', 'Train-3754.png', 'Train-3755.png', 'Train-3756.png', 'Train-3757.png', 'Train-3758.png', 'Train-3759.png', 'Train-3760.png', 'Train-3761.png', 'Train-3762.png', 'Train-3763.png', 'Train-3764.png', 'Train-3765.png', 'Train-3766.png', 'Train-3767.png', 'Train-3768.png', 'Train-3769.png', 'Train-3770.png', 'Train-3771.png', 'Train-3772.png', 'Train-3773.png', 'Train-3774.png', 'Train-3775.png', 'Train-3776.png', 'Train-3777.png', 'Train-3778.png', 'Train-3779.png', 'Train-3780.png', 'Train-3781.png', 'Train-3782.png', 'Train-3783.png', 'Train-3784.png', 'Train-3785.png', 'Train-3786.png', 'Train-3787.png', 'Train-3788.png', 'Train-3789.png', 'Train-3790.png', 'Train-3791.png', 'Train-3792.png', 'Train-3793.png', 'Train-3794.png', 'Train-3795.png', 'Train-3796.png', 'Train-3797.png', 'Train-3798.png', 'Train-3799.png', 'Train-3800.png', 'Train-3801.png', 'Train-3802.png', 'Train-3803.png', 'Train-3804.png', 'Train-3805.png', 'Train-3806.png', 'Train-3807.png', 'Train-3808.png', 'Train-3809.png', 'Train-3810.png', 'Train-3811.png', 'Train-3812.png', 'Train-3813.png', 'Train-3814.png', 'Train-3815.png', 'Train-3816.png', 'Train-3817.png', 'Train-3818.png', 'Train-3819.png', 'Train-3820.png', 'Train-3821.png', 'Train-3822.png', 'Train-3823.png', 'Train-3824.png', 'Train-3825.png', 'Train-3826.png', 'Train-3827.png', 'Train-3828.png', 'Train-3829.png', 'Train-3830.png', 'Train-3831.png', 'Train-3832.png', 'Train-3833.png', 'Train-3834.png', 'Train-3835.png', 'Train-3836.png', 'Train-3837.png', 'Train-3838.png', 'Train-3839.png', 'Train-3840.png', 'Train-3841.png', 'Train-3842.png', 'Train-3843.png', 'Train-3844.png', 'Train-3845.png', 'Train-3846.png', 'Train-3847.png', 'Train-3848.png', 'Train-3849.png', 'Train-3850.png', 'Train-3851.png', 'Train-3852.png', 'Train-3853.png', 'Train-3854.png', 'Train-3855.png', 'Train-3856.png', 'Train-3857.png', 'Train-3858.png', 'Train-3859.png', 'Train-3860.png', 'Train-3861.png', 'Train-3862.png', 'Train-3863.png', 'Train-3864.png', 'Train-3865.png', 'Train-3866.png', 'Train-3867.png', 'Train-3868.png', 'Train-3869.png', 'Train-3870.png', 'Train-3871.png', 'Train-3872.png', 'Train-3873.png', 'Train-3874.png', 'Train-3875.png', 'Train-3876.png', 'Train-3877.png', 'Train-3878.png', 'Train-3879.png', 'Train-3880.png', 'Train-3881.png', 'Train-3882.png', 'Train-3883.png', 'Train-3884.png', 'Train-3885.png', 'Train-3886.png', 'Train-3887.png', 'Train-3888.png', 'Train-3889.png', 'Train-3890.png', 'Train-3891.png', 'Train-3892.png', 'Train-3893.png', 'Train-3894.png', 'Train-3895.png', 'Train-3896.png', 'Train-3897.png', 'Train-3898.png', 'Train-3899.png', 'Train-3900.png', 'Train-3901.png', 'Train-3902.png', 'Train-3903.png', 'Train-3904.png', 'Train-3905.png', 'Train-3906.png', 'Train-3907.png', 'Train-3908.png', 'Train-3909.png', 'Train-3910.png', 'Train-3911.png', 'Train-3912.png', 'Train-3913.png', 'Train-3914.png', 'Train-3915.png', 'Train-3916.png', 'Train-3917.png', 'Train-3918.png', 'Train-3919.png', 'Train-3920.png', 'Train-3921.png', 'Train-3922.png', 'Train-3923.png', 'Train-3924.png', 'Train-3925.png', 'Train-3926.png', 'Train-3927.png', 'Train-3928.png', 'Train-3929.png', 'Train-3930.png', 'Train-3931.png', 'Train-3932.png', 'Train-3933.png', 'Train-3934.png', 'Train-3935.png', 'Train-3936.png', 'Train-3937.png', 'Train-3938.png', 'Train-3939.png', 'Train-3940.png', 'Train-3941.png', 'Train-3942.png', 'Train-3943.png', 'Train-3944.png', 'Train-3945.png', 'Train-3946.png', 'Train-3947.png', 'Train-3948.png', 'Train-3949.png', 'Train-3950.png', 'Train-3951.png', 'Train-3952.png', 'Train-3953.png', 'Train-3954.png', 'Train-3955.png', 'Train-3956.png', 'Train-3957.png', 'Train-3958.png', 'Train-3959.png', 'Train-3960.png', 'Train-3961.png', 'Train-3962.png', 'Train-3963.png', 'Train-3964.png', 'Train-3965.png', 'Train-3966.png', 'Train-3967.png', 'Train-3968.png', 'Train-3969.png', 'Train-3970.png', 'Train-3971.png', 'Train-3972.png', 'Train-3973.png', 'Train-3974.png', 'Train-3975.png', 'Train-3976.png', 'Train-3977.png', 'Train-3978.png', 'Train-3979.png', 'Train-3980.png', 'Train-3981.png', 'Train-3982.png', 'Train-3983.png', 'Train-3984.png', 'Train-3985.png', 'Train-3986.png', 'Train-3987.png', 'Train-3988.png', 'Train-3989.png', 'Train-3990.png', 'Train-3991.png', 'Train-3992.png', 'Train-3993.png', 'Train-3994.png', 'Train-3995.png', 'Train-3996.png', 'Train-3997.png', 'Train-3998.png', 'Train-3999.png', 'Train-4000.png', 'Train-4001.png', 'Train-4002.png', 'Train-4003.png', 'Train-4004.png', 'Train-4005.png', 'Train-4006.png', 'Train-4007.png', 'Train-4008.png', 'Train-4009.png', 'Train-4010.png', 'Train-4011.png', 'Train-4012.png', 'Train-4013.png', 'Train-4014.png', 'Train-4015.png', 'Train-4016.png', 'Train-4017.png', 'Train-4018.png', 'Train-4019.png', 'Train-4020.png', 'Train-4021.png', 'Train-4022.png', 'Train-4023.png', 'Train-4024.png', 'Train-4025.png', 'Train-4026.png', 'Train-4027.png', 'Train-4028.png', 'Train-4029.png', 'Train-4030.png', 'Train-4031.png', 'Train-4032.png', 'Train-4033.png', 'Train-4034.png', 'Train-4035.png', 'Train-4036.png', 'Train-4037.png', 'Train-4038.png', 'Train-4039.png', 'Train-4040.png', 'Train-4041.png', 'Train-4042.png', 'Train-4043.png', 'Train-4044.png', 'Train-4045.png', 'Train-4046.png', 'Train-4047.png', 'Train-4048.png', 'Train-4049.png', 'Train-4050.png', 'Train-4051.png', 'Train-4052.png', 'Train-4053.png', 'Train-4054.png', 'Train-4055.png', 'Train-4056.png', 'Train-4057.png', 'Train-4058.png', 'Train-4059.png', 'Train-4060.png', 'Train-4061.png', 'Train-4062.png', 'Train-4063.png', 'Train-4064.png', 'Train-4065.png', 'Train-4066.png', 'Train-4067.png', 'Train-4068.png', 'Train-4069.png', 'Train-4070.png', 'Train-4071.png', 'Train-4072.png', 'Train-4073.png', 'Train-4074.png', 'Train-4075.png', 'Train-4076.png', 'Train-4077.png', 'Train-4078.png', 'Train-4079.png', 'Train-4080.png', 'Train-4081.png', 'Train-4082.png', 'Train-4083.png', 'Train-4084.png', 'Train-4085.png', 'Train-4086.png', 'Train-4087.png', 'Train-4088.png', 'Train-4089.png', 'Train-4090.png', 'Train-4091.png', 'Train-4092.png', 'Train-4093.png', 'Train-4094.png', 'Train-4095.png', 'Train-4096.png', 'Train-4097.png', 'Train-4098.png', 'Train-4099.png', 'Train-4100.png', 'Train-4101.png', 'Train-4102.png', 'Train-4103.png', 'Train-4104.png', 'Train-4105.png', 'Train-4106.png', 'Train-4107.png', 'Train-4108.png', 'Train-4109.png', 'Train-4110.png', 'Train-4111.png', 'Train-4112.png', 'Train-4113.png', 'Train-4114.png', 'Train-4115.png', 'Train-4116.png', 'Train-4117.png', 'Train-4118.png', 'Train-4119.png', 'Train-4120.png', 'Train-4121.png', 'Train-4122.png', 'Train-4123.png', 'Train-4124.png', 'Train-4125.png', 'Train-4126.png', 'Train-4127.png', 'Train-4128.png', 'Train-4129.png', 'Train-4130.png', 'Train-4131.png', 'Train-4132.png', 'Train-4133.png', 'Train-4134.png', 'Train-4135.png', 'Train-4136.png', 'Train-4137.png', 'Train-4138.png', 'Train-4139.png', 'Train-4140.png', 'Train-4141.png', 'Train-4142.png', 'Train-4143.png', 'Train-4144.png', 'Train-4145.png', 'Train-4146.png', 'Train-4147.png', 'Train-4148.png', 'Train-4149.png', 'Train-4150.png', 'Train-4151.png', 'Train-4152.png', 'Train-4153.png', 'Train-4154.png', 'Train-4155.png', 'Train-4156.png', 'Train-4157.png', 'Train-4158.png', 'Train-4159.png', 'Train-4160.png', 'Train-4161.png', 'Train-4162.png', 'Train-4163.png', 'Train-4164.png', 'Train-4165.png', 'Train-4166.png', 'Train-4167.png', 'Train-4168.png', 'Train-4169.png', 'Train-4170.png', 'Train-4171.png', 'Train-4172.png', 'Train-4173.png', 'Train-4174.png', 'Train-4175.png', 'Train-4176.png', 'Train-4177.png', 'Train-4178.png', 'Train-4179.png', 'Train-4180.png', 'Train-4181.png', 'Train-4182.png', 'Train-4183.png', 'Train-4184.png', 'Train-4185.png', 'Train-4186.png', 'Train-4187.png', 'Train-4188.png', 'Train-4189.png', 'Train-4190.png', 'Train-4191.png', 'Train-4192.png', 'Train-4193.png', 'Train-4194.png', 'Train-4195.png', 'Train-4196.png', 'Train-4197.png', 'Train-4198.png', 'Train-4199.png', 'Train-4200.png', 'Train-4201.png', 'Train-4202.png', 'Train-4203.png', 'Train-4204.png', 'Train-4205.png', 'Train-4206.png', 'Train-4207.png', 'Train-4208.png', 'Train-4209.png', 'Train-4210.png', 'Train-4211.png', 'Train-4212.png', 'Train-4213.png', 'Train-4214.png', 'Train-4215.png', 'Train-4216.png', 'Train-4217.png', 'Train-4218.png', 'Train-4219.png', 'Train-4220.png', 'Train-4221.png', 'Train-4222.png', 'Train-4223.png', 'Train-4224.png', 'Train-4225.png', 'Train-4226.png', 'Train-4227.png', 'Train-4228.png', 'Train-4229.png', 'Train-4230.png', 'Train-4231.png', 'Train-4232.png', 'Train-4233.png', 'Train-4234.png', 'Train-4235.png', 'Train-4236.png', 'Train-4237.png', 'Train-4238.png', 'Train-4239.png', 'Train-4240.png', 'Train-4241.png', 'Train-4242.png', 'Train-4243.png', 'Train-4244.png', 'Train-4245.png', 'Train-4246.png', 'Train-4247.png', 'Train-4248.png', 'Train-4249.png', 'Train-4250.png', 'Train-4251.png', 'Train-4252.png', 'Train-4253.png', 'Train-4254.png', 'Train-4255.png', 'Train-4256.png', 'Train-4257.png', 'Train-4258.png', 'Train-4259.png', 'Train-4260.png', 'Train-4261.png', 'Train-4262.png', 'Train-4263.png', 'Train-4264.png', 'Train-4265.png', 'Train-4266.png', 'Train-4267.png', 'Train-4268.png', 'Train-4269.png', 'Train-4270.png', 'Train-4271.png', 'Train-4272.png', 'Train-4273.png', 'Train-4274.png', 'Train-4275.png', 'Train-4276.png', 'Train-4277.png', 'Train-4278.png', 'Train-4279.png', 'Train-4280.png', 'Train-4281.png', 'Train-4282.png', 'Train-4283.png', 'Train-4284.png', 'Train-4285.png', 'Train-4286.png', 'Train-4287.png', 'Train-4288.png', 'Train-4289.png', 'Train-4290.png', 'Train-4291.png', 'Train-4292.png', 'Train-4293.png', 'Train-4294.png', 'Train-4295.png', 'Train-4296.png', 'Train-4297.png', 'Train-4298.png', 'Train-4299.png', 'Train-4300.png', 'Train-4301.png', 'Train-4302.png', 'Train-4303.png', 'Train-4304.png', 'Train-4305.png', 'Train-4306.png', 'Train-4307.png', 'Train-4308.png', 'Train-4309.png', 'Train-4310.png', 'Train-4311.png', 'Train-4312.png', 'Train-4313.png', 'Train-4314.png', 'Train-4315.png', 'Train-4316.png', 'Train-4317.png', 'Train-4318.png', 'Train-4319.png', 'Train-4320.png', 'Train-4321.png', 'Train-4322.png', 'Train-4323.png', 'Train-4324.png', 'Train-4325.png', 'Train-4326.png', 'Train-4327.png', 'Train-4328.png', 'Train-4329.png', 'Train-4330.png', 'Train-4331.png', 'Train-4332.png', 'Train-4333.png', 'Train-4334.png', 'Train-4335.png', 'Train-4336.png', 'Train-4337.png', 'Train-4338.png', 'Train-4339.png', 'Train-4340.png', 'Train-4341.png', 'Train-4342.png', 'Train-4343.png', 'Train-4344.png', 'Train-4345.png', 'Train-4346.png', 'Train-4347.png', 'Train-4348.png', 'Train-4349.png', 'Train-4350.png', 'Train-4351.png', 'Train-4352.png', 'Train-4353.png', 'Train-4354.png', 'Train-4355.png', 'Train-4356.png', 'Train-4357.png', 'Train-4358.png', 'Train-4359.png', 'Train-4360.png', 'Train-4361.png', 'Train-4362.png', 'Train-4363.png', 'Train-4364.png', 'Train-4365.png', 'Train-4366.png', 'Train-4367.png', 'Train-4368.png', 'Train-4369.png', 'Train-4370.png', 'Train-4371.png', 'Train-4372.png', 'Train-4373.png', 'Train-4374.png', 'Train-4375.png', 'Train-4376.png', 'Train-4377.png', 'Train-4378.png', 'Train-4379.png', 'Train-4380.png', 'Train-4381.png', 'Train-4382.png', 'Train-4383.png', 'Train-4384.png', 'Train-4385.png', 'Train-4386.png', 'Train-4387.png', 'Train-4388.png', 'Train-4389.png', 'Train-4390.png', 'Train-4391.png', 'Train-4392.png', 'Train-4393.png', 'Train-4394.png', 'Train-4395.png', 'Train-4396.png', 'Train-4397.png', 'Train-4398.png', 'Train-4399.png', 'Train-4400.png', 'Train-4401.png', 'Train-4402.png', 'Train-4403.png', 'Train-4404.png', 'Train-4405.png', 'Train-4406.png', 'Train-4407.png', 'Train-4408.png', 'Train-4409.png', 'Train-4410.png', 'Train-4411.png', 'Train-4412.png', 'Train-4413.png', 'Train-4414.png', 'Train-4415.png', 'Train-4416.png', 'Train-4417.png', 'Train-4418.png', 'Train-4419.png', 'Train-4420.png', 'Train-4421.png', 'Train-4422.png', 'Train-4423.png', 'Train-4424.png', 'Train-4425.png', 'Train-4426.png', 'Train-4427.png', 'Train-4428.png', 'Train-4429.png', 'Train-4430.png', 'Train-4431.png', 'Train-4432.png', 'Train-4433.png', 'Train-4434.png', 'Train-4435.png', 'Train-4436.png', 'Train-4437.png', 'Train-4438.png', 'Train-4439.png', 'Train-4440.png', 'Train-4441.png', 'Train-4442.png', 'Train-4443.png', 'Train-4444.png', 'Train-4445.png', 'Train-4446.png', 'Train-4447.png', 'Train-4448.png', 'Train-4449.png', 'Train-4450.png', 'Train-4451.png', 'Train-4452.png', 'Train-4453.png', 'Train-4454.png', 'Train-4455.png', 'Train-4456.png', 'Train-4457.png', 'Train-4458.png', 'Train-4459.png', 'Train-4460.png', 'Train-4461.png', 'Train-4462.png', 'Train-4463.png', 'Train-4464.png', 'Train-4465.png', 'Train-4466.png', 'Train-4467.png', 'Train-4468.png', 'Train-4469.png', 'Train-4470.png', 'Train-4471.png', 'Train-4472.png', 'Train-4473.png', 'Train-4474.png', 'Train-4475.png', 'Train-4476.png', 'Train-4477.png', 'Train-4478.png', 'Train-4479.png', 'Train-4480.png', 'Train-4481.png', 'Train-4482.png', 'Train-4483.png', 'Train-4484.png', 'Train-4485.png', 'Train-4486.png', 'Train-4487.png', 'Train-4488.png', 'Train-4489.png', 'Train-4490.png', 'Train-4491.png', 'Train-4492.png', 'Train-4493.png', 'Train-4494.png', 'Train-4495.png', 'Train-4496.png', 'Train-4497.png', 'Train-4498.png', 'Train-4499.png', 'Train-4500.png', 'Train-4501.png', 'Train-4502.png', 'Train-4503.png', 'Train-4504.png', 'Train-4505.png', 'Train-4506.png', 'Train-4507.png', 'Train-4508.png', 'Train-4509.png', 'Train-4510.png', 'Train-4511.png', 'Train-4512.png', 'Train-4513.png', 'Train-4514.png', 'Train-4515.png', 'Train-4516.png', 'Train-4517.png', 'Train-4518.png', 'Train-4519.png', 'Train-4520.png', 'Train-4521.png', 'Train-4522.png', 'Train-4523.png', 'Train-4524.png', 'Train-4525.png', 'Train-4526.png', 'Train-4527.png', 'Train-4528.png', 'Train-4529.png', 'Train-4530.png', 'Train-4531.png', 'Train-4532.png', 'Train-4533.png', 'Train-4534.png', 'Train-4535.png', 'Train-4536.png', 'Train-4537.png', 'Train-4538.png', 'Train-4539.png', 'Train-4540.png', 'Train-4541.png', 'Train-4542.png', 'Train-4543.png', 'Train-4544.png', 'Train-4545.png', 'Train-4546.png', 'Train-4547.png', 'Train-4548.png', 'Train-4549.png', 'Train-4550.png', 'Train-4551.png', 'Train-4552.png', 'Train-4553.png', 'Train-4554.png', 'Train-4555.png', 'Train-4556.png', 'Train-4557.png', 'Train-4558.png', 'Train-4559.png', 'Train-4560.png', 'Train-4561.png', 'Train-4562.png', 'Train-4563.png', 'Train-4564.png', 'Train-4565.png', 'Train-4566.png', 'Train-4567.png', 'Train-4568.png', 'Train-4569.png', 'Train-4570.png', 'Train-4571.png', 'Train-4572.png', 'Train-4573.png', 'Train-4574.png', 'Train-4575.png', 'Train-4576.png', 'Train-4577.png', 'Train-4578.png', 'Train-4579.png', 'Train-4580.png', 'Train-4581.png', 'Train-4582.png', 'Train-4583.png', 'Train-4584.png', 'Train-4585.png', 'Train-4586.png', 'Train-4587.png', 'Train-4588.png', 'Train-4589.png', 'Train-4590.png', 'Train-4591.png', 'Train-4592.png', 'Train-4593.png', 'Train-4594.png', 'Train-4595.png', 'Train-4596.png', 'Train-4597.png', 'Train-4598.png', 'Train-4599.png', 'Train-4600.png', 'Train-4601.png', 'Train-4602.png', 'Train-4603.png', 'Train-4604.png', 'Train-4605.png', 'Train-4606.png', 'Train-4607.png', 'Train-4608.png', 'Train-4609.png', 'Train-4610.png', 'Train-4611.png', 'Train-4612.png', 'Train-4613.png', 'Train-4614.png', 'Train-4615.png', 'Train-4616.png', 'Train-4617.png', 'Train-4618.png', 'Train-4619.png', 'Train-4620.png', 'Train-4621.png', 'Train-4622.png', 'Train-4623.png', 'Train-4624.png', 'Train-4625.png', 'Train-4626.png', 'Train-4627.png', 'Train-4628.png', 'Train-4629.png', 'Train-4630.png', 'Train-4631.png', 'Train-4632.png', 'Train-4633.png', 'Train-4634.png', 'Train-4635.png', 'Train-4636.png', 'Train-4637.png', 'Train-4638.png', 'Train-4639.png', 'Train-4640.png', 'Train-4641.png', 'Train-4642.png', 'Train-4643.png', 'Train-4644.png', 'Train-4645.png', 'Train-4646.png', 'Train-4647.png', 'Train-4648.png', 'Train-4649.png', 'Train-4650.png', 'Train-4651.png', 'Train-4652.png', 'Train-4653.png', 'Train-4654.png', 'Train-4655.png', 'Train-4656.png', 'Train-4657.png', 'Train-4658.png', 'Train-4659.png', 'Train-4660.png', 'Train-4661.png', 'Train-4662.png', 'Train-4663.png', 'Train-4664.png', 'Train-4665.png', 'Train-4666.png', 'Train-4667.png', 'Train-4668.png', 'Train-4669.png', 'Train-4670.png', 'Train-4671.png', 'Train-4672.png', 'Train-4673.png', 'Train-4674.png', 'Train-4675.png', 'Train-4676.png', 'Train-4677.png', 'Train-4678.png', 'Train-4679.png', 'Train-4680.png', 'Train-4681.png', 'Train-4682.png', 'Train-4683.png', 'Train-4684.png', 'Train-4685.png', 'Train-4686.png', 'Train-4687.png', 'Train-4688.png', 'Train-4689.png', 'Train-4690.png', 'Train-4691.png', 'Train-4692.png', 'Train-4693.png', 'Train-4694.png', 'Train-4695.png', 'Train-4696.png', 'Train-4697.png', 'Train-4698.png', 'Train-4699.png', 'Train-4700.png', 'Train-4701.png', 'Train-4702.png', 'Train-4703.png', 'Train-4704.png', 'Train-4705.png', 'Train-4706.png', 'Train-4707.png', 'Train-4708.png', 'Train-4709.png', 'Train-4710.png', 'Train-4711.png', 'Train-4712.png', 'Train-4713.png', 'Train-4714.png', 'Train-4715.png', 'Train-4716.png', 'Train-4717.png', 'Train-4718.png', 'Train-4719.png', 'Train-4720.png', 'Train-4721.png', 'Train-4722.png', 'Train-4723.png', 'Train-4724.png', 'Train-4725.png', 'Train-4726.png', 'Train-4727.png', 'Train-4728.png', 'Train-4729.png', 'Train-4730.png', 'Train-4731.png', 'Train-4732.png', 'Train-4733.png', 'Train-4734.png', 'Train-4735.png', 'Train-4736.png', 'Train-4737.png', 'Train-4738.png', 'Train-4739.png', 'Train-4740.png', 'Train-4741.png', 'Train-4742.png', 'Train-4743.png', 'Train-4744.png', 'Train-4745.png', 'Train-4746.png', 'Train-4747.png', 'Train-4748.png', 'Train-4749.png', 'Train-4750.png', 'Train-4751.png', 'Train-4752.png', 'Train-4753.png', 'Train-4754.png', 'Train-4755.png', 'Train-4756.png', 'Train-4757.png', 'Train-4758.png', 'Train-4759.png', 'Train-4760.png', 'Train-4761.png', 'Train-4762.png', 'Train-4763.png', 'Train-4764.png', 'Train-4765.png', 'Train-4766.png', 'Train-4767.png', 'Train-4768.png', 'Train-4769.png', 'Train-4770.png', 'Train-4771.png', 'Train-4772.png', 'Train-4773.png', 'Train-4774.png', 'Train-4775.png', 'Train-4776.png', 'Train-4777.png', 'Train-4778.png', 'Train-4779.png', 'Train-4780.png', 'Train-4781.png', 'Train-4782.png', 'Train-4783.png', 'Train-4784.png', 'Train-4785.png', 'Train-4786.png', 'Train-4787.png', 'Train-4788.png', 'Train-4789.png', 'Train-4790.png', 'Train-4791.png', 'Train-4792.png', 'Train-4793.png', 'Train-4794.png', 'Train-4795.png', 'Train-4796.png', 'Train-4797.png', 'Train-4798.png', 'Train-4799.png', 'Train-4800.png', 'Train-4801.png', 'Train-4802.png', 'Train-4803.png', 'Train-4804.png', 'Train-4805.png', 'Train-4806.png', 'Train-4807.png', 'Train-4808.png', 'Train-4809.png', 'Train-4810.png', 'Train-4811.png', 'Train-4812.png', 'Train-4813.png', 'Train-4814.png', 'Train-4815.png', 'Train-4816.png', 'Train-4817.png', 'Train-4818.png', 'Train-4819.png', 'Train-4820.png', 'Train-4821.png', 'Train-4822.png', 'Train-4823.png', 'Train-4824.png', 'Train-4825.png', 'Train-4826.png', 'Train-4827.png', 'Train-4828.png', 'Train-4829.png', 'Train-4830.png', 'Train-4831.png', 'Train-4832.png', 'Train-4833.png', 'Train-4834.png', 'Train-4835.png', 'Train-4836.png', 'Train-4837.png', 'Train-4838.png', 'Train-4839.png', 'Train-4840.png', 'Train-4841.png', 'Train-4842.png', 'Train-4843.png', 'Train-4844.png', 'Train-4845.png', 'Train-4846.png', 'Train-4847.png', 'Train-4848.png', 'Train-4849.png', 'Train-4850.png', 'Train-4851.png', 'Train-4852.png', 'Train-4853.png', 'Train-4854.png', 'Train-4855.png', 'Train-4856.png', 'Train-4857.png', 'Train-4858.png', 'Train-4859.png', 'Train-4860.png', 'Train-4861.png', 'Train-4862.png', 'Train-4863.png', 'Train-4864.png', 'Train-4865.png', 'Train-4866.png', 'Train-4867.png', 'Train-4868.png', 'Train-4869.png', 'Train-4870.png', 'Train-4871.png', 'Train-4872.png', 'Train-4873.png', 'Train-4874.png', 'Train-4875.png', 'Train-4876.png', 'Train-4877.png', 'Train-4878.png', 'Train-4879.png', 'Train-4880.png', 'Train-4881.png', 'Train-4882.png', 'Train-4883.png', 'Train-4884.png', 'Train-4885.png', 'Train-4886.png', 'Train-4887.png', 'Train-4888.png', 'Train-4889.png', 'Train-4890.png', 'Train-4891.png', 'Train-4892.png', 'Train-4893.png', 'Train-4894.png', 'Train-4895.png', 'Train-4896.png', 'Train-4897.png', 'Train-4898.png', 'Train-4899.png', 'Train-4900.png', 'Train-4901.png', 'Train-4902.png', 'Train-4903.png', 'Train-4904.png', 'Train-4905.png', 'Train-4906.png', 'Train-4907.png', 'Train-4908.png', 'Train-4909.png', 'Train-4910.png', 'Train-4911.png', 'Train-4912.png', 'Train-4913.png', 'Train-4914.png', 'Train-4915.png', 'Train-4916.png', 'Train-4917.png', 'Train-4918.png', 'Train-4919.png', 'Train-4920.png', 'Train-4921.png', 'Train-4922.png', 'Train-4923.png', 'Train-4924.png', 'Train-4925.png', 'Train-4926.png', 'Train-4927.png', 'Train-4928.png', 'Train-4929.png', 'Train-4930.png', 'Train-4931.png', 'Train-4932.png', 'Train-4933.png', 'Train-4934.png', 'Train-4935.png', 'Train-4936.png', 'Train-4937.png', 'Train-4938.png', 'Train-4939.png', 'Train-4940.png', 'Train-4941.png', 'Train-4942.png', 'Train-4943.png', 'Train-4944.png', 'Train-4945.png', 'Train-4946.png', 'Train-4947.png', 'Train-4948.png', 'Train-4949.png', 'Train-4950.png', 'Train-4951.png', 'Train-4952.png', 'Train-4953.png', 'Train-4954.png', 'Train-4955.png', 'Train-4956.png', 'Train-4957.png', 'Train-4958.png', 'Train-4959.png', 'Train-4960.png', 'Train-4961.png', 'Train-4962.png', 'Train-4963.png', 'Train-4964.png', 'Train-4965.png', 'Train-4966.png', 'Train-4967.png', 'Train-4968.png', 'Train-4969.png', 'Train-4970.png', 'Train-4971.png', 'Train-4972.png', 'Train-4973.png', 'Train-4974.png', 'Train-4975.png', 'Train-4976.png', 'Train-4977.png', 'Train-4978.png', 'Train-4979.png', 'Train-4980.png', 'Train-4981.png', 'Train-4982.png', 'Train-4983.png', 'Train-4984.png', 'Train-4985.png', 'Train-4986.png', 'Train-4987.png', 'Train-4988.png', 'Train-4989.png', 'Train-4990.png', 'Train-4991.png', 'Train-4992.png', 'Train-4993.png', 'Train-4994.png', 'Train-4995.png', 'Train-4996.png', 'Train-4997.png', 'Train-4998.png', 'Train-4999.png', 'Train-5000.png', 'Train-5001.png', 'Train-5002.png', 'Train-5003.png', 'Train-5004.png', 'Train-5005.png', 'Train-5006.png', 'Train-5007.png', 'Train-5008.png', 'Train-5009.png', 'Train-5010.png', 'Train-5011.png', 'Train-5012.png', 'Train-5013.png', 'Train-5014.png', 'Train-5015.png', 'Train-5016.png', 'Train-5017.png', 'Train-5018.png', 'Train-5019.png', 'Train-5020.png', 'Train-5021.png', 'Train-5022.png', 'Train-5023.png', 'Train-5024.png', 'Train-5025.png', 'Train-5026.png', 'Train-5027.png', 'Train-5028.png', 'Train-5029.png', 'Train-5030.png', 'Train-5031.png', 'Train-5032.png', 'Train-5033.png', 'Train-5034.png', 'Train-5035.png', 'Train-5036.png', 'Train-5037.png', 'Train-5038.png', 'Train-5039.png', 'Train-5040.png', 'Train-5041.png', 'Train-5042.png', 'Train-5043.png', 'Train-5044.png', 'Train-5045.png', 'Train-5046.png', 'Train-5047.png', 'Train-5048.png', 'Train-5049.png', 'Train-5050.png', 'Train-5051.png', 'Train-5052.png', 'Train-5053.png', 'Train-5054.png', 'Train-5055.png', 'Train-5056.png', 'Train-5057.png', 'Train-5058.png', 'Train-5059.png', 'Train-5060.png', 'Train-5061.png', 'Train-5062.png', 'Train-5063.png', 'Train-5064.png', 'Train-5065.png', 'Train-5066.png', 'Train-5067.png', 'Train-5068.png', 'Train-5069.png', 'Train-5070.png', 'Train-5071.png', 'Train-5072.png', 'Train-5073.png', 'Train-5074.png', 'Train-5075.png', 'Train-5076.png', 'Train-5077.png', 'Train-5078.png', 'Train-5079.png', 'Train-5080.png', 'Train-5081.png', 'Train-5082.png', 'Train-5083.png', 'Train-5084.png', 'Train-5085.png', 'Train-5086.png', 'Train-5087.png', 'Train-5088.png', 'Train-5089.png', 'Train-5090.png', 'Train-5091.png', 'Train-5092.png', 'Train-5093.png', 'Train-5094.png', 'Train-5095.png', 'Train-5096.png', 'Train-5097.png', 'Train-5098.png', 'Train-5099.png', 'Train-5100.png', 'Train-5101.png', 'Train-5102.png', 'Train-5103.png', 'Train-5104.png', 'Train-5105.png', 'Train-5106.png', 'Train-5107.png', 'Train-5108.png', 'Train-5109.png', 'Train-5110.png', 'Train-5111.png', 'Train-5112.png', 'Train-5113.png', 'Train-5114.png', 'Train-5115.png', 'Train-5116.png', 'Train-5117.png', 'Train-5118.png', 'Train-5119.png', 'Train-5120.png', 'Train-5121.png', 'Train-5122.png', 'Train-5123.png', 'Train-5124.png', 'Train-5125.png', 'Train-5126.png', 'Train-5127.png', 'Train-5128.png', 'Train-5129.png', 'Train-5130.png', 'Train-5131.png', 'Train-5132.png', 'Train-5133.png', 'Train-5134.png', 'Train-5135.png', 'Train-5136.png', 'Train-5137.png', 'Train-5138.png', 'Train-5139.png', 'Train-5140.png', 'Train-5141.png', 'Train-5142.png', 'Train-5143.png', 'Train-5144.png', 'Train-5145.png', 'Train-5146.png', 'Train-5147.png', 'Train-5148.png', 'Train-5149.png', 'Train-5150.png', 'Train-5151.png', 'Train-5152.png', 'Train-5153.png', 'Train-5154.png', 'Train-5155.png', 'Train-5156.png', 'Train-5157.png', 'Train-5158.png', 'Train-5159.png', 'Train-5160.png', 'Train-5161.png', 'Train-5162.png', 'Train-5163.png', 'Train-5164.png', 'Train-5165.png', 'Train-5166.png', 'Train-5167.png', 'Train-5168.png', 'Train-5169.png', 'Train-5170.png', 'Train-5171.png', 'Train-5172.png', 'Train-5173.png', 'Train-5174.png', 'Train-5175.png', 'Train-5176.png', 'Train-5177.png', 'Train-5178.png', 'Train-5179.png', 'Train-5180.png', 'Train-5181.png', 'Train-5182.png', 'Train-5183.png', 'Train-5184.png', 'Train-5185.png', 'Train-5186.png', 'Train-5187.png', 'Train-5188.png', 'Train-5189.png', 'Train-5190.png', 'Train-5191.png', 'Train-5192.png', 'Train-5193.png', 'Train-5194.png', 'Train-5195.png', 'Train-5196.png', 'Train-5197.png', 'Train-5198.png', 'Train-5199.png', 'Train-5200.png', 'Train-5201.png', 'Train-5202.png', 'Train-5203.png', 'Train-5204.png', 'Train-5205.png', 'Train-5206.png', 'Train-5207.png', 'Train-5208.png', 'Train-5209.png', 'Train-5210.png', 'Train-5211.png', 'Train-5212.png', 'Train-5213.png', 'Train-5214.png', 'Train-5215.png', 'Train-5216.png', 'Train-5217.png', 'Train-5218.png', 'Train-5219.png', 'Train-5220.png', 'Train-5221.png', 'Train-5222.png', 'Train-5223.png', 'Train-5224.png', 'Train-5225.png', 'Train-5226.png', 'Train-5227.png']\n"
     ]
    }
   ],
   "source": [
    "train, y_train = lectura(\"train/\",fichero_train,pathImagenes)"
   ]
  },
  {
   "cell_type": "code",
   "execution_count": null,
   "metadata": {},
   "outputs": [],
   "source": []
  }
 ],
 "metadata": {
  "kernelspec": {
   "display_name": "Python 3",
   "language": "python",
   "name": "python3"
  },
  "language_info": {
   "codemirror_mode": {
    "name": "ipython",
    "version": 3
   },
   "file_extension": ".py",
   "mimetype": "text/x-python",
   "name": "python",
   "nbconvert_exporter": "python",
   "pygments_lexer": "ipython3",
   "version": "3.7.4"
  }
 },
 "nbformat": 4,
 "nbformat_minor": 2
}
