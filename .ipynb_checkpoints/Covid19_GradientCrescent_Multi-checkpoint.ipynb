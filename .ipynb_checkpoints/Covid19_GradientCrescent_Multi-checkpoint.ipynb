{
 "cells": [
  {
   "cell_type": "markdown",
   "metadata": {
    "colab_type": "text",
    "id": "gyG4OC_n_Bgb"
   },
   "source": [
    "## COVID19 CT Pneumonia Detection - Multiclass Case\n",
    "By Adrian Yijie Xu\n",
    "(https://medium.com/@adrianitsaxu)\n",
    "\n",
    "As discussed in \"Detecting COVID-19 induced Pneumonia from Chest X-rays with Transfer Learning: An implementation in Tensorflow and Keras.\"\n",
    "(https://github.com/EXJUSTICE/GradientCrescent)\n",
    "\n",
    "50% test accuracy with 4 classes\n",
    "100% test accuracy with 3 classes\n",
    "\n",
    "Conclusion: Viral Pneumonia indistinguishable from COVID19: acceptable, given that COVID19 is itself caused by viral means.\n",
    "\n"
   ]
  },
  {
   "cell_type": "code",
   "execution_count": 0,
   "metadata": {
    "colab": {},
    "colab_type": "code",
    "id": "JHtRS9Wf9mZc"
   },
   "outputs": [],
   "source": [
    "# This Python 3 environment comes with many helpful analytics libraries installed\n",
    "# It is defined by the kaggle/python docker image: https://github.com/kaggle/docker-python\n",
    "# For example, here's several helpful packages to load in \n",
    "#set randomness for reproducibility\n",
    "\n",
    "from numpy.random import seed\n",
    "seed(8) #1\n",
    "import tensorflow\n",
    "tensorflow.random.set_seed(7)\n",
    "\n",
    "#\n",
    "\n",
    "import numpy as np # linear algebra\n",
    "import pandas as pd # data processing, CSV file I/O (e.g. pd.read_csv)\n",
    "\n",
    "# Input data files are available in the \"../input/\" directory.\n",
    "# For example, running this (by clicking run or pressing Shift+Enter) will list the files in the input directory\n",
    "\n",
    "import os\n"
   ]
  },
  {
   "cell_type": "code",
   "execution_count": null,
   "metadata": {
    "colab": {
     "base_uri": "https://localhost:8080/",
     "height": 122
    },
    "colab_type": "code",
    "id": "fnroEhziXSEX",
    "outputId": "2c9b38ec-360c-4139-ebe1-c692c5c8b20f"
   },
   "outputs": [],
   "source": [
    "# from google.colab import drive\n",
    "# drive.mount('/content/drive')"
   ]
  },
  {
   "cell_type": "code",
   "execution_count": 0,
   "metadata": {
    "colab": {},
    "colab_type": "code",
    "id": "cvTuKxbA_6Qx"
   },
   "outputs": [],
   "source": [
    "# %cp -r /content/drive/My\\ Drive/Data/ /content/\n",
    "# %cp -r /content/drive/My\\ Drive/ImagenesCovidExtra/ /content/"
   ]
  },
  {
   "cell_type": "code",
   "execution_count": 0,
   "metadata": {
    "colab": {},
    "colab_type": "code",
    "id": "wn50F6B08p8m"
   },
   "outputs": [],
   "source": [
    "def copiaImagenes(src='ImagenesCovidExtra/', dst='Data/COVID-19/'):\n",
    "    if(not os.path.exists(src)):\n",
    "        print(\"¡Error! El directorio de origen no existe\")\n",
    "        return\n",
    "    elif(not os.path.exists(src)):\n",
    "        print(\"¡Error! El directorio de destino no existe\")\n",
    "        return\n",
    "    print(\"Copiando ficheros de \"+src+\" a \"+dst)\n",
    "    src_files = os.listdir(src)\n",
    "    for file_name in src_files:\n",
    "        full_file_name = os.path.join(src, file_name)\n",
    "        if os.path.isfile(full_file_name):\n",
    "            shutil.copy(full_file_name, dst)"
   ]
  },
  {
   "cell_type": "code",
   "execution_count": 0,
   "metadata": {
    "colab": {},
    "colab_type": "code",
    "id": "iM8W5CiYS5Eo"
   },
   "outputs": [],
   "source": [
    "def particionamiento(listaDatos, train_percent=.6, validate_percent=.2, seed=0, pathImagenes=[\"COVID/\",\"NORMAL/\",\"VIRAL/\"], pathD=\"/content/KerasDataset/\"):\n",
    "    np.random.seed(seed)\n",
    "    Train = \"train/\"\n",
    "    Test  = \"test/\"\n",
    "    Val = \"val/\" \n",
    "   \n",
    "    if(os.path.exists(pathD)):\n",
    "        try:\n",
    "            shutil.rmtree(pathD,ignore_errors=True)\n",
    "        except OSError as e:\n",
    "            print(\"¡Error! No se ha podido eliminar el directorio\")\n",
    "    \n",
    "    print(\"Generando el particionamiento y almacenando las imagenes en disco...\")\n",
    "    os.mkdir(pathD, 0o7777)\n",
    "    os.mkdir(pathD+Train, 0o7777)\n",
    "    os.mkdir(pathD+Test, 0o7777)\n",
    "    os.mkdir(pathD+Val, 0o7777)\n",
    "    for i,lista in enumerate(listaDatos):\n",
    "        lista = np.array(lista)\n",
    "        perm = np.random.permutation(len(lista))\n",
    "        m = len(lista)\n",
    "        train_end = int(train_percent * m)\n",
    "        val_end = int(validate_percent * m) + train_end\n",
    "        train = lista[perm[:train_end]]\n",
    "        val = lista[perm[train_end:val_end]]\n",
    "        test = lista[perm[val_end:]]\n",
    "\n",
    "        if(not os.path.exists(pathD+Train+pathImagenes[i])):\n",
    "            os.mkdir(pathD+Train+pathImagenes[i], 0o7777)\n",
    "        for j,imagen in enumerate(train):\n",
    "          cv2.imwrite(pathD+Train+pathImagenes[i]+\"train-\"+str(j)+\".png\",imagen)\n",
    "\n",
    "        if(not os.path.exists(pathD+Test+pathImagenes[i])):\n",
    "            os.mkdir(pathD+Test+pathImagenes[i], 0o7777)\n",
    "        for j,imagen in enumerate(test):\n",
    "          cv2.imwrite(pathD+Test+pathImagenes[i]+\"test-\"+str(j)+\".png\",imagen)\n",
    "\n",
    "        if(not os.path.exists(pathD+Val+pathImagenes[i])):\n",
    "            os.mkdir(pathD+Val+pathImagenes[i], 0o7777)\n",
    "        for j,imagen in enumerate(val):\n",
    "          cv2.imwrite(pathD+Val+pathImagenes[i]+\"val-\"+str(j)+\".png\",imagen)"
   ]
  },
  {
   "cell_type": "code",
   "execution_count": 0,
   "metadata": {
    "colab": {},
    "colab_type": "code",
    "id": "zGVWoJoLS5El"
   },
   "outputs": [],
   "source": [
    "def tratamiento(pathImagenes=\"Data/\", dx=256, dy=256, noiseX=5, noiseY=10):\n",
    "    if(os.path.exists(pathImagenes)):\n",
    "        print(\"Tratando y generando las imágenes: \"+pathImagenes)\n",
    "        resultado = []\n",
    "        listaImagenes = os.listdir(pathImagenes)\n",
    "        \n",
    "        #Realizar un data augmentation para aumentar los datos del dataset:\n",
    "        gaussian_noise = iaa.AdditiveGaussianNoise(noiseX, noiseY)\n",
    "        flip_vr=iaa.Fliplr(p=1.0)\n",
    "\n",
    "        for imagen in listaImagenes:\n",
    "            Xray = cv2.resize(cv2.imread(pathImagenes+imagen),(dx, dy))\n",
    "            resultado.append(Xray)\n",
    "            resultado.append(gaussian_noise.augment_image(Xray))\n",
    "            resultado.append(flip_vr.augment_image(Xray))\n",
    "\n",
    "        return resultado\n",
    "    else:\n",
    "        print(\"¡Error! El path especificado no ha sido encontrado\")\n",
    "        return None"
   ]
  },
  {
   "cell_type": "markdown",
   "metadata": {
    "colab_type": "text",
    "id": "SW7NXqkh-Gk8"
   },
   "source": [
    "Case 2: COVID vs Normal vs Tertiary Pneumonia (Bacterial and Viral)\n",
    "VGG Initialization"
   ]
  },
  {
   "cell_type": "code",
   "execution_count": 0,
   "metadata": {
    "colab": {
     "base_uri": "https://localhost:8080/",
     "height": 190
    },
    "colab_type": "code",
    "id": "0BfmpmKd-JOb",
    "outputId": "efdde563-3ed2-4b6d-b507-c0c75000d228"
   },
   "outputs": [
    {
     "name": "stderr",
     "output_type": "stream",
     "text": [
      "Using TensorFlow backend.\n"
     ]
    },
    {
     "name": "stdout",
     "output_type": "stream",
     "text": [
      "Tratando y generando las imágenes: Data/COVID-19/\n",
      "Tratando y generando las imágenes: Data/NORMAL/\n",
      "Tratando y generando las imágenes: Data/Viral Pneumonia/\n",
      "Generando el particionamiento y almacenando las imagenes en disco...\n"
     ]
    },
    {
     "name": "stderr",
     "output_type": "stream",
     "text": [
      "/usr/local/lib/python3.6/dist-packages/keras_preprocessing/image/image_data_generator.py:341: UserWarning: This ImageDataGenerator specifies `zca_whitening` which overrides setting of`featurewise_std_normalization`.\n",
      "  warnings.warn('This ImageDataGenerator specifies '\n"
     ]
    },
    {
     "name": "stdout",
     "output_type": "stream",
     "text": [
      "Found 5228 images belonging to 3 classes.\n",
      "Found 1742 images belonging to 3 classes.\n"
     ]
    }
   ],
   "source": [
    "from tensorflow.keras import backend as K\n",
    "from tensorflow.keras.models import Model ,load_model\n",
    "from tensorflow.keras.layers import Flatten, Dense, Dropout\n",
    "from tensorflow.keras.applications.inception_resnet_v2 import InceptionResNetV2, preprocess_input\n",
    "from keras.applications.vgg16 import preprocess_input\n",
    "from keras.applications.vgg16 import decode_predictions\n",
    "from keras.applications.vgg16 import VGG16\n",
    "from tensorflow.keras.optimizers import Adam, RMSprop\n",
    "from tensorflow.keras.preprocessing.image import ImageDataGenerator\n",
    "from tensorflow.keras.callbacks import ModelCheckpoint\n",
    "import numpy as np\n",
    "import tensorflow as tf\n",
    "import cv2\n",
    "import imgaug as ia\n",
    "import imgaug.augmenters as iaa\n",
    "import shutil\n",
    "\n",
    "\n",
    "DATASET_PATH  = 'KerasDataset/train/'\n",
    "val_dir =  'KerasDataset/val/'\n",
    "test_dir =  'KerasDataset/test/'\n",
    "IMAGE_SIZE    = (256, 256)\n",
    "NUM_CLASSES   = 3\n",
    "BATCH_SIZE    = 10  # try reducing batch size or freeze more layers if your GPU runs out of memory\n",
    "NUM_EPOCHS    = 100\n",
    "LEARNING_RATE = 0.0001\n",
    "pathCovid = \"Data/COVID-19/\"\n",
    "pathNormal = \"Data/NORMAL/\"\n",
    "pathViral = \"Data/Viral Pneumonia/\" \n",
    "pathImagenesExtra = \"ImagenesCovidExtra/\"\n",
    "pathImagenes= \"Dataset/\"\n",
    "fichero_train = \"train.txt\"\n",
    "fichero_val = \"val.txt\"\n",
    "fichero_test = \"test.txt\"\n",
    "dx=256 #Tamaño de las imágenes en eje x\n",
    "dy=256 #Tamaño de las imágenes en eje y\n",
    "###############################################################################################################################\n",
    "\n",
    "#Pretratamiento de imagenes y almacenamiento de las mismas:\n",
    "#Añadimos más imagenes:\n",
    "#copiaImagenes(\"/content/drive/My Drive/ImagenesCovidExtra\",\"/content/Data/COVID-19\")\n",
    "#Realizamos el tratamiento de las imágenes:\n",
    "listaCOVID = tratamiento(pathCovid,dx,dy)\n",
    "listaNORMAL = tratamiento(pathNormal,dx,dy)\n",
    "listaVIRAL = tratamiento(pathViral,dx,dy)\n",
    "\n",
    "#Generamos el particionamiento\n",
    "listaDatos = [listaCOVID, listaNORMAL, listaVIRAL] \n",
    "particionamiento(listaDatos)\n",
    "\n",
    "\n",
    "#Train datagen here is a preprocessor\n",
    "train_datagen = ImageDataGenerator(rescale=1./255,\n",
    "                                   rotation_range=50,\n",
    "                                   featurewise_center = True,\n",
    "                                   featurewise_std_normalization = True,\n",
    "                                   width_shift_range=0.2,\n",
    "                                   height_shift_range=0.2,\n",
    "                                   shear_range=0.25,\n",
    "                                   zoom_range=0.1,\n",
    "                                   zca_whitening = True,\n",
    "                                   channel_shift_range = 20,\n",
    "                                   fill_mode='constant')\n",
    "\n",
    "# test_datagen = ImageDataGenerator(preprocessing_function=preprocess_input,\n",
    "#                                    fill_mode='constant')\n",
    "\n",
    "train_batches = train_datagen.flow_from_directory(DATASET_PATH,\n",
    "                                                  target_size=IMAGE_SIZE,\n",
    "                                                  shuffle=True,\n",
    "                                                  batch_size=BATCH_SIZE,\n",
    "                                                  subset = \"training\",\n",
    "                                                  seed=42,\n",
    "                                                  class_mode=\"categorical\"\n",
    "                                                  )\n",
    "\n",
    "valid_batches = train_datagen.flow_from_directory(val_dir,\n",
    "                                                  target_size=IMAGE_SIZE,\n",
    "                                                  shuffle=True,\n",
    "                                                  batch_size=BATCH_SIZE,\n",
    "                                                  subset = \"training\",\n",
    "                                                  seed=42,\n",
    "                                                  class_mode=\"categorical\"\n",
    "                                                 \n",
    "                                                  )\n",
    "\n"
   ]
  },
  {
   "cell_type": "markdown",
   "metadata": {
    "colab_type": "text",
    "id": "Arc_63PU-O5K"
   },
   "source": [
    "Layer Modification at upper layer of VGG16"
   ]
  },
  {
   "cell_type": "code",
   "execution_count": 0,
   "metadata": {
    "colab": {
     "base_uri": "https://localhost:8080/",
     "height": 51
    },
    "colab_type": "code",
    "id": "lyGm7tYQBBr1",
    "outputId": "b25c96c7-969c-4d4b-fe02-9ebea4728008"
   },
   "outputs": [
    {
     "name": "stdout",
     "output_type": "stream",
     "text": [
      "Downloading data from https://github.com/fchollet/deep-learning-models/releases/download/v0.1/vgg16_weights_tf_dim_ordering_tf_kernels_notop.h5\n",
      "58892288/58889256 [==============================] - 3s 0us/step\n"
     ]
    }
   ],
   "source": [
    "#Simple CNN model based on VGG16. Set dense layer neuron count to 3 if viral pneumonia class is removed\n",
    "\n",
    "\n",
    "from keras import models\n",
    "from keras import layers\n",
    "from keras.applications import VGG16\n",
    "from keras import optimizers\n",
    "\n",
    "conv_base = VGG16(weights='imagenet',\n",
    "                  include_top=False,\n",
    "                  input_shape=(256, 256, 3))\n",
    "\n",
    "\n",
    "conv_base.trainable = False\n",
    "\n",
    "\n",
    "model = models.Sequential()\n",
    "model.add(conv_base)\n",
    "model.add(layers.Flatten())\n",
    "model.add(layers.Dense(256, activation='relu'))\n",
    "model.add(layers.Dense(3, activation='softmax'))\n",
    "\n",
    "\n",
    "model.compile(loss='categorical_crossentropy',\n",
    "              optimizer=optimizers.Adam(lr=LEARNING_RATE),\n",
    "              metrics=['acc'])"
   ]
  },
  {
   "cell_type": "code",
   "execution_count": 0,
   "metadata": {
    "colab": {
     "base_uri": "https://localhost:8080/",
     "height": 306
    },
    "colab_type": "code",
    "id": "GKDLJZjL-UlA",
    "outputId": "c20b3bbd-3098-4048-c4c2-54541450774c"
   },
   "outputs": [
    {
     "name": "stdout",
     "output_type": "stream",
     "text": [
      "Model: \"sequential_1\"\n",
      "_________________________________________________________________\n",
      "Layer (type)                 Output Shape              Param #   \n",
      "=================================================================\n",
      "vgg16 (Model)                (None, 8, 8, 512)         14714688  \n",
      "_________________________________________________________________\n",
      "flatten_1 (Flatten)          (None, 32768)             0         \n",
      "_________________________________________________________________\n",
      "dense_1 (Dense)              (None, 256)               8388864   \n",
      "_________________________________________________________________\n",
      "dense_2 (Dense)              (None, 3)                 771       \n",
      "=================================================================\n",
      "Total params: 23,104,323\n",
      "Trainable params: 8,389,635\n",
      "Non-trainable params: 14,714,688\n",
      "_________________________________________________________________\n",
      "None\n"
     ]
    }
   ],
   "source": [
    "print(model.summary())"
   ]
  },
  {
   "cell_type": "markdown",
   "metadata": {
    "colab_type": "text",
    "id": "qh3QQZLz-yLW"
   },
   "source": [
    "Training"
   ]
  },
  {
   "cell_type": "code",
   "execution_count": 0,
   "metadata": {
    "colab": {
     "base_uri": "https://localhost:8080/",
     "height": 1000
    },
    "colab_type": "code",
    "id": "F7IwDhx5-iKe",
    "outputId": "c9b47ba2-3d04-4bce-b925-c402a9bedb10"
   },
   "outputs": [
    {
     "name": "stdout",
     "output_type": "stream",
     "text": [
      "523\n",
      "175\n",
      "Epoch 1/100\n"
     ]
    },
    {
     "name": "stderr",
     "output_type": "stream",
     "text": [
      "/usr/local/lib/python3.6/dist-packages/keras_preprocessing/image/image_data_generator.py:716: UserWarning: This ImageDataGenerator specifies `featurewise_center`, but it hasn't been fit on any training data. Fit it first by calling `.fit(numpy_data)`.\n",
      "  warnings.warn('This ImageDataGenerator specifies '\n",
      "/usr/local/lib/python3.6/dist-packages/keras_preprocessing/image/image_data_generator.py:735: UserWarning: This ImageDataGenerator specifies `zca_whitening`, but it hasn't been fit on any training data. Fit it first by calling `.fit(numpy_data)`.\n",
      "  warnings.warn('This ImageDataGenerator specifies '\n"
     ]
    },
    {
     "name": "stdout",
     "output_type": "stream",
     "text": [
      "522/522 [==============================] - 147s 282ms/step - loss: 0.4600 - acc: 0.8181 - val_loss: 0.1937 - val_acc: 0.7655\n",
      "Epoch 2/100\n",
      "522/522 [==============================] - 143s 275ms/step - loss: 0.3158 - acc: 0.8821 - val_loss: 0.2724 - val_acc: 0.8909\n",
      "Epoch 3/100\n",
      "522/522 [==============================] - 144s 277ms/step - loss: 0.2807 - acc: 0.8971 - val_loss: 0.2639 - val_acc: 0.9030\n",
      "Epoch 4/100\n",
      "522/522 [==============================] - 146s 279ms/step - loss: 0.2607 - acc: 0.9030 - val_loss: 0.1680 - val_acc: 0.9134\n",
      "Epoch 5/100\n",
      "522/522 [==============================] - 145s 278ms/step - loss: 0.2565 - acc: 0.9067 - val_loss: 0.0427 - val_acc: 0.9209\n",
      "Epoch 6/100\n",
      "522/522 [==============================] - 145s 278ms/step - loss: 0.2240 - acc: 0.9191 - val_loss: 0.2309 - val_acc: 0.9249\n",
      "Epoch 7/100\n",
      "522/522 [==============================] - 144s 275ms/step - loss: 0.2143 - acc: 0.9207 - val_loss: 0.6653 - val_acc: 0.8788\n",
      "Epoch 8/100\n",
      "522/522 [==============================] - 144s 275ms/step - loss: 0.2328 - acc: 0.9207 - val_loss: 0.2007 - val_acc: 0.9192\n",
      "Epoch 9/100\n",
      "522/522 [==============================] - 143s 274ms/step - loss: 0.2150 - acc: 0.9210 - val_loss: 0.7062 - val_acc: 0.9157\n",
      "Epoch 10/100\n",
      "522/522 [==============================] - 145s 277ms/step - loss: 0.2087 - acc: 0.9256 - val_loss: 0.4093 - val_acc: 0.9174\n",
      "Epoch 11/100\n",
      "522/522 [==============================] - 144s 276ms/step - loss: 0.2033 - acc: 0.9256 - val_loss: 0.1640 - val_acc: 0.9197\n",
      "Epoch 12/100\n",
      "522/522 [==============================] - 144s 276ms/step - loss: 0.2056 - acc: 0.9279 - val_loss: 0.0767 - val_acc: 0.8932\n",
      "Epoch 13/100\n",
      "522/522 [==============================] - 144s 276ms/step - loss: 0.1944 - acc: 0.9306 - val_loss: 0.0413 - val_acc: 0.9319\n",
      "Epoch 14/100\n",
      "522/522 [==============================] - 144s 276ms/step - loss: 0.2037 - acc: 0.9264 - val_loss: 0.3093 - val_acc: 0.8886\n",
      "Epoch 15/100\n",
      "522/522 [==============================] - 144s 276ms/step - loss: 0.1936 - acc: 0.9272 - val_loss: 0.0937 - val_acc: 0.9365\n",
      "Epoch 16/100\n",
      "522/522 [==============================] - 144s 275ms/step - loss: 0.1873 - acc: 0.9297 - val_loss: 0.0432 - val_acc: 0.9088\n",
      "Epoch 17/100\n",
      "522/522 [==============================] - 144s 275ms/step - loss: 0.2042 - acc: 0.9239 - val_loss: 0.0173 - val_acc: 0.9376\n",
      "Epoch 18/100\n",
      "522/522 [==============================] - 144s 275ms/step - loss: 0.1932 - acc: 0.9272 - val_loss: 0.0565 - val_acc: 0.9324\n",
      "Epoch 19/100\n",
      "522/522 [==============================] - 142s 273ms/step - loss: 0.1795 - acc: 0.9325 - val_loss: 0.3000 - val_acc: 0.9169\n",
      "Epoch 20/100\n",
      "522/522 [==============================] - 142s 272ms/step - loss: 0.1910 - acc: 0.9310 - val_loss: 0.2854 - val_acc: 0.8712\n",
      "Epoch 21/100\n",
      "522/522 [==============================] - 142s 272ms/step - loss: 0.1774 - acc: 0.9343 - val_loss: 0.0255 - val_acc: 0.9353\n",
      "Epoch 22/100\n",
      "522/522 [==============================] - 141s 271ms/step - loss: 0.1779 - acc: 0.9331 - val_loss: 0.0578 - val_acc: 0.9209\n",
      "Epoch 23/100\n",
      "522/522 [==============================] - 141s 270ms/step - loss: 0.1688 - acc: 0.9400 - val_loss: 0.5395 - val_acc: 0.9319\n",
      "Epoch 24/100\n",
      "522/522 [==============================] - 141s 270ms/step - loss: 0.1764 - acc: 0.9366 - val_loss: 0.1192 - val_acc: 0.9394\n",
      "Epoch 25/100\n",
      "522/522 [==============================] - 140s 269ms/step - loss: 0.1743 - acc: 0.9360 - val_loss: 0.1383 - val_acc: 0.9296\n",
      "Epoch 26/100\n",
      "522/522 [==============================] - 141s 269ms/step - loss: 0.1624 - acc: 0.9393 - val_loss: 0.2374 - val_acc: 0.9140\n",
      "Epoch 27/100\n",
      "522/522 [==============================] - 142s 272ms/step - loss: 0.1725 - acc: 0.9360 - val_loss: 0.2699 - val_acc: 0.9359\n",
      "Epoch 28/100\n",
      "522/522 [==============================] - 141s 270ms/step - loss: 0.1714 - acc: 0.9362 - val_loss: 0.0348 - val_acc: 0.9244\n",
      "Epoch 29/100\n",
      "522/522 [==============================] - 142s 271ms/step - loss: 0.1689 - acc: 0.9402 - val_loss: 0.1286 - val_acc: 0.8915\n",
      "Epoch 30/100\n",
      "522/522 [==============================] - 142s 271ms/step - loss: 0.1676 - acc: 0.9389 - val_loss: 0.3686 - val_acc: 0.9457\n",
      "Epoch 31/100\n",
      "522/522 [==============================] - 141s 270ms/step - loss: 0.1602 - acc: 0.9400 - val_loss: 0.0233 - val_acc: 0.9353\n",
      "Epoch 32/100\n",
      "522/522 [==============================] - 141s 269ms/step - loss: 0.1570 - acc: 0.9456 - val_loss: 0.0386 - val_acc: 0.9371\n",
      "Epoch 33/100\n",
      "522/522 [==============================] - 141s 270ms/step - loss: 0.1520 - acc: 0.9444 - val_loss: 0.0210 - val_acc: 0.9382\n",
      "Epoch 34/100\n",
      "522/522 [==============================] - 141s 270ms/step - loss: 0.1553 - acc: 0.9437 - val_loss: 0.7240 - val_acc: 0.9480\n",
      "Epoch 35/100\n",
      "522/522 [==============================] - 141s 271ms/step - loss: 0.1598 - acc: 0.9398 - val_loss: 0.2962 - val_acc: 0.8995\n",
      "Epoch 36/100\n",
      "522/522 [==============================] - 142s 272ms/step - loss: 0.1599 - acc: 0.9417 - val_loss: 0.0305 - val_acc: 0.9336\n",
      "Epoch 37/100\n",
      "522/522 [==============================] - 143s 273ms/step - loss: 0.1471 - acc: 0.9475 - val_loss: 0.0669 - val_acc: 0.9382\n",
      "Epoch 38/100\n",
      "522/522 [==============================] - 143s 273ms/step - loss: 0.1644 - acc: 0.9410 - val_loss: 0.1675 - val_acc: 0.9405\n",
      "Epoch 39/100\n",
      "522/522 [==============================] - 142s 272ms/step - loss: 0.1438 - acc: 0.9465 - val_loss: 0.2393 - val_acc: 0.9394\n",
      "Epoch 40/100\n",
      "522/522 [==============================] - 141s 270ms/step - loss: 0.1513 - acc: 0.9444 - val_loss: 0.1656 - val_acc: 0.9434\n",
      "Epoch 41/100\n",
      "522/522 [==============================] - 141s 270ms/step - loss: 0.1566 - acc: 0.9417 - val_loss: 0.1024 - val_acc: 0.9221\n",
      "Epoch 42/100\n",
      "522/522 [==============================] - 140s 268ms/step - loss: 0.1430 - acc: 0.9490 - val_loss: 0.0912 - val_acc: 0.9197\n",
      "Epoch 43/100\n",
      "522/522 [==============================] - 139s 267ms/step - loss: 0.1503 - acc: 0.9450 - val_loss: 0.4580 - val_acc: 0.9503\n",
      "Epoch 44/100\n",
      "522/522 [==============================] - 141s 270ms/step - loss: 0.1523 - acc: 0.9419 - val_loss: 0.0081 - val_acc: 0.9353\n",
      "Epoch 45/100\n",
      "522/522 [==============================] - 140s 269ms/step - loss: 0.1502 - acc: 0.9446 - val_loss: 0.0398 - val_acc: 0.9353\n",
      "Epoch 46/100\n",
      "522/522 [==============================] - 141s 270ms/step - loss: 0.1503 - acc: 0.9483 - val_loss: 0.1352 - val_acc: 0.9094\n",
      "Epoch 47/100\n",
      "522/522 [==============================] - 141s 269ms/step - loss: 0.1457 - acc: 0.9465 - val_loss: 0.0826 - val_acc: 0.9221\n",
      "Epoch 48/100\n",
      "522/522 [==============================] - 141s 269ms/step - loss: 0.1460 - acc: 0.9467 - val_loss: 0.1570 - val_acc: 0.9388\n",
      "Epoch 49/100\n",
      "522/522 [==============================] - 140s 268ms/step - loss: 0.1456 - acc: 0.9465 - val_loss: 0.0890 - val_acc: 0.9267\n",
      "Epoch 50/100\n",
      "522/522 [==============================] - 140s 267ms/step - loss: 0.1447 - acc: 0.9456 - val_loss: 0.2893 - val_acc: 0.9273\n",
      "Epoch 51/100\n",
      "522/522 [==============================] - 140s 268ms/step - loss: 0.1489 - acc: 0.9463 - val_loss: 0.2050 - val_acc: 0.9307\n",
      "Epoch 52/100\n",
      "522/522 [==============================] - 140s 269ms/step - loss: 0.1356 - acc: 0.9477 - val_loss: 0.0159 - val_acc: 0.9434\n",
      "Epoch 53/100\n",
      "522/522 [==============================] - 142s 272ms/step - loss: 0.1412 - acc: 0.9469 - val_loss: 0.2728 - val_acc: 0.9324\n",
      "Epoch 54/100\n",
      "522/522 [==============================] - 140s 269ms/step - loss: 0.1492 - acc: 0.9457 - val_loss: 0.1022 - val_acc: 0.9215\n",
      "Epoch 55/100\n",
      "522/522 [==============================] - 142s 271ms/step - loss: 0.1450 - acc: 0.9463 - val_loss: 0.0936 - val_acc: 0.9457\n",
      "Epoch 56/100\n",
      "522/522 [==============================] - 141s 271ms/step - loss: 0.1362 - acc: 0.9498 - val_loss: 0.1585 - val_acc: 0.9313\n",
      "Epoch 57/100\n",
      "522/522 [==============================] - 141s 270ms/step - loss: 0.1387 - acc: 0.9484 - val_loss: 0.3961 - val_acc: 0.9434\n",
      "Epoch 58/100\n",
      "522/522 [==============================] - 141s 269ms/step - loss: 0.1303 - acc: 0.9517 - val_loss: 0.1700 - val_acc: 0.9480\n",
      "Epoch 59/100\n",
      "522/522 [==============================] - 141s 270ms/step - loss: 0.1452 - acc: 0.9494 - val_loss: 0.0278 - val_acc: 0.9394\n",
      "Epoch 60/100\n",
      "522/522 [==============================] - 141s 270ms/step - loss: 0.1352 - acc: 0.9506 - val_loss: 0.3688 - val_acc: 0.9521\n",
      "Epoch 61/100\n",
      "522/522 [==============================] - 142s 271ms/step - loss: 0.1246 - acc: 0.9563 - val_loss: 0.0114 - val_acc: 0.9336\n",
      "Epoch 62/100\n",
      "522/522 [==============================] - 141s 269ms/step - loss: 0.1358 - acc: 0.9507 - val_loss: 0.0419 - val_acc: 0.9232\n",
      "Epoch 63/100\n",
      "522/522 [==============================] - 140s 269ms/step - loss: 0.1296 - acc: 0.9519 - val_loss: 0.0091 - val_acc: 0.9469\n",
      "Epoch 64/100\n",
      "522/522 [==============================] - 139s 266ms/step - loss: 0.1403 - acc: 0.9492 - val_loss: 0.0243 - val_acc: 0.9324\n",
      "Epoch 65/100\n",
      "522/522 [==============================] - 140s 267ms/step - loss: 0.1264 - acc: 0.9536 - val_loss: 0.0685 - val_acc: 0.9394\n",
      "Epoch 66/100\n",
      "522/522 [==============================] - 140s 269ms/step - loss: 0.1314 - acc: 0.9519 - val_loss: 0.0773 - val_acc: 0.9440\n",
      "Epoch 67/100\n",
      "522/522 [==============================] - 141s 270ms/step - loss: 0.1184 - acc: 0.9569 - val_loss: 0.0429 - val_acc: 0.9538\n",
      "Epoch 68/100\n",
      "522/522 [==============================] - 140s 269ms/step - loss: 0.1249 - acc: 0.9505 - val_loss: 0.0209 - val_acc: 0.9405\n",
      "Epoch 69/100\n",
      "522/522 [==============================] - 141s 270ms/step - loss: 0.1248 - acc: 0.9523 - val_loss: 0.6615 - val_acc: 0.9238\n",
      "Epoch 70/100\n",
      "522/522 [==============================] - 141s 270ms/step - loss: 0.1250 - acc: 0.9561 - val_loss: 0.3290 - val_acc: 0.9353\n",
      "Epoch 71/100\n",
      "522/522 [==============================] - 141s 269ms/step - loss: 0.1208 - acc: 0.9565 - val_loss: 0.0436 - val_acc: 0.9365\n",
      "Epoch 72/100\n",
      "522/522 [==============================] - 141s 270ms/step - loss: 0.1307 - acc: 0.9509 - val_loss: 0.1027 - val_acc: 0.9434\n",
      "Epoch 73/100\n",
      "522/522 [==============================] - 141s 271ms/step - loss: 0.1223 - acc: 0.9561 - val_loss: 0.2784 - val_acc: 0.9371\n",
      "Epoch 74/100\n",
      "522/522 [==============================] - 141s 271ms/step - loss: 0.1251 - acc: 0.9533 - val_loss: 0.0805 - val_acc: 0.9221\n",
      "Epoch 75/100\n",
      "522/522 [==============================] - 142s 272ms/step - loss: 0.1106 - acc: 0.9632 - val_loss: 0.0051 - val_acc: 0.9440\n",
      "Epoch 76/100\n",
      "522/522 [==============================] - 142s 271ms/step - loss: 0.1229 - acc: 0.9546 - val_loss: 0.1837 - val_acc: 0.9457\n",
      "Epoch 77/100\n",
      "522/522 [==============================] - 141s 271ms/step - loss: 0.1225 - acc: 0.9561 - val_loss: 0.0436 - val_acc: 0.9313\n",
      "Epoch 78/100\n",
      "522/522 [==============================] - 142s 271ms/step - loss: 0.1234 - acc: 0.9546 - val_loss: 0.0175 - val_acc: 0.9532\n",
      "Epoch 79/100\n",
      "522/522 [==============================] - 141s 271ms/step - loss: 0.1234 - acc: 0.9528 - val_loss: 0.0233 - val_acc: 0.9278\n",
      "Epoch 80/100\n",
      "522/522 [==============================] - 142s 271ms/step - loss: 0.1106 - acc: 0.9615 - val_loss: 0.0566 - val_acc: 0.9457\n",
      "Epoch 81/100\n",
      "522/522 [==============================] - 143s 273ms/step - loss: 0.1182 - acc: 0.9590 - val_loss: 0.1255 - val_acc: 0.9365\n",
      "Epoch 82/100\n",
      "522/522 [==============================] - 142s 272ms/step - loss: 0.1281 - acc: 0.9556 - val_loss: 0.0065 - val_acc: 0.9498\n",
      "Epoch 83/100\n",
      "522/522 [==============================] - 141s 270ms/step - loss: 0.1166 - acc: 0.9565 - val_loss: 0.3062 - val_acc: 0.9475\n",
      "Epoch 84/100\n",
      "522/522 [==============================] - 140s 269ms/step - loss: 0.1153 - acc: 0.9580 - val_loss: 0.2398 - val_acc: 0.9423\n",
      "Epoch 85/100\n",
      "522/522 [==============================] - 141s 270ms/step - loss: 0.1212 - acc: 0.9546 - val_loss: 0.0063 - val_acc: 0.9446\n",
      "Epoch 86/100\n",
      "522/522 [==============================] - 141s 270ms/step - loss: 0.1120 - acc: 0.9588 - val_loss: 0.4612 - val_acc: 0.9515\n",
      "Epoch 87/100\n",
      "522/522 [==============================] - 142s 271ms/step - loss: 0.1175 - acc: 0.9567 - val_loss: 0.0354 - val_acc: 0.9492\n",
      "Epoch 88/100\n",
      "522/522 [==============================] - 140s 268ms/step - loss: 0.1198 - acc: 0.9578 - val_loss: 0.0274 - val_acc: 0.9452\n",
      "Epoch 89/100\n",
      "522/522 [==============================] - 140s 269ms/step - loss: 0.1070 - acc: 0.9622 - val_loss: 0.2137 - val_acc: 0.9486\n",
      "Epoch 90/100\n",
      "522/522 [==============================] - 140s 268ms/step - loss: 0.1112 - acc: 0.9590 - val_loss: 0.1083 - val_acc: 0.9486\n",
      "Epoch 91/100\n",
      "522/522 [==============================] - 140s 269ms/step - loss: 0.1227 - acc: 0.9517 - val_loss: 0.0166 - val_acc: 0.9509\n",
      "Epoch 92/100\n",
      "522/522 [==============================] - 141s 270ms/step - loss: 0.1116 - acc: 0.9553 - val_loss: 0.5245 - val_acc: 0.9342\n",
      "Epoch 93/100\n",
      "522/522 [==============================] - 141s 270ms/step - loss: 0.1113 - acc: 0.9567 - val_loss: 0.2951 - val_acc: 0.9446\n",
      "Epoch 94/100\n",
      "522/522 [==============================] - 141s 270ms/step - loss: 0.1167 - acc: 0.9552 - val_loss: 0.5962 - val_acc: 0.9423\n",
      "Epoch 95/100\n",
      "522/522 [==============================] - 140s 268ms/step - loss: 0.1143 - acc: 0.9586 - val_loss: 0.0929 - val_acc: 0.9388\n",
      "Epoch 96/100\n",
      "522/522 [==============================] - 140s 269ms/step - loss: 0.1122 - acc: 0.9573 - val_loss: 0.0826 - val_acc: 0.9527\n",
      "Epoch 97/100\n",
      "522/522 [==============================] - 140s 269ms/step - loss: 0.1104 - acc: 0.9603 - val_loss: 0.2557 - val_acc: 0.9538\n",
      "Epoch 98/100\n",
      "522/522 [==============================] - 141s 271ms/step - loss: 0.1058 - acc: 0.9594 - val_loss: 0.0420 - val_acc: 0.9532\n",
      "Epoch 99/100\n",
      "522/522 [==============================] - 141s 270ms/step - loss: 0.1035 - acc: 0.9598 - val_loss: 0.2618 - val_acc: 0.9428\n",
      "Epoch 100/100\n",
      "522/522 [==============================] - 141s 270ms/step - loss: 0.1165 - acc: 0.9582 - val_loss: 0.5570 - val_acc: 0.9509\n"
     ]
    }
   ],
   "source": [
    "#FIT MODEL\n",
    "print(len(train_batches))\n",
    "print(len(valid_batches))\n",
    "\n",
    "STEP_SIZE_TRAIN=train_batches.n//train_batches.batch_size\n",
    "STEP_SIZE_VALID=valid_batches.n//valid_batches.batch_size\n",
    "\n",
    "result=model.fit_generator(train_batches,\n",
    "                        steps_per_epoch =STEP_SIZE_TRAIN,\n",
    "                        validation_data = valid_batches,\n",
    "                        validation_steps = STEP_SIZE_VALID,\n",
    "                        epochs= NUM_EPOCHS                        \n",
    "                       )\n"
   ]
  },
  {
   "cell_type": "markdown",
   "metadata": {
    "colab_type": "text",
    "id": "89ZEQXk50A9-"
   },
   "source": [
    "Evaluation"
   ]
  },
  {
   "cell_type": "code",
   "execution_count": 0,
   "metadata": {
    "colab": {
     "base_uri": "https://localhost:8080/",
     "height": 426
    },
    "colab_type": "code",
    "id": "tNIFRzOvp1yA",
    "outputId": "ffcdc88a-533f-4d8b-a24b-e44fede71c70"
   },
   "outputs": [
    {
     "name": "stderr",
     "output_type": "stream",
     "text": [
      "/usr/local/lib/python3.6/dist-packages/keras_preprocessing/image/image_data_generator.py:716: UserWarning: This ImageDataGenerator specifies `featurewise_center`, but it hasn't been fit on any training data. Fit it first by calling `.fit(numpy_data)`.\n",
      "  warnings.warn('This ImageDataGenerator specifies '\n",
      "/usr/local/lib/python3.6/dist-packages/keras_preprocessing/image/image_data_generator.py:735: UserWarning: This ImageDataGenerator specifies `zca_whitening`, but it hasn't been fit on any training data. Fit it first by calling `.fit(numpy_data)`.\n",
      "  warnings.warn('This ImageDataGenerator specifies '\n"
     ]
    },
    {
     "data": {
      "image/png": "[encoded data removed]",
      "text/plain": [
       "<Figure size 1080x360 with 2 Axes>"
      ]
     },
     "metadata": {
      "needs_background": "light",
      "tags": []
     },
     "output_type": "display_data"
    }
   ],
   "source": [
    "import matplotlib.pyplot as plt\n",
    "\n",
    "\n",
    "def plot_acc_loss(result, epochs):\n",
    "    acc = result.history['acc']\n",
    "    loss = result.history['loss']\n",
    "    val_acc = result.history['val_acc']\n",
    "    val_loss = result.history['val_loss']\n",
    "    plt.figure(figsize=(15, 5))\n",
    "    plt.subplot(121)\n",
    "    plt.plot(range(1,epochs), acc[1:], label='Train_acc')\n",
    "    plt.plot(range(1,epochs), val_acc[1:], label='Val_acc')\n",
    "    plt.title('Accuracy over ' + str(epochs) + ' Epochs', size=15)\n",
    "    plt.legend()\n",
    "    plt.grid(True)\n",
    "    plt.subplot(122)\n",
    "    plt.plot(range(1,epochs), loss[1:], label='Train_loss')\n",
    "    plt.plot(range(1,epochs), val_loss[1:], label='Val_loss')\n",
    "    plt.title('Loss over ' + str(epochs) + ' Epochs', size=15)\n",
    "    plt.legend()\n",
    "    plt.grid(True)\n",
    "    plt.show()\n",
    "    \n",
    "plot_acc_loss(result, 100)"
   ]
  },
  {
   "cell_type": "code",
   "execution_count": 0,
   "metadata": {
    "colab": {},
    "colab_type": "code",
    "id": "g1W_MvpGJ39q"
   },
   "outputs": [],
   "source": [
    "model.save('/content/drive/My Drive/Data/Covid_Multi.h5')"
   ]
  },
  {
   "cell_type": "markdown",
   "metadata": {
    "colab_type": "text",
    "id": "5X6TGa0N-5R0"
   },
   "source": [
    "Predict"
   ]
  },
  {
   "cell_type": "code",
   "execution_count": 0,
   "metadata": {
    "colab": {
     "base_uri": "https://localhost:8080/",
     "height": 34
    },
    "colab_type": "code",
    "id": "B1Qqa6YG-6kB",
    "outputId": "7d496028-8da6-4b39-c6bd-e70673157f2d"
   },
   "outputs": [
    {
     "name": "stdout",
     "output_type": "stream",
     "text": [
      "Found 1745 images belonging to 3 classes.\n"
     ]
    }
   ],
   "source": [
    "\n",
    "#Dont forget shuffle false\n",
    "#See https://github.com/keras-team/keras/issues/6499\n",
    "test_datagen = ImageDataGenerator(rescale=1. / 255)\n",
    "\n",
    "eval_generator = test_datagen.flow_from_directory(\n",
    "        test_dir,target_size=IMAGE_SIZE,\n",
    "        batch_size=1,\n",
    "        shuffle=False,\n",
    "        seed=42,\n",
    "        class_mode=\"categorical\")\n",
    "eval_generator.reset()    \n"
   ]
  },
  {
   "cell_type": "code",
   "execution_count": 0,
   "metadata": {
    "colab": {
     "base_uri": "https://localhost:8080/",
     "height": 68
    },
    "colab_type": "code",
    "id": "OruQrAjTAbly",
    "outputId": "348612f4-7165-41db-a3d3-e0bc11f62e4c"
   },
   "outputs": [
    {
     "name": "stdout",
     "output_type": "stream",
     "text": [
      "175/175 [==============================] - 6s 32ms/step\n",
      "Test loss: 1.1920922133867862e-06\n",
      "Test accuracy: 0.845714271068573\n"
     ]
    }
   ],
   "source": [
    "eval_generator.reset()  \n",
    "x = model.evaluate_generator(eval_generator,\n",
    "                           steps = np.ceil(len(eval_generator) / BATCH_SIZE),\n",
    "                           use_multiprocessing = False,\n",
    "                           verbose = 1,\n",
    "                           workers=1\n",
    "                           )\n",
    "\n",
    "\n",
    "print('Test loss:' , x[0])\n",
    "print('Test accuracy:',x[1])\n",
    "\n",
    "#Poor test accuracy due to the small dataset size"
   ]
  },
  {
   "cell_type": "code",
   "execution_count": 0,
   "metadata": {
    "colab": {
     "base_uri": "https://localhost:8080/",
     "height": 187
    },
    "colab_type": "code",
    "id": "5DkoI1cJtRfa",
    "outputId": "14377777-1a80-40d5-d646-4fa972559090"
   },
   "outputs": [
    {
     "name": "stdout",
     "output_type": "stream",
     "text": [
      "              precision    recall  f1-score   support\n",
      "\n",
      "       COVID       1.00      0.80      0.89       132\n",
      "      NORMAL       0.91      0.99      0.95       806\n",
      "       VIRAL       0.97      0.92      0.95       807\n",
      "\n",
      "    accuracy                           0.94      1745\n",
      "   macro avg       0.96      0.90      0.93      1745\n",
      "weighted avg       0.95      0.94      0.94      1745\n",
      "\n"
     ]
    }
   ],
   "source": [
    "#Confusion Matrix and Classification Report\n",
    "test_steps_per_epoch = np.math.ceil(eval_generator.samples / eval_generator.batch_size)\n",
    "\n",
    "predictions = model.predict_generator(eval_generator, steps=test_steps_per_epoch)\n",
    "# Get most likely class\n",
    "predicted_classes = np.argmax(predictions, axis=1)\n",
    "\n",
    "true_classes = eval_generator.classes\n",
    "class_labels = list(eval_generator.class_indices.keys())   \n",
    "\n",
    "from sklearn import metrics\n",
    "report = metrics.classification_report(true_classes, predicted_classes, target_names=class_labels)\n",
    "print(report)    "
   ]
  },
  {
   "cell_type": "code",
   "execution_count": 0,
   "metadata": {
    "colab": {},
    "colab_type": "code",
    "id": "HsTVXDNqiI46"
   },
   "outputs": [],
   "source": []
  }
 ],
 "metadata": {
  "accelerator": "GPU",
  "colab": {
   "collapsed_sections": [],
   "name": "Covid19_GradientCrescent_Multi.ipynb",
   "provenance": [],
   "toc_visible": true
  },
  "kernelspec": {
   "display_name": "Python 3",
   "language": "python",
   "name": "python3"
  },
  "language_info": {
   "codemirror_mode": {
    "name": "ipython",
    "version": 3
   },
   "file_extension": ".py",
   "mimetype": "text/x-python",
   "name": "python",
   "nbconvert_exporter": "python",
   "pygments_lexer": "ipython3",
   "version": "3.7.3"
  }
 },
 "nbformat": 4,
 "nbformat_minor": 1
}
