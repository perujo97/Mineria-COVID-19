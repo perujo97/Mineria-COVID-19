{
 "cells": [
  {
   "cell_type": "markdown",
   "metadata": {
    "colab_type": "text",
    "id": "gyG4OC_n_Bgb"
   },
   "source": [
    "## COVID19 CT Pneumonia Detection - Multiclass Case\n",
    "By Adrian Yijie Xu\n",
    "(https://medium.com/@adrianitsaxu)\n",
    "\n",
    "As discussed in \"Detecting COVID-19 induced Pneumonia from Chest X-rays with Transfer Learning: An implementation in Tensorflow and Keras.\"\n",
    "(https://github.com/EXJUSTICE/GradientCrescent)\n",
    "\n",
    "50% test accuracy with 4 classes\n",
    "100% test accuracy with 3 classes\n",
    "\n",
    "Conclusion: Viral Pneumonia indistinguishable from COVID19: acceptable, given that COVID19 is itself caused by viral means.\n",
    "\n"
   ]
  },
  {
   "cell_type": "code",
   "execution_count": 4,
   "metadata": {
    "colab": {
     "base_uri": "https://localhost:8080/",
     "height": 1000
    },
    "colab_type": "code",
    "executionInfo": {
     "elapsed": 13306,
     "status": "ok",
     "timestamp": 1584625353133,
     "user": {
      "displayName": "Yijie Xu",
      "photoUrl": "",
      "userId": "14695674479284134427"
     },
     "user_tz": -60
    },
    "id": "JHtRS9Wf9mZc",
    "outputId": "e21794bf-fa33-4fb2-ff46-e9dc1491e87f"
   },
   "outputs": [
    {
     "name": "stdout",
     "output_type": "stream",
     "text": [
      "Collecting numpy\n",
      "  Downloading numpy-1.18.3-cp37-cp37m-win_amd64.whl (12.8 MB)\n",
      "Installing collected packages: numpy\n",
      "Successfully installed numpy-1.18.3\n"
     ]
    },
    {
     "ename": "ModuleNotFoundError",
     "evalue": "No module named 'tensorflow'",
     "output_type": "error",
     "traceback": [
      "\u001b[1;31m---------------------------------------------------------------------------\u001b[0m",
      "\u001b[1;31mModuleNotFoundError\u001b[0m                       Traceback (most recent call last)",
      "\u001b[1;32m<ipython-input-4-c4cc5d15a118>\u001b[0m in \u001b[0;36m<module>\u001b[1;34m\u001b[0m\n\u001b[0;32m      7\u001b[0m \u001b[1;32mfrom\u001b[0m \u001b[0mnumpy\u001b[0m\u001b[1;33m.\u001b[0m\u001b[0mrandom\u001b[0m \u001b[1;32mimport\u001b[0m \u001b[0mseed\u001b[0m\u001b[1;33m\u001b[0m\u001b[1;33m\u001b[0m\u001b[0m\n\u001b[0;32m      8\u001b[0m \u001b[0mseed\u001b[0m\u001b[1;33m(\u001b[0m\u001b[1;36m8\u001b[0m\u001b[1;33m)\u001b[0m \u001b[1;31m#1\u001b[0m\u001b[1;33m\u001b[0m\u001b[1;33m\u001b[0m\u001b[0m\n\u001b[1;32m----> 9\u001b[1;33m \u001b[1;32mfrom\u001b[0m \u001b[0mtensorflow\u001b[0m \u001b[1;32mimport\u001b[0m \u001b[0mset_random_seed\u001b[0m\u001b[1;33m\u001b[0m\u001b[1;33m\u001b[0m\u001b[0m\n\u001b[0m\u001b[0;32m     10\u001b[0m \u001b[0mset_random_seed\u001b[0m\u001b[1;33m(\u001b[0m\u001b[1;36m7\u001b[0m\u001b[1;33m)\u001b[0m \u001b[1;31m#2\u001b[0m\u001b[1;33m\u001b[0m\u001b[1;33m\u001b[0m\u001b[0m\n\u001b[0;32m     11\u001b[0m \u001b[1;33m\u001b[0m\u001b[0m\n",
      "\u001b[1;31mModuleNotFoundError\u001b[0m: No module named 'tensorflow'"
     ]
    }
   ],
   "source": [
    "# This Python 3 environment comes with many helpful analytics libraries installed\n",
    "# It is defined by the kaggle/python docker image: https://github.com/kaggle/docker-python\n",
    "# For example, here's several helpful packages to load in \n",
    "#set randomness for reproducibility\n",
    "!pip3 install numpy\n",
    "\n",
    "from numpy.random import seed\n",
    "seed(8) #1\n",
    "from tensorflow import set_random_seed\n",
    "set_random_seed(7) #2\n",
    "\n",
    "#\n",
    "\n",
    "import numpy as np # linear algebra\n",
    "import pandas as pd # data processing, CSV file I/O (e.g. pd.read_csv)\n",
    "\n",
    "# Input data files are available in the \"../input/\" directory.\n",
    "# For example, running this (by clicking run or pressing Shift+Enter) will list the files in the input directory\n",
    "\n",
    "import os\n"
   ]
  },
  {
   "cell_type": "code",
   "execution_count": 0,
   "metadata": {
    "colab": {
     "base_uri": "https://localhost:8080/",
     "height": 35
    },
    "colab_type": "code",
    "executionInfo": {
     "elapsed": 3091,
     "status": "ok",
     "timestamp": 1584625368917,
     "user": {
      "displayName": "Yijie Xu",
      "photoUrl": "",
      "userId": "14695674479284134427"
     },
     "user_tz": -60
    },
    "id": "cvTuKxbA_6Qx",
    "outputId": "281f8a61-9103-4d93-fe61-7352d8d347ec"
   },
   "outputs": [
    {
     "name": "stdout",
     "output_type": "stream",
     "text": [
      "['.config', 'Covid_Data_GradientCrescent.zip', 'all', 'two', 'sample_data']\n"
     ]
    }
   ],
   "source": [
    "print(os.listdir(\"/content/\"))\n",
    "\n",
    "#Print and remove zips once done\n",
    "\n",
    "!rm Covid_Data_GradientCrescent.zip\n",
    "\n"
   ]
  },
  {
   "cell_type": "code",
   "execution_count": 0,
   "metadata": {
    "colab": {},
    "colab_type": "code",
    "id": "wf3LKpv0BGGk"
   },
   "outputs": [],
   "source": [
    "#Enable this cell to remove viral pneumonia class. Remember to Change model's final layer to 3 neurons.\n",
    "!rm -rf /content/all/test/pneumonia_vir\n",
    "\n",
    "!rm -rf /content/all/train/pneumonia_vir"
   ]
  },
  {
   "cell_type": "code",
   "execution_count": 0,
   "metadata": {
    "colab": {
     "base_uri": "https://localhost:8080/",
     "height": 35
    },
    "colab_type": "code",
    "executionInfo": {
     "elapsed": 1076,
     "status": "ok",
     "timestamp": 1584625446281,
     "user": {
      "displayName": "Yijie Xu",
      "photoUrl": "",
      "userId": "14695674479284134427"
     },
     "user_tz": -60
    },
    "id": "923QFSnj-E_1",
    "outputId": "c1ab9965-b420-43ba-f692-2794213164a3"
   },
   "outputs": [
    {
     "data": {
      "text/plain": [
       "['pneumonia_bac', 'covid', 'normal']"
      ]
     },
     "execution_count": 6,
     "metadata": {
      "tags": []
     },
     "output_type": "execute_result"
    }
   ],
   "source": [
    "from os import listdir\n",
    "data_list = listdir('/content/all/train')\n",
    "\n",
    "#Delete some classes that may interfere\n",
    "\n",
    "\n",
    "data_list"
   ]
  },
  {
   "cell_type": "markdown",
   "metadata": {
    "colab_type": "text",
    "id": "SW7NXqkh-Gk8"
   },
   "source": [
    "Case 2: COVID vs Normal vs Tertiary Pneumonia (Bacterial and Viral)\n",
    "VGG Initialization"
   ]
  },
  {
   "cell_type": "code",
   "execution_count": 0,
   "metadata": {
    "colab": {
     "base_uri": "https://localhost:8080/",
     "height": 126
    },
    "colab_type": "code",
    "executionInfo": {
     "elapsed": 1458,
     "status": "ok",
     "timestamp": 1584625446680,
     "user": {
      "displayName": "Yijie Xu",
      "photoUrl": "",
      "userId": "14695674479284134427"
     },
     "user_tz": -60
    },
    "id": "0BfmpmKd-JOb",
    "outputId": "9efe72c3-0f3c-498a-8ad7-4c135fbb0bef"
   },
   "outputs": [
    {
     "name": "stderr",
     "output_type": "stream",
     "text": [
      "Using TensorFlow backend.\n",
      "/usr/local/lib/python3.6/dist-packages/keras_preprocessing/image/image_data_generator.py:341: UserWarning: This ImageDataGenerator specifies `zca_whitening` which overrides setting of`featurewise_std_normalization`.\n",
      "  warnings.warn('This ImageDataGenerator specifies '\n"
     ]
    },
    {
     "name": "stdout",
     "output_type": "stream",
     "text": [
      "Found 160 images belonging to 3 classes.\n",
      "Found 40 images belonging to 3 classes.\n"
     ]
    }
   ],
   "source": [
    "from tensorflow.keras import backend as K\n",
    "from tensorflow.keras.models import Model ,load_model\n",
    "from tensorflow.keras.layers import Flatten, Dense, Dropout\n",
    "from tensorflow.keras.applications.inception_resnet_v2 import InceptionResNetV2, preprocess_input\n",
    "from keras.applications.vgg16 import preprocess_input\n",
    "from keras.applications.vgg16 import decode_predictions\n",
    "from keras.applications.vgg16 import VGG16\n",
    "from tensorflow.keras.optimizers import Adam, RMSprop\n",
    "from tensorflow.keras.preprocessing.image import ImageDataGenerator\n",
    "from tensorflow.keras.callbacks import ModelCheckpoint\n",
    "import numpy as np\n",
    "import tensorflow as tf\n",
    "\n",
    "\n",
    "DATASET_PATH  = '/content/all/train'\n",
    "test_dir =  '/content/all/test'\n",
    "IMAGE_SIZE    = (150, 150)\n",
    "NUM_CLASSES   = len(data_list)\n",
    "BATCH_SIZE    = 10  # try reducing batch size or freeze more layers if your GPU runs out of memory\n",
    "NUM_EPOCHS    = 100\n",
    "LEARNING_RATE =0.0001\n",
    "\n",
    "\n",
    "\n",
    "#Train datagen here is a preprocessor\n",
    "train_datagen = ImageDataGenerator(rescale=1./255,\n",
    "                                   rotation_range=50,\n",
    "                                   featurewise_center = True,\n",
    "                                   featurewise_std_normalization = True,\n",
    "                                   width_shift_range=0.2,\n",
    "                                   height_shift_range=0.2,\n",
    "                                   shear_range=0.25,\n",
    "                                   zoom_range=0.1,\n",
    "                                   zca_whitening = True,\n",
    "                                   channel_shift_range = 20,\n",
    "                                   horizontal_flip = True ,\n",
    "                                   vertical_flip = True ,\n",
    "                                   validation_split = 0.2,\n",
    "                                   fill_mode='constant')\n",
    "\n",
    "# test_datagen = ImageDataGenerator(preprocessing_function=preprocess_input,\n",
    "#                                    fill_mode='constant')\n",
    "\n",
    "train_batches = train_datagen.flow_from_directory(DATASET_PATH,\n",
    "                                                  target_size=IMAGE_SIZE,\n",
    "                                                  shuffle=True,\n",
    "                                                  batch_size=BATCH_SIZE,\n",
    "                                                  subset = \"training\",\n",
    "                                                  seed=42,\n",
    "                                                  class_mode=\"categorical\"\n",
    "                                                  )\n",
    "\n",
    "valid_batches = train_datagen.flow_from_directory(DATASET_PATH,\n",
    "                                                  target_size=IMAGE_SIZE,\n",
    "                                                  shuffle=True,\n",
    "                                                  batch_size=BATCH_SIZE,\n",
    "                                                  subset = \"validation\",\n",
    "                                                  seed=42,\n",
    "                                                  class_mode=\"categorical\"\n",
    "                                                 \n",
    "                                                  )\n",
    "\n"
   ]
  },
  {
   "cell_type": "markdown",
   "metadata": {
    "colab_type": "text",
    "id": "Arc_63PU-O5K"
   },
   "source": [
    "Layer Modification at upper layer of VGG16"
   ]
  },
  {
   "cell_type": "code",
   "execution_count": 0,
   "metadata": {
    "colab": {},
    "colab_type": "code",
    "id": "lyGm7tYQBBr1"
   },
   "outputs": [],
   "source": [
    "#Simple CNN model based on VGG16. Set dense layer neuron count to 3 if viral pneumonia class is removed\n",
    "\n",
    "\n",
    "from keras import models\n",
    "from keras import layers\n",
    "from keras.applications import VGG16\n",
    "from keras import optimizers\n",
    "\n",
    "conv_base = VGG16(weights='imagenet',\n",
    "                  include_top=False,\n",
    "                  input_shape=(150, 150, 3))\n",
    "\n",
    "\n",
    "conv_base.trainable = False\n",
    "\n",
    "\n",
    "model = models.Sequential()\n",
    "model.add(conv_base)\n",
    "model.add(layers.Flatten())\n",
    "model.add(layers.Dense(256, activation='relu'))\n",
    "model.add(layers.Dense(3, activation='softmax'))\n",
    "\n",
    "\n",
    "model.compile(loss='categorical_crossentropy',\n",
    "              \n",
    "              optimizer=optimizers.Adam(lr=LEARNING_RATE),\n",
    "              metrics=['acc'])"
   ]
  },
  {
   "cell_type": "code",
   "execution_count": 0,
   "metadata": {
    "colab": {
     "base_uri": "https://localhost:8080/",
     "height": 319
    },
    "colab_type": "code",
    "executionInfo": {
     "elapsed": 1405,
     "status": "ok",
     "timestamp": 1584625481306,
     "user": {
      "displayName": "Yijie Xu",
      "photoUrl": "",
      "userId": "14695674479284134427"
     },
     "user_tz": -60
    },
    "id": "GKDLJZjL-UlA",
    "outputId": "c04d5d58-f967-4f7b-8f82-ab997e67132c"
   },
   "outputs": [
    {
     "name": "stdout",
     "output_type": "stream",
     "text": [
      "Model: \"sequential_2\"\n",
      "_________________________________________________________________\n",
      "Layer (type)                 Output Shape              Param #   \n",
      "=================================================================\n",
      "vgg16 (Model)                (None, 4, 4, 512)         14714688  \n",
      "_________________________________________________________________\n",
      "flatten_2 (Flatten)          (None, 8192)              0         \n",
      "_________________________________________________________________\n",
      "dense_3 (Dense)              (None, 256)               2097408   \n",
      "_________________________________________________________________\n",
      "dense_4 (Dense)              (None, 3)                 771       \n",
      "=================================================================\n",
      "Total params: 16,812,867\n",
      "Trainable params: 2,098,179\n",
      "Non-trainable params: 14,714,688\n",
      "_________________________________________________________________\n",
      "None\n"
     ]
    }
   ],
   "source": [
    "print(model.summary())"
   ]
  },
  {
   "cell_type": "markdown",
   "metadata": {
    "colab_type": "text",
    "id": "qh3QQZLz-yLW"
   },
   "source": [
    "Training"
   ]
  },
  {
   "cell_type": "code",
   "execution_count": 0,
   "metadata": {
    "colab": {
     "base_uri": "https://localhost:8080/",
     "height": 1000
    },
    "colab_type": "code",
    "executionInfo": {
     "elapsed": 441482,
     "status": "ok",
     "timestamp": 1584625921438,
     "user": {
      "displayName": "Yijie Xu",
      "photoUrl": "",
      "userId": "14695674479284134427"
     },
     "user_tz": -60
    },
    "id": "F7IwDhx5-iKe",
    "outputId": "e7618c23-a4fc-4802-bfb1-4150267e6559"
   },
   "outputs": [
    {
     "name": "stdout",
     "output_type": "stream",
     "text": [
      "16\n",
      "4\n",
      "Epoch 1/100\n"
     ]
    },
    {
     "name": "stderr",
     "output_type": "stream",
     "text": [
      "/usr/local/lib/python3.6/dist-packages/keras_preprocessing/image/image_data_generator.py:716: UserWarning: This ImageDataGenerator specifies `featurewise_center`, but it hasn't been fit on any training data. Fit it first by calling `.fit(numpy_data)`.\n",
      "  warnings.warn('This ImageDataGenerator specifies '\n",
      "/usr/local/lib/python3.6/dist-packages/keras_preprocessing/image/image_data_generator.py:735: UserWarning: This ImageDataGenerator specifies `zca_whitening`, but it hasn't been fit on any training data. Fit it first by calling `.fit(numpy_data)`.\n",
      "  warnings.warn('This ImageDataGenerator specifies '\n"
     ]
    },
    {
     "name": "stdout",
     "output_type": "stream",
     "text": [
      "16/16 [==============================] - 10s 637ms/step - loss: 1.0498 - acc: 0.4313 - val_loss: 0.9339 - val_acc: 0.5500\n",
      "Epoch 2/100\n",
      "16/16 [==============================] - 4s 270ms/step - loss: 0.8062 - acc: 0.6250 - val_loss: 0.8428 - val_acc: 0.5500\n",
      "Epoch 3/100\n",
      "16/16 [==============================] - 4s 264ms/step - loss: 0.7823 - acc: 0.6500 - val_loss: 0.6858 - val_acc: 0.6750\n",
      "Epoch 4/100\n",
      "16/16 [==============================] - 4s 263ms/step - loss: 0.7373 - acc: 0.6750 - val_loss: 0.6383 - val_acc: 0.6750\n",
      "Epoch 5/100\n",
      "16/16 [==============================] - 4s 266ms/step - loss: 0.6715 - acc: 0.7063 - val_loss: 0.6969 - val_acc: 0.6500\n",
      "Epoch 6/100\n",
      "16/16 [==============================] - 4s 269ms/step - loss: 0.6397 - acc: 0.7188 - val_loss: 0.7267 - val_acc: 0.6000\n",
      "Epoch 7/100\n",
      "16/16 [==============================] - 4s 271ms/step - loss: 0.6145 - acc: 0.7687 - val_loss: 0.5519 - val_acc: 0.8000\n",
      "Epoch 8/100\n",
      "16/16 [==============================] - 4s 268ms/step - loss: 0.5296 - acc: 0.8312 - val_loss: 0.5873 - val_acc: 0.7000\n",
      "Epoch 9/100\n",
      "16/16 [==============================] - 4s 266ms/step - loss: 0.5200 - acc: 0.7938 - val_loss: 0.5974 - val_acc: 0.6750\n",
      "Epoch 10/100\n",
      "16/16 [==============================] - 4s 263ms/step - loss: 0.4508 - acc: 0.8625 - val_loss: 0.5438 - val_acc: 0.7500\n",
      "Epoch 11/100\n",
      "16/16 [==============================] - 4s 265ms/step - loss: 0.4888 - acc: 0.8437 - val_loss: 0.6560 - val_acc: 0.7000\n",
      "Epoch 12/100\n",
      "16/16 [==============================] - 4s 263ms/step - loss: 0.4873 - acc: 0.8250 - val_loss: 0.3684 - val_acc: 0.8750\n",
      "Epoch 13/100\n",
      "16/16 [==============================] - 4s 262ms/step - loss: 0.4412 - acc: 0.8375 - val_loss: 0.4848 - val_acc: 0.8000\n",
      "Epoch 14/100\n",
      "16/16 [==============================] - 4s 261ms/step - loss: 0.4017 - acc: 0.8812 - val_loss: 0.6040 - val_acc: 0.7000\n",
      "Epoch 15/100\n",
      "16/16 [==============================] - 4s 266ms/step - loss: 0.4023 - acc: 0.8437 - val_loss: 0.4515 - val_acc: 0.8500\n",
      "Epoch 16/100\n",
      "16/16 [==============================] - 4s 260ms/step - loss: 0.4230 - acc: 0.8562 - val_loss: 0.3597 - val_acc: 0.8750\n",
      "Epoch 17/100\n",
      "16/16 [==============================] - 4s 266ms/step - loss: 0.3787 - acc: 0.8687 - val_loss: 0.4388 - val_acc: 0.8000\n",
      "Epoch 18/100\n",
      "16/16 [==============================] - 4s 265ms/step - loss: 0.3748 - acc: 0.9000 - val_loss: 0.5102 - val_acc: 0.8250\n",
      "Epoch 19/100\n",
      "16/16 [==============================] - 4s 263ms/step - loss: 0.3672 - acc: 0.8812 - val_loss: 0.6221 - val_acc: 0.7250\n",
      "Epoch 20/100\n",
      "16/16 [==============================] - 4s 263ms/step - loss: 0.4125 - acc: 0.8438 - val_loss: 0.4431 - val_acc: 0.8250\n",
      "Epoch 21/100\n",
      "16/16 [==============================] - 4s 265ms/step - loss: 0.3897 - acc: 0.8437 - val_loss: 0.4752 - val_acc: 0.8500\n",
      "Epoch 22/100\n",
      "16/16 [==============================] - 4s 266ms/step - loss: 0.3391 - acc: 0.8812 - val_loss: 0.3713 - val_acc: 0.8250\n",
      "Epoch 23/100\n",
      "16/16 [==============================] - 4s 264ms/step - loss: 0.3423 - acc: 0.8500 - val_loss: 0.6167 - val_acc: 0.6500\n",
      "Epoch 24/100\n",
      "16/16 [==============================] - 4s 270ms/step - loss: 0.3050 - acc: 0.9000 - val_loss: 0.2512 - val_acc: 0.9500\n",
      "Epoch 25/100\n",
      "16/16 [==============================] - 4s 270ms/step - loss: 0.3294 - acc: 0.8875 - val_loss: 0.4502 - val_acc: 0.7750\n",
      "Epoch 26/100\n",
      "16/16 [==============================] - 4s 274ms/step - loss: 0.3327 - acc: 0.9000 - val_loss: 0.3551 - val_acc: 0.9000\n",
      "Epoch 27/100\n",
      "16/16 [==============================] - 4s 271ms/step - loss: 0.2844 - acc: 0.9000 - val_loss: 0.4075 - val_acc: 0.8250\n",
      "Epoch 28/100\n",
      "16/16 [==============================] - 4s 271ms/step - loss: 0.3648 - acc: 0.8750 - val_loss: 0.4135 - val_acc: 0.8250\n",
      "Epoch 29/100\n",
      "16/16 [==============================] - 4s 273ms/step - loss: 0.3066 - acc: 0.9125 - val_loss: 0.5162 - val_acc: 0.8000\n",
      "Epoch 30/100\n",
      "16/16 [==============================] - 4s 274ms/step - loss: 0.3062 - acc: 0.8750 - val_loss: 0.3713 - val_acc: 0.8500\n",
      "Epoch 31/100\n",
      "16/16 [==============================] - 4s 270ms/step - loss: 0.2922 - acc: 0.8875 - val_loss: 0.4748 - val_acc: 0.7250\n",
      "Epoch 32/100\n",
      "16/16 [==============================] - 4s 275ms/step - loss: 0.2781 - acc: 0.8750 - val_loss: 0.5921 - val_acc: 0.7500\n",
      "Epoch 33/100\n",
      "16/16 [==============================] - 4s 267ms/step - loss: 0.3685 - acc: 0.8312 - val_loss: 0.4834 - val_acc: 0.7000\n",
      "Epoch 34/100\n",
      "16/16 [==============================] - 4s 273ms/step - loss: 0.3199 - acc: 0.8812 - val_loss: 0.6061 - val_acc: 0.7500\n",
      "Epoch 35/100\n",
      "16/16 [==============================] - 4s 277ms/step - loss: 0.3069 - acc: 0.8812 - val_loss: 0.4015 - val_acc: 0.8750\n",
      "Epoch 36/100\n",
      "16/16 [==============================] - 5s 285ms/step - loss: 0.2747 - acc: 0.9125 - val_loss: 0.6850 - val_acc: 0.6750\n",
      "Epoch 37/100\n",
      "16/16 [==============================] - 4s 271ms/step - loss: 0.3369 - acc: 0.8687 - val_loss: 0.3932 - val_acc: 0.7750\n",
      "Epoch 38/100\n",
      "16/16 [==============================] - 4s 278ms/step - loss: 0.3191 - acc: 0.8625 - val_loss: 0.4894 - val_acc: 0.7750\n",
      "Epoch 39/100\n",
      "16/16 [==============================] - 4s 280ms/step - loss: 0.2960 - acc: 0.8812 - val_loss: 0.3257 - val_acc: 0.9000\n",
      "Epoch 40/100\n",
      "16/16 [==============================] - 4s 279ms/step - loss: 0.2690 - acc: 0.9187 - val_loss: 0.4838 - val_acc: 0.7500\n",
      "Epoch 41/100\n",
      "16/16 [==============================] - 4s 274ms/step - loss: 0.2918 - acc: 0.9062 - val_loss: 0.2917 - val_acc: 0.9500\n",
      "Epoch 42/100\n",
      "16/16 [==============================] - 4s 275ms/step - loss: 0.2654 - acc: 0.9125 - val_loss: 0.3139 - val_acc: 0.9000\n",
      "Epoch 43/100\n",
      "16/16 [==============================] - 4s 276ms/step - loss: 0.2937 - acc: 0.8875 - val_loss: 0.4062 - val_acc: 0.8250\n",
      "Epoch 44/100\n",
      "16/16 [==============================] - 4s 281ms/step - loss: 0.2640 - acc: 0.8875 - val_loss: 0.2849 - val_acc: 0.8750\n",
      "Epoch 45/100\n",
      "16/16 [==============================] - 4s 278ms/step - loss: 0.2371 - acc: 0.9187 - val_loss: 0.4868 - val_acc: 0.8250\n",
      "Epoch 46/100\n",
      "16/16 [==============================] - 4s 275ms/step - loss: 0.2096 - acc: 0.9312 - val_loss: 0.3798 - val_acc: 0.8000\n",
      "Epoch 47/100\n",
      "16/16 [==============================] - 4s 275ms/step - loss: 0.2144 - acc: 0.9125 - val_loss: 0.4773 - val_acc: 0.8000\n",
      "Epoch 48/100\n",
      "16/16 [==============================] - 4s 266ms/step - loss: 0.2406 - acc: 0.9312 - val_loss: 0.3882 - val_acc: 0.8500\n",
      "Epoch 49/100\n",
      "16/16 [==============================] - 4s 272ms/step - loss: 0.2710 - acc: 0.9062 - val_loss: 0.3972 - val_acc: 0.9000\n",
      "Epoch 50/100\n",
      "16/16 [==============================] - 4s 273ms/step - loss: 0.2491 - acc: 0.9062 - val_loss: 0.3848 - val_acc: 0.9000\n",
      "Epoch 51/100\n",
      "16/16 [==============================] - 4s 272ms/step - loss: 0.2630 - acc: 0.8750 - val_loss: 0.3471 - val_acc: 0.8750\n",
      "Epoch 52/100\n",
      "16/16 [==============================] - 4s 274ms/step - loss: 0.2012 - acc: 0.9312 - val_loss: 0.4871 - val_acc: 0.8250\n",
      "Epoch 53/100\n",
      "16/16 [==============================] - 4s 272ms/step - loss: 0.2329 - acc: 0.9187 - val_loss: 0.3532 - val_acc: 0.8000\n",
      "Epoch 54/100\n",
      "16/16 [==============================] - 4s 272ms/step - loss: 0.2951 - acc: 0.8812 - val_loss: 0.4450 - val_acc: 0.7750\n",
      "Epoch 55/100\n",
      "16/16 [==============================] - 4s 271ms/step - loss: 0.2317 - acc: 0.9312 - val_loss: 0.2686 - val_acc: 0.9000\n",
      "Epoch 56/100\n",
      "16/16 [==============================] - 4s 266ms/step - loss: 0.3243 - acc: 0.8687 - val_loss: 0.4179 - val_acc: 0.7750\n",
      "Epoch 57/100\n",
      "16/16 [==============================] - 4s 276ms/step - loss: 0.2610 - acc: 0.9125 - val_loss: 0.3619 - val_acc: 0.8250\n",
      "Epoch 58/100\n",
      "16/16 [==============================] - 4s 273ms/step - loss: 0.2264 - acc: 0.9187 - val_loss: 0.3839 - val_acc: 0.8500\n",
      "Epoch 59/100\n",
      "16/16 [==============================] - 4s 268ms/step - loss: 0.2402 - acc: 0.9250 - val_loss: 0.6557 - val_acc: 0.7000\n",
      "Epoch 60/100\n",
      "16/16 [==============================] - 4s 276ms/step - loss: 0.2480 - acc: 0.9125 - val_loss: 0.5197 - val_acc: 0.8000\n",
      "Epoch 61/100\n",
      "16/16 [==============================] - 4s 274ms/step - loss: 0.2044 - acc: 0.9250 - val_loss: 0.4299 - val_acc: 0.8000\n",
      "Epoch 62/100\n",
      "16/16 [==============================] - 4s 278ms/step - loss: 0.2301 - acc: 0.9250 - val_loss: 0.2088 - val_acc: 0.9250\n",
      "Epoch 63/100\n",
      "16/16 [==============================] - 4s 277ms/step - loss: 0.2156 - acc: 0.9312 - val_loss: 0.4026 - val_acc: 0.8000\n",
      "Epoch 64/100\n",
      "16/16 [==============================] - 4s 276ms/step - loss: 0.1804 - acc: 0.9312 - val_loss: 0.3116 - val_acc: 0.8500\n",
      "Epoch 65/100\n",
      "16/16 [==============================] - 4s 274ms/step - loss: 0.2786 - acc: 0.9062 - val_loss: 0.5450 - val_acc: 0.8500\n",
      "Epoch 66/100\n",
      "16/16 [==============================] - 4s 278ms/step - loss: 0.2619 - acc: 0.9000 - val_loss: 0.4454 - val_acc: 0.8500\n",
      "Epoch 67/100\n",
      "16/16 [==============================] - 4s 268ms/step - loss: 0.2681 - acc: 0.9187 - val_loss: 0.5667 - val_acc: 0.8000\n",
      "Epoch 68/100\n",
      "16/16 [==============================] - 4s 276ms/step - loss: 0.2720 - acc: 0.8875 - val_loss: 0.7804 - val_acc: 0.7250\n",
      "Epoch 69/100\n",
      "16/16 [==============================] - 4s 276ms/step - loss: 0.1899 - acc: 0.9312 - val_loss: 0.3514 - val_acc: 0.9000\n",
      "Epoch 70/100\n",
      "16/16 [==============================] - 4s 270ms/step - loss: 0.2097 - acc: 0.9437 - val_loss: 0.3281 - val_acc: 0.8500\n",
      "Epoch 71/100\n",
      "16/16 [==============================] - 4s 272ms/step - loss: 0.2307 - acc: 0.9312 - val_loss: 0.3554 - val_acc: 0.8250\n",
      "Epoch 72/100\n",
      "16/16 [==============================] - 4s 281ms/step - loss: 0.1642 - acc: 0.9312 - val_loss: 0.2341 - val_acc: 0.9500\n",
      "Epoch 73/100\n",
      "16/16 [==============================] - 5s 281ms/step - loss: 0.1738 - acc: 0.9500 - val_loss: 0.4238 - val_acc: 0.8000\n",
      "Epoch 74/100\n",
      "16/16 [==============================] - 4s 275ms/step - loss: 0.1538 - acc: 0.9375 - val_loss: 0.3037 - val_acc: 0.8750\n",
      "Epoch 75/100\n",
      "16/16 [==============================] - 4s 275ms/step - loss: 0.2580 - acc: 0.9062 - val_loss: 0.2859 - val_acc: 0.8500\n",
      "Epoch 76/100\n",
      "16/16 [==============================] - 4s 265ms/step - loss: 0.2285 - acc: 0.9125 - val_loss: 0.3642 - val_acc: 0.8000\n",
      "Epoch 77/100\n",
      "16/16 [==============================] - 4s 272ms/step - loss: 0.2299 - acc: 0.9000 - val_loss: 0.4593 - val_acc: 0.7500\n",
      "Epoch 78/100\n",
      "16/16 [==============================] - 4s 274ms/step - loss: 0.2053 - acc: 0.9250 - val_loss: 0.2634 - val_acc: 0.9000\n",
      "Epoch 79/100\n",
      "16/16 [==============================] - 4s 277ms/step - loss: 0.2037 - acc: 0.9187 - val_loss: 0.6324 - val_acc: 0.7750\n",
      "Epoch 80/100\n",
      "16/16 [==============================] - 4s 280ms/step - loss: 0.2397 - acc: 0.8937 - val_loss: 0.3234 - val_acc: 0.8500\n",
      "Epoch 81/100\n",
      "16/16 [==============================] - 4s 277ms/step - loss: 0.2453 - acc: 0.9062 - val_loss: 0.5734 - val_acc: 0.8500\n",
      "Epoch 82/100\n",
      "16/16 [==============================] - 4s 280ms/step - loss: 0.1784 - acc: 0.9687 - val_loss: 0.3941 - val_acc: 0.8000\n",
      "Epoch 83/100\n",
      "16/16 [==============================] - 4s 272ms/step - loss: 0.2302 - acc: 0.8937 - val_loss: 0.5198 - val_acc: 0.8250\n",
      "Epoch 84/100\n",
      "16/16 [==============================] - 4s 271ms/step - loss: 0.2203 - acc: 0.9250 - val_loss: 0.6268 - val_acc: 0.7750\n",
      "Epoch 85/100\n",
      "16/16 [==============================] - 4s 266ms/step - loss: 0.1873 - acc: 0.9312 - val_loss: 0.1590 - val_acc: 0.9500\n",
      "Epoch 86/100\n",
      "16/16 [==============================] - 4s 273ms/step - loss: 0.2030 - acc: 0.9375 - val_loss: 0.3140 - val_acc: 0.9000\n",
      "Epoch 87/100\n",
      "16/16 [==============================] - 4s 265ms/step - loss: 0.1702 - acc: 0.9312 - val_loss: 0.3678 - val_acc: 0.8750\n",
      "Epoch 88/100\n",
      "16/16 [==============================] - 4s 264ms/step - loss: 0.1711 - acc: 0.9437 - val_loss: 0.2630 - val_acc: 0.9250\n",
      "Epoch 89/100\n",
      "16/16 [==============================] - 4s 266ms/step - loss: 0.2215 - acc: 0.9375 - val_loss: 0.5020 - val_acc: 0.8000\n",
      "Epoch 90/100\n",
      "16/16 [==============================] - 4s 270ms/step - loss: 0.2037 - acc: 0.9250 - val_loss: 0.3523 - val_acc: 0.8750\n",
      "Epoch 91/100\n",
      "16/16 [==============================] - 4s 266ms/step - loss: 0.1913 - acc: 0.9187 - val_loss: 0.5466 - val_acc: 0.8000\n",
      "Epoch 92/100\n",
      "16/16 [==============================] - 4s 272ms/step - loss: 0.1809 - acc: 0.9187 - val_loss: 0.3347 - val_acc: 0.8500\n",
      "Epoch 93/100\n",
      "16/16 [==============================] - 4s 269ms/step - loss: 0.2262 - acc: 0.9187 - val_loss: 0.3390 - val_acc: 0.8500\n",
      "Epoch 94/100\n",
      "16/16 [==============================] - 4s 275ms/step - loss: 0.1838 - acc: 0.9125 - val_loss: 0.2570 - val_acc: 0.9000\n",
      "Epoch 95/100\n",
      "16/16 [==============================] - 4s 266ms/step - loss: 0.1306 - acc: 0.9625 - val_loss: 0.5554 - val_acc: 0.8000\n",
      "Epoch 96/100\n",
      "16/16 [==============================] - 4s 265ms/step - loss: 0.1620 - acc: 0.9500 - val_loss: 0.1875 - val_acc: 0.9750\n",
      "Epoch 97/100\n",
      "16/16 [==============================] - 4s 268ms/step - loss: 0.1760 - acc: 0.9250 - val_loss: 0.4353 - val_acc: 0.8250\n",
      "Epoch 98/100\n",
      "16/16 [==============================] - 4s 268ms/step - loss: 0.2218 - acc: 0.9250 - val_loss: 0.3306 - val_acc: 0.9000\n",
      "Epoch 99/100\n",
      "16/16 [==============================] - 4s 267ms/step - loss: 0.1863 - acc: 0.9437 - val_loss: 0.4057 - val_acc: 0.8250\n",
      "Epoch 100/100\n",
      "16/16 [==============================] - 4s 271ms/step - loss: 0.2445 - acc: 0.9187 - val_loss: 0.6943 - val_acc: 0.7500\n"
     ]
    }
   ],
   "source": [
    "#FIT MODEL\n",
    "print(len(train_batches))\n",
    "print(len(valid_batches))\n",
    "\n",
    "STEP_SIZE_TRAIN=train_batches.n//train_batches.batch_size\n",
    "STEP_SIZE_VALID=valid_batches.n//valid_batches.batch_size\n",
    "\n",
    "result=model.fit_generator(train_batches,\n",
    "                        steps_per_epoch =STEP_SIZE_TRAIN,\n",
    "                        validation_data = valid_batches,\n",
    "                        validation_steps = STEP_SIZE_VALID,\n",
    "                        epochs= NUM_EPOCHS,                        \n",
    "                       )\n",
    "\n"
   ]
  },
  {
   "cell_type": "markdown",
   "metadata": {
    "colab_type": "text",
    "id": "89ZEQXk50A9-"
   },
   "source": [
    "Evaluation"
   ]
  },
  {
   "cell_type": "code",
   "execution_count": 0,
   "metadata": {
    "colab": {
     "base_uri": "https://localhost:8080/",
     "height": 429
    },
    "colab_type": "code",
    "executionInfo": {
     "elapsed": 443058,
     "status": "ok",
     "timestamp": 1584625923061,
     "user": {
      "displayName": "Yijie Xu",
      "photoUrl": "",
      "userId": "14695674479284134427"
     },
     "user_tz": -60
    },
    "id": "tNIFRzOvp1yA",
    "outputId": "9e9deed9-8a8d-4d51-d56e-d422cdade423"
   },
   "outputs": [
    {
     "name": "stderr",
     "output_type": "stream",
     "text": [
      "/usr/local/lib/python3.6/dist-packages/keras_preprocessing/image/image_data_generator.py:716: UserWarning: This ImageDataGenerator specifies `featurewise_center`, but it hasn't been fit on any training data. Fit it first by calling `.fit(numpy_data)`.\n",
      "  warnings.warn('This ImageDataGenerator specifies '\n",
      "/usr/local/lib/python3.6/dist-packages/keras_preprocessing/image/image_data_generator.py:735: UserWarning: This ImageDataGenerator specifies `zca_whitening`, but it hasn't been fit on any training data. Fit it first by calling `.fit(numpy_data)`.\n",
      "  warnings.warn('This ImageDataGenerator specifies '\n"
     ]
    },
    {
     "data": {
      "image/png": "[encoded data removed]",
      "text/plain": [
       "<Figure size 1080x360 with 2 Axes>"
      ]
     },
     "metadata": {
      "tags": []
     },
     "output_type": "display_data"
    }
   ],
   "source": [
    "import matplotlib.pyplot as plt\n",
    "\n",
    "\n",
    "def plot_acc_loss(result, epochs):\n",
    "    acc = result.history['acc']\n",
    "    loss = result.history['loss']\n",
    "    val_acc = result.history['val_acc']\n",
    "    val_loss = result.history['val_loss']\n",
    "    plt.figure(figsize=(15, 5))\n",
    "    plt.subplot(121)\n",
    "    plt.plot(range(1,epochs), acc[1:], label='Train_acc')\n",
    "    plt.plot(range(1,epochs), val_acc[1:], label='Test_acc')\n",
    "    plt.title('Accuracy over ' + str(epochs) + ' Epochs', size=15)\n",
    "    plt.legend()\n",
    "    plt.grid(True)\n",
    "    plt.subplot(122)\n",
    "    plt.plot(range(1,epochs), loss[1:], label='Train_loss')\n",
    "    plt.plot(range(1,epochs), val_loss[1:], label='Test_loss')\n",
    "    plt.title('Loss over ' + str(epochs) + ' Epochs', size=15)\n",
    "    plt.legend()\n",
    "    plt.grid(True)\n",
    "    plt.show()\n",
    "    \n",
    "plot_acc_loss(result, 100)"
   ]
  },
  {
   "cell_type": "code",
   "execution_count": 0,
   "metadata": {
    "colab": {
     "base_uri": "https://localhost:8080/",
     "height": 108
    },
    "colab_type": "code",
    "executionInfo": {
     "elapsed": 443049,
     "status": "ok",
     "timestamp": 1584625923063,
     "user": {
      "displayName": "Yijie Xu",
      "photoUrl": "",
      "userId": "14695674479284134427"
     },
     "user_tz": -60
    },
    "id": "g1W_MvpGJ39q",
    "outputId": "05ba006a-2d2c-4527-c295-ff9d7979cdc6"
   },
   "outputs": [
    {
     "name": "stderr",
     "output_type": "stream",
     "text": [
      "/usr/local/lib/python3.6/dist-packages/keras_preprocessing/image/image_data_generator.py:716: UserWarning: This ImageDataGenerator specifies `featurewise_center`, but it hasn't been fit on any training data. Fit it first by calling `.fit(numpy_data)`.\n",
      "  warnings.warn('This ImageDataGenerator specifies '\n",
      "/usr/local/lib/python3.6/dist-packages/keras_preprocessing/image/image_data_generator.py:735: UserWarning: This ImageDataGenerator specifies `zca_whitening`, but it hasn't been fit on any training data. Fit it first by calling `.fit(numpy_data)`.\n",
      "  warnings.warn('This ImageDataGenerator specifies '\n"
     ]
    }
   ],
   "source": [
    "model.save('Covid_Multi.h5')"
   ]
  },
  {
   "cell_type": "markdown",
   "metadata": {
    "colab_type": "text",
    "id": "5X6TGa0N-5R0"
   },
   "source": [
    "Predict"
   ]
  },
  {
   "cell_type": "code",
   "execution_count": 0,
   "metadata": {
    "colab": {
     "base_uri": "https://localhost:8080/",
     "height": 35
    },
    "colab_type": "code",
    "executionInfo": {
     "elapsed": 443041,
     "status": "ok",
     "timestamp": 1584625923064,
     "user": {
      "displayName": "Yijie Xu",
      "photoUrl": "",
      "userId": "14695674479284134427"
     },
     "user_tz": -60
    },
    "id": "B1Qqa6YG-6kB",
    "outputId": "13f7944e-906c-40a5-f1aa-4f84b71ecc63"
   },
   "outputs": [
    {
     "name": "stdout",
     "output_type": "stream",
     "text": [
      "Found 27 images belonging to 3 classes.\n"
     ]
    }
   ],
   "source": [
    "\n",
    "#Dont forget shuffle false\n",
    "#See https://github.com/keras-team/keras/issues/6499\n",
    "test_datagen = ImageDataGenerator(rescale=1. / 255)\n",
    "\n",
    "eval_generator = test_datagen.flow_from_directory(\n",
    "        test_dir,target_size=IMAGE_SIZE,\n",
    "        batch_size=1,\n",
    "        shuffle=True,\n",
    "        seed=42,\n",
    "        \n",
    "        class_mode=\"categorical\")\n",
    "eval_generator.reset()    \n"
   ]
  },
  {
   "cell_type": "code",
   "execution_count": 0,
   "metadata": {
    "colab": {
     "base_uri": "https://localhost:8080/",
     "height": 70
    },
    "colab_type": "code",
    "executionInfo": {
     "elapsed": 443508,
     "status": "ok",
     "timestamp": 1584625923541,
     "user": {
      "displayName": "Yijie Xu",
      "photoUrl": "",
      "userId": "14695674479284134427"
     },
     "user_tz": -60
    },
    "id": "OruQrAjTAbly",
    "outputId": "a3603d56-6c95-4067-b315-71a9c18dc2f4"
   },
   "outputs": [
    {
     "name": "stdout",
     "output_type": "stream",
     "text": [
      "3/3 [==============================] - 1s 199ms/step\n",
      "Test loss: 0.006713376846164465\n",
      "Test accuracy: 1.0\n"
     ]
    }
   ],
   "source": [
    "\n",
    "eval_generator.reset()  \n",
    "x = model.evaluate_generator(eval_generator,\n",
    "                           steps = np.ceil(len(eval_generator) / BATCH_SIZE),\n",
    "                           use_multiprocessing = False,\n",
    "                           verbose = 1,\n",
    "                           workers=1\n",
    "                           )\n",
    "\n",
    "\n",
    "print('Test loss:' , x[0])\n",
    "print('Test accuracy:',x[1])\n",
    "\n",
    "#Poor test accuracy due to the small dataset size"
   ]
  },
  {
   "cell_type": "markdown",
   "metadata": {
    "colab_type": "text",
    "id": "j-Xt7hwF0KK8"
   },
   "source": [
    "Optional: Finetuning with a learning rate of 5E-5"
   ]
  },
  {
   "cell_type": "code",
   "execution_count": 0,
   "metadata": {
    "colab": {
     "base_uri": "https://localhost:8080/",
     "height": 1000
    },
    "colab_type": "code",
    "executionInfo": {
     "elapsed": 661831,
     "status": "ok",
     "timestamp": 1584626141873,
     "user": {
      "displayName": "Yijie Xu",
      "photoUrl": "",
      "userId": "14695674479284134427"
     },
     "user_tz": -60
    },
    "id": "B_KzQruxRfbA",
    "outputId": "b9fe2053-a12c-4c36-c20a-0461e688d5d2"
   },
   "outputs": [
    {
     "name": "stdout",
     "output_type": "stream",
     "text": [
      "Epoch 1/50\n"
     ]
    },
    {
     "name": "stderr",
     "output_type": "stream",
     "text": [
      "/usr/local/lib/python3.6/dist-packages/keras_preprocessing/image/image_data_generator.py:716: UserWarning: This ImageDataGenerator specifies `featurewise_center`, but it hasn't been fit on any training data. Fit it first by calling `.fit(numpy_data)`.\n",
      "  warnings.warn('This ImageDataGenerator specifies '\n",
      "/usr/local/lib/python3.6/dist-packages/keras_preprocessing/image/image_data_generator.py:735: UserWarning: This ImageDataGenerator specifies `zca_whitening`, but it hasn't been fit on any training data. Fit it first by calling `.fit(numpy_data)`.\n",
      "  warnings.warn('This ImageDataGenerator specifies '\n"
     ]
    },
    {
     "name": "stdout",
     "output_type": "stream",
     "text": [
      "16/16 [==============================] - 5s 300ms/step - loss: 0.1551 - acc: 0.9562 - val_loss: 0.4131 - val_acc: 0.7750\n",
      "Epoch 2/50\n",
      "16/16 [==============================] - 4s 255ms/step - loss: 0.1716 - acc: 0.9312 - val_loss: 0.5726 - val_acc: 0.8500\n",
      "Epoch 3/50\n",
      "16/16 [==============================] - 4s 261ms/step - loss: 0.2124 - acc: 0.9125 - val_loss: 0.4882 - val_acc: 0.8000\n",
      "Epoch 4/50\n",
      "16/16 [==============================] - 4s 261ms/step - loss: 0.1440 - acc: 0.9437 - val_loss: 0.3906 - val_acc: 0.8000\n",
      "Epoch 5/50\n",
      "16/16 [==============================] - 4s 267ms/step - loss: 0.1794 - acc: 0.9125 - val_loss: 0.4222 - val_acc: 0.9000\n",
      "Epoch 6/50\n",
      "16/16 [==============================] - 4s 273ms/step - loss: 0.2027 - acc: 0.9187 - val_loss: 0.4976 - val_acc: 0.8250\n",
      "Epoch 7/50\n",
      "16/16 [==============================] - 4s 269ms/step - loss: 0.2004 - acc: 0.9500 - val_loss: 0.2417 - val_acc: 0.9000\n",
      "Epoch 8/50\n",
      "16/16 [==============================] - 4s 269ms/step - loss: 0.2233 - acc: 0.9312 - val_loss: 0.3159 - val_acc: 0.8750\n",
      "Epoch 9/50\n",
      "16/16 [==============================] - 4s 267ms/step - loss: 0.1797 - acc: 0.9375 - val_loss: 0.5429 - val_acc: 0.7750\n",
      "Epoch 10/50\n",
      "16/16 [==============================] - 4s 268ms/step - loss: 0.1344 - acc: 0.9750 - val_loss: 0.3393 - val_acc: 0.8000\n",
      "Epoch 11/50\n",
      "16/16 [==============================] - 4s 264ms/step - loss: 0.1897 - acc: 0.9125 - val_loss: 0.4713 - val_acc: 0.8750\n",
      "Epoch 12/50\n",
      "16/16 [==============================] - 4s 266ms/step - loss: 0.1977 - acc: 0.9437 - val_loss: 0.3230 - val_acc: 0.8500\n",
      "Epoch 13/50\n",
      "16/16 [==============================] - 4s 274ms/step - loss: 0.1581 - acc: 0.9500 - val_loss: 0.3546 - val_acc: 0.9000\n",
      "Epoch 14/50\n",
      "16/16 [==============================] - 5s 288ms/step - loss: 0.1419 - acc: 0.9687 - val_loss: 0.2552 - val_acc: 0.8750\n",
      "Epoch 15/50\n",
      "16/16 [==============================] - 4s 275ms/step - loss: 0.1260 - acc: 0.9437 - val_loss: 0.5564 - val_acc: 0.8250\n",
      "Epoch 16/50\n",
      "16/16 [==============================] - 4s 276ms/step - loss: 0.1622 - acc: 0.9500 - val_loss: 0.4559 - val_acc: 0.9000\n",
      "Epoch 17/50\n",
      "16/16 [==============================] - 4s 279ms/step - loss: 0.1765 - acc: 0.9437 - val_loss: 0.3341 - val_acc: 0.8250\n",
      "Epoch 18/50\n",
      "16/16 [==============================] - 4s 268ms/step - loss: 0.1942 - acc: 0.9312 - val_loss: 0.3183 - val_acc: 0.8750\n",
      "Epoch 19/50\n",
      "16/16 [==============================] - 4s 276ms/step - loss: 0.2028 - acc: 0.9250 - val_loss: 0.5201 - val_acc: 0.8000\n",
      "Epoch 20/50\n",
      "16/16 [==============================] - 4s 276ms/step - loss: 0.1503 - acc: 0.9437 - val_loss: 0.4794 - val_acc: 0.7750\n",
      "Epoch 21/50\n",
      "16/16 [==============================] - 5s 285ms/step - loss: 0.1345 - acc: 0.9688 - val_loss: 0.4558 - val_acc: 0.8500\n",
      "Epoch 22/50\n",
      "16/16 [==============================] - 4s 278ms/step - loss: 0.1679 - acc: 0.9437 - val_loss: 0.3326 - val_acc: 0.8000\n",
      "Epoch 23/50\n",
      "16/16 [==============================] - 4s 280ms/step - loss: 0.1946 - acc: 0.9125 - val_loss: 0.2727 - val_acc: 0.9000\n",
      "Epoch 24/50\n",
      "16/16 [==============================] - 4s 280ms/step - loss: 0.1584 - acc: 0.9437 - val_loss: 0.4005 - val_acc: 0.8250\n",
      "Epoch 25/50\n",
      "16/16 [==============================] - 4s 274ms/step - loss: 0.1584 - acc: 0.9437 - val_loss: 0.4175 - val_acc: 0.8250\n",
      "Epoch 26/50\n",
      "16/16 [==============================] - 4s 275ms/step - loss: 0.2221 - acc: 0.9250 - val_loss: 0.2564 - val_acc: 0.9000\n",
      "Epoch 27/50\n",
      "16/16 [==============================] - 5s 283ms/step - loss: 0.1575 - acc: 0.9437 - val_loss: 0.4363 - val_acc: 0.8500\n",
      "Epoch 28/50\n",
      "16/16 [==============================] - 4s 277ms/step - loss: 0.1381 - acc: 0.9500 - val_loss: 0.4067 - val_acc: 0.8000\n",
      "Epoch 29/50\n",
      "16/16 [==============================] - 4s 272ms/step - loss: 0.1407 - acc: 0.9437 - val_loss: 0.3436 - val_acc: 0.8250\n",
      "Epoch 30/50\n",
      "16/16 [==============================] - 4s 264ms/step - loss: 0.1706 - acc: 0.9500 - val_loss: 0.5116 - val_acc: 0.8250\n",
      "Epoch 31/50\n",
      "16/16 [==============================] - 4s 268ms/step - loss: 0.1540 - acc: 0.9562 - val_loss: 0.2620 - val_acc: 0.9000\n",
      "Epoch 32/50\n",
      "16/16 [==============================] - 4s 268ms/step - loss: 0.1431 - acc: 0.9437 - val_loss: 0.4244 - val_acc: 0.8750\n",
      "Epoch 33/50\n",
      "16/16 [==============================] - 4s 272ms/step - loss: 0.1510 - acc: 0.9562 - val_loss: 0.3204 - val_acc: 0.8000\n",
      "Epoch 34/50\n",
      "16/16 [==============================] - 4s 265ms/step - loss: 0.1086 - acc: 0.9750 - val_loss: 0.3930 - val_acc: 0.8500\n",
      "Epoch 35/50\n",
      "16/16 [==============================] - 4s 265ms/step - loss: 0.1814 - acc: 0.9312 - val_loss: 0.4661 - val_acc: 0.7750\n",
      "Epoch 36/50\n",
      "16/16 [==============================] - 4s 275ms/step - loss: 0.1943 - acc: 0.9375 - val_loss: 0.4861 - val_acc: 0.8250\n",
      "Epoch 37/50\n",
      "16/16 [==============================] - 4s 276ms/step - loss: 0.1453 - acc: 0.9562 - val_loss: 0.5312 - val_acc: 0.7750\n",
      "Epoch 38/50\n",
      "16/16 [==============================] - 4s 267ms/step - loss: 0.1858 - acc: 0.9312 - val_loss: 0.2732 - val_acc: 0.9000\n",
      "Epoch 39/50\n",
      "16/16 [==============================] - 4s 270ms/step - loss: 0.1251 - acc: 0.9687 - val_loss: 0.4948 - val_acc: 0.8000\n",
      "Epoch 40/50\n",
      "16/16 [==============================] - 4s 270ms/step - loss: 0.2143 - acc: 0.9187 - val_loss: 0.5600 - val_acc: 0.7750\n",
      "Epoch 41/50\n",
      "16/16 [==============================] - 4s 270ms/step - loss: 0.1791 - acc: 0.9500 - val_loss: 0.3557 - val_acc: 0.8750\n",
      "Epoch 42/50\n",
      "16/16 [==============================] - 4s 270ms/step - loss: 0.1803 - acc: 0.9187 - val_loss: 0.2693 - val_acc: 0.9000\n",
      "Epoch 43/50\n",
      "16/16 [==============================] - 4s 275ms/step - loss: 0.1964 - acc: 0.9250 - val_loss: 0.4657 - val_acc: 0.8250\n",
      "Epoch 44/50\n",
      "16/16 [==============================] - 4s 275ms/step - loss: 0.2040 - acc: 0.9312 - val_loss: 0.4766 - val_acc: 0.8500\n",
      "Epoch 45/50\n",
      "16/16 [==============================] - 4s 279ms/step - loss: 0.1416 - acc: 0.9437 - val_loss: 0.5015 - val_acc: 0.8250\n",
      "Epoch 46/50\n",
      "16/16 [==============================] - 4s 266ms/step - loss: 0.1854 - acc: 0.9375 - val_loss: 0.3880 - val_acc: 0.8750\n",
      "Epoch 47/50\n",
      "16/16 [==============================] - 4s 273ms/step - loss: 0.1722 - acc: 0.9187 - val_loss: 0.4548 - val_acc: 0.8500\n",
      "Epoch 48/50\n",
      "16/16 [==============================] - 4s 274ms/step - loss: 0.1170 - acc: 0.9750 - val_loss: 0.5253 - val_acc: 0.8250\n",
      "Epoch 49/50\n",
      "16/16 [==============================] - 4s 264ms/step - loss: 0.1491 - acc: 0.9500 - val_loss: 0.4620 - val_acc: 0.8000\n",
      "Epoch 50/50\n",
      "16/16 [==============================] - 4s 267ms/step - loss: 0.2068 - acc: 0.9125 - val_loss: 0.2923 - val_acc: 0.8500\n"
     ]
    }
   ],
   "source": [
    "\n",
    "model.compile(loss='categorical_crossentropy',\n",
    "              \n",
    "              optimizer=optimizers.Adam(lr=5e-5),\n",
    "              metrics=['acc'])\n",
    "\n",
    "result=model.fit_generator(train_batches,\n",
    "                        steps_per_epoch =STEP_SIZE_TRAIN,\n",
    "                        validation_data = valid_batches,\n",
    "                        validation_steps = STEP_SIZE_VALID,\n",
    "                        epochs= 20,                        \n",
    "                       )\n"
   ]
  },
  {
   "cell_type": "code",
   "execution_count": 0,
   "metadata": {
    "colab": {
     "base_uri": "https://localhost:8080/",
     "height": 161
    },
    "colab_type": "code",
    "executionInfo": {
     "elapsed": 661832,
     "status": "ok",
     "timestamp": 1584626141880,
     "user": {
      "displayName": "Yijie Xu",
      "photoUrl": "",
      "userId": "14695674479284134427"
     },
     "user_tz": -60
    },
    "id": "hpLLum4G9n0Y",
    "outputId": "64110e7c-c130-41fe-ba28-cb4e429fdba5"
   },
   "outputs": [
    {
     "name": "stdout",
     "output_type": "stream",
     "text": [
      "3/3 [==============================] - 0s 36ms/step\n",
      "Test loss: 0.021353596743817132\n",
      "Test accuracy: 1.0\n"
     ]
    },
    {
     "name": "stderr",
     "output_type": "stream",
     "text": [
      "/usr/local/lib/python3.6/dist-packages/keras_preprocessing/image/image_data_generator.py:716: UserWarning: This ImageDataGenerator specifies `featurewise_center`, but it hasn't been fit on any training data. Fit it first by calling `.fit(numpy_data)`.\n",
      "  warnings.warn('This ImageDataGenerator specifies '\n",
      "/usr/local/lib/python3.6/dist-packages/keras_preprocessing/image/image_data_generator.py:735: UserWarning: This ImageDataGenerator specifies `zca_whitening`, but it hasn't been fit on any training data. Fit it first by calling `.fit(numpy_data)`.\n",
      "  warnings.warn('This ImageDataGenerator specifies '\n"
     ]
    }
   ],
   "source": [
    "eval_generator.reset()  \n",
    "x = model.evaluate_generator(eval_generator,\n",
    "                           steps = np.ceil(len(eval_generator) / BATCH_SIZE),\n",
    "                           use_multiprocessing = False,\n",
    "                           verbose = 1,\n",
    "                           workers=1\n",
    "                           )\n",
    "\n",
    "\n",
    "print('Test loss:' , x[0])\n",
    "print('Test accuracy:',x[1])\n"
   ]
  }
 ],
 "metadata": {
  "accelerator": "GPU",
  "colab": {
   "collapsed_sections": [],
   "name": "Covid19_GradientCrescent_Multi.ipynb",
   "provenance": []
  },
  "kernelspec": {
   "display_name": "Python 3",
   "language": "python",
   "name": "python3"
  },
  "language_info": {
   "codemirror_mode": {
    "name": "ipython",
    "version": 3
   },
   "file_extension": ".py",
   "mimetype": "text/x-python",
   "name": "python",
   "nbconvert_exporter": "python",
   "pygments_lexer": "ipython3",
   "version": "3.7.4"
  }
 },
 "nbformat": 4,
 "nbformat_minor": 1
}
